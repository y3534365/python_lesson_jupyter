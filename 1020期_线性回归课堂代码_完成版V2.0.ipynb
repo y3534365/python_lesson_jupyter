{
 "cells": [
  {
   "cell_type": "markdown",
   "metadata": {
    "toc": true
   },
   "source": [
    "<h1>目录<span class=\"tocSkip\"></span></h1>\n",
    "<div class=\"toc\"><ul class=\"toc-item\"><li><span><a href=\"#线性回归API的使用\" data-toc-modified-id=\"线性回归API的使用-1\"><span class=\"toc-item-num\">1&nbsp;&nbsp;</span>线性回归API的使用</a></span></li><li><span><a href=\"#一元线性回归的使用\" data-toc-modified-id=\"一元线性回归的使用-2\"><span class=\"toc-item-num\">2&nbsp;&nbsp;</span>一元线性回归的使用</a></span></li><li><span><a href=\"#线性回归模型的使用\" data-toc-modified-id=\"线性回归模型的使用-3\"><span class=\"toc-item-num\">3&nbsp;&nbsp;</span>线性回归模型的使用</a></span><ul class=\"toc-item\"><li><span><a href=\"#载入数据\" data-toc-modified-id=\"载入数据-3.1\"><span class=\"toc-item-num\">3.1&nbsp;&nbsp;</span>载入数据</a></span></li><li><span><a href=\"#将数据转换成DataFrame进行储存\" data-toc-modified-id=\"将数据转换成DataFrame进行储存-3.2\"><span class=\"toc-item-num\">3.2&nbsp;&nbsp;</span>将数据转换成DataFrame进行储存</a></span></li><li><span><a href=\"#训练集和测试集的拆分\" data-toc-modified-id=\"训练集和测试集的拆分-3.3\"><span class=\"toc-item-num\">3.3&nbsp;&nbsp;</span>训练集和测试集的拆分</a></span></li><li><span><a href=\"#使用线性回归进行建模\" data-toc-modified-id=\"使用线性回归进行建模-3.4\"><span class=\"toc-item-num\">3.4&nbsp;&nbsp;</span>使用线性回归进行建模</a></span></li><li><span><a href=\"#模型评估\" data-toc-modified-id=\"模型评估-3.5\"><span class=\"toc-item-num\">3.5&nbsp;&nbsp;</span>模型评估</a></span></li><li><span><a href=\"#MSE均方误差\" data-toc-modified-id=\"MSE均方误差-3.6\"><span class=\"toc-item-num\">3.6&nbsp;&nbsp;</span>MSE均方误差</a></span></li><li><span><a href=\"#交叉验证中使用MSE作为评估指标\" data-toc-modified-id=\"交叉验证中使用MSE作为评估指标-3.7\"><span class=\"toc-item-num\">3.7&nbsp;&nbsp;</span>交叉验证中使用MSE作为评估指标</a></span></li><li><span><a href=\"#MAE\" data-toc-modified-id=\"MAE-3.8\"><span class=\"toc-item-num\">3.8&nbsp;&nbsp;</span>MAE</a></span></li><li><span><a href=\"#使用R方来衡量模型是否拟合到了足够多的信息\" data-toc-modified-id=\"使用R方来衡量模型是否拟合到了足够多的信息-3.9\"><span class=\"toc-item-num\">3.9&nbsp;&nbsp;</span>使用R方来衡量模型是否拟合到了足够多的信息</a></span></li><li><span><a href=\"#查看模型系数\" data-toc-modified-id=\"查看模型系数-3.10\"><span class=\"toc-item-num\">3.10&nbsp;&nbsp;</span>查看模型系数</a></span></li><li><span><a href=\"#将数据集标准化之后再进行建模\" data-toc-modified-id=\"将数据集标准化之后再进行建模-3.11\"><span class=\"toc-item-num\">3.11&nbsp;&nbsp;</span>将数据集标准化之后再进行建模</a></span></li><li><span><a href=\"#重新采用标准化之后的数据进行建模\" data-toc-modified-id=\"重新采用标准化之后的数据进行建模-3.12\"><span class=\"toc-item-num\">3.12&nbsp;&nbsp;</span>重新采用标准化之后的数据进行建模</a></span></li><li><span><a href=\"#再看一下标准化之后的模型系数的值\" data-toc-modified-id=\"再看一下标准化之后的模型系数的值-3.13\"><span class=\"toc-item-num\">3.13&nbsp;&nbsp;</span>再看一下标准化之后的模型系数的值</a></span></li></ul></li><li><span><a href=\"#多项式拟合的原理\" data-toc-modified-id=\"多项式拟合的原理-4\"><span class=\"toc-item-num\">4&nbsp;&nbsp;</span>多项式拟合的原理</a></span><ul class=\"toc-item\"><li><span><a href=\"#从sin函数中抽取出一个数据集然后进行拟合\" data-toc-modified-id=\"从sin函数中抽取出一个数据集然后进行拟合-4.1\"><span class=\"toc-item-num\">4.1&nbsp;&nbsp;</span>从sin函数中抽取出一个数据集然后进行拟合</a></span></li><li><span><a href=\"#首先不用多项式特征直接用线性回归模型进行拟合\" data-toc-modified-id=\"首先不用多项式特征直接用线性回归模型进行拟合-4.2\"><span class=\"toc-item-num\">4.2&nbsp;&nbsp;</span>首先不用多项式特征直接用线性回归模型进行拟合</a></span></li><li><span><a href=\"#改成多项式再重新进行拟合\" data-toc-modified-id=\"改成多项式再重新进行拟合-4.3\"><span class=\"toc-item-num\">4.3&nbsp;&nbsp;</span>改成多项式再重新进行拟合</a></span></li><li><span><a href=\"#多项式拟合的过程\" data-toc-modified-id=\"多项式拟合的过程-4.4\"><span class=\"toc-item-num\">4.4&nbsp;&nbsp;</span>多项式拟合的过程</a></span></li></ul></li><li><span><a href=\"#多项式回归在房价数据集中的应用\" data-toc-modified-id=\"多项式回归在房价数据集中的应用-5\"><span class=\"toc-item-num\">5&nbsp;&nbsp;</span>多项式回归在房价数据集中的应用</a></span><ul class=\"toc-item\"><li><span><a href=\"#采用多项式方法进行建模\" data-toc-modified-id=\"采用多项式方法进行建模-5.1\"><span class=\"toc-item-num\">5.1&nbsp;&nbsp;</span>采用多项式方法进行建模</a></span></li><li><span><a href=\"#当我们构造多项式之后,线性回归模型的可解释性是否还存在呢?\" data-toc-modified-id=\"当我们构造多项式之后,线性回归模型的可解释性是否还存在呢?-5.2\"><span class=\"toc-item-num\">5.2&nbsp;&nbsp;</span>当我们构造多项式之后,线性回归模型的可解释性是否还存在呢?</a></span></li></ul></li></ul></div>"
   ]
  },
  {
   "cell_type": "markdown",
   "metadata": {},
   "source": [
    "# 线性回归"
   ]
  },
  {
   "cell_type": "markdown",
   "metadata": {},
   "source": [
    "## 线性回归API的使用"
   ]
  },
  {
   "cell_type": "code",
   "execution_count": 1,
   "metadata": {},
   "outputs": [],
   "source": [
    "import numpy as np\n",
    "import pandas as pd\n",
    "import matplotlib.pyplot as plt"
   ]
  },
  {
   "cell_type": "markdown",
   "metadata": {},
   "source": [
    "## 一元线性回归的使用"
   ]
  },
  {
   "cell_type": "code",
   "execution_count": 20,
   "metadata": {},
   "outputs": [
    {
     "data": {
      "text/plain": [
       "array([5.48813504, 7.15189366, 6.02763376, 5.44883183, 4.23654799,\n",
       "       6.45894113, 4.37587211, 8.91773001, 9.63662761, 3.83441519,\n",
       "       7.91725038, 5.2889492 , 5.68044561, 9.25596638, 0.71036058,\n",
       "       0.871293  , 0.20218397, 8.32619846, 7.78156751, 8.70012148,\n",
       "       9.78618342, 7.99158564, 4.61479362, 7.80529176, 1.18274426,\n",
       "       6.39921021, 1.43353287, 9.44668917, 5.21848322, 4.1466194 ,\n",
       "       2.64555612, 7.74233689, 4.56150332, 5.68433949, 0.187898  ,\n",
       "       6.17635497, 6.12095723, 6.16933997, 9.43748079, 6.81820299,\n",
       "       3.59507901, 4.37031954, 6.97631196, 0.60225472, 6.66766715,\n",
       "       6.7063787 , 2.10382561, 1.28926298, 3.15428351, 3.63710771])"
      ]
     },
     "execution_count": 20,
     "metadata": {},
     "output_type": "execute_result"
    }
   ],
   "source": [
    "# 我们生成数据都是使用numpy,\n",
    "# 先生成x坐标,然后使用函数计算y坐标\n",
    "# 给数据添加随机性, 还要添加噪声\n",
    "# 随机在 0-10的范围内生成50个坐标点\n",
    "# low=0.0, high=1.0, size=None\n",
    "np.random.seed(0)\n",
    "x = np.random.uniform(0, 10 , 50) # 均匀分布\n",
    "x"
   ]
  },
  {
   "cell_type": "code",
   "execution_count": 21,
   "metadata": {},
   "outputs": [
    {
     "data": {
      "text/plain": [
       "array([ 5.97627008,  9.30378733,  7.05526752,  5.89766366,  3.47309599,\n",
       "        7.91788226,  3.75174423, 12.83546002, 14.27325521,  2.66883038,\n",
       "       10.83450076,  5.5778984 ,  6.36089122, 13.51193277, -3.57927884,\n",
       "       -3.25741401, -4.59563205, 11.65239691, 10.56313502, 12.40024296,\n",
       "       14.57236684, 10.98317128,  4.22958725, 10.61058353, -2.63451148,\n",
       "        7.79842043, -2.13293425, 13.89337834,  5.43696644,  3.2932388 ,\n",
       "        0.29111224, 10.48467379,  4.12300664,  6.36867898, -4.62420399,\n",
       "        7.35270994,  7.24191445,  7.33867994, 13.87496157,  8.63640598,\n",
       "        2.19015801,  3.74063908,  8.95262392, -3.79549057,  8.33533431,\n",
       "        8.41275739, -0.79234878, -2.42147405,  1.30856702,  2.27421542])"
      ]
     },
     "execution_count": 21,
     "metadata": {},
     "output_type": "execute_result"
    }
   ],
   "source": [
    "y = 2*x - 5 #不添加噪声\n",
    "y"
   ]
  },
  {
   "cell_type": "code",
   "execution_count": 22,
   "metadata": {},
   "outputs": [
    {
     "data": {
      "text/plain": [
       "[<matplotlib.lines.Line2D at 0x121dec950>]"
      ]
     },
     "execution_count": 22,
     "metadata": {},
     "output_type": "execute_result"
    },
    {
     "data": {
      "image/png": "[encoded data removed]",
      "text/plain": [
       "<Figure size 432x288 with 1 Axes>"
      ]
     },
     "metadata": {
      "needs_background": "light"
     },
     "output_type": "display_data"
    }
   ],
   "source": [
    "plt.plot(x,y,'o')"
   ]
  },
  {
   "cell_type": "code",
   "execution_count": 23,
   "metadata": {},
   "outputs": [
    {
     "data": {
      "text/plain": [
       "array([ 5.97627008,  9.30378733,  7.05526752,  5.89766366,  3.47309599,\n",
       "        7.91788226,  3.75174423, 12.83546002, 14.27325521,  2.66883038,\n",
       "       10.83450076,  5.5778984 ,  6.36089122, 13.51193277, -3.57927884,\n",
       "       -3.25741401, -4.59563205, 11.65239691, 10.56313502, 12.40024296,\n",
       "       14.57236684, 10.98317128,  4.22958725, 10.61058353, -2.63451148,\n",
       "        7.79842043, -2.13293425, 13.89337834,  5.43696644,  3.2932388 ,\n",
       "        0.29111224, 10.48467379,  4.12300664,  6.36867898, -4.62420399,\n",
       "        7.35270994,  7.24191445,  7.33867994, 13.87496157,  8.63640598,\n",
       "        2.19015801,  3.74063908,  8.95262392, -3.79549057,  8.33533431,\n",
       "        8.41275739, -0.79234878, -2.42147405,  1.30856702,  2.27421542])"
      ]
     },
     "execution_count": 23,
     "metadata": {},
     "output_type": "execute_result"
    }
   ],
   "source": [
    "y = 2*x - 5 # 噪声一般符合正太分布, 所以我们给数据添加上一个符合正态分布的噪声\n",
    "y"
   ]
  },
  {
   "cell_type": "code",
   "execution_count": 54,
   "metadata": {},
   "outputs": [
    {
     "data": {
      "text/plain": [
       "array([ 5.97627008,  9.30378733,  7.05526752,  5.89766366,  3.47309599,\n",
       "        7.91788226,  3.75174423, 12.83546002, 14.27325521,  2.66883038,\n",
       "       10.83450076,  5.5778984 ,  6.36089122, 13.51193277, -3.57927884,\n",
       "       -3.25741401, -4.59563205, 11.65239691, 10.56313502, 12.40024296,\n",
       "       14.57236684, 10.98317128,  4.22958725, 10.61058353, -2.63451148,\n",
       "        7.79842043, -2.13293425, 13.89337834,  5.43696644,  3.2932388 ,\n",
       "        0.29111224, 10.48467379,  4.12300664,  6.36867898, -4.62420399,\n",
       "        7.35270994,  7.24191445,  7.33867994, 13.87496157,  8.63640598,\n",
       "        2.19015801,  3.74063908,  8.95262392, -3.79549057,  8.33533431,\n",
       "        8.41275739, -0.79234878, -2.42147405,  1.30856702,  2.27421542])"
      ]
     },
     "execution_count": 54,
     "metadata": {},
     "output_type": "execute_result"
    }
   ],
   "source": [
    "y"
   ]
  },
  {
   "cell_type": "code",
   "execution_count": 55,
   "metadata": {},
   "outputs": [
    {
     "data": {
      "text/plain": [
       "array([ 1.76405235,  0.40015721,  0.97873798,  2.2408932 ,  1.86755799,\n",
       "       -0.97727788,  0.95008842, -0.15135721, -0.10321885,  0.4105985 ,\n",
       "        0.14404357,  1.45427351,  0.76103773,  0.12167502,  0.44386323,\n",
       "        0.33367433,  1.49407907, -0.20515826,  0.3130677 , -0.85409574,\n",
       "       -2.55298982,  0.6536186 ,  0.8644362 , -0.74216502,  2.26975462,\n",
       "       -1.45436567,  0.04575852, -0.18718385,  1.53277921,  1.46935877,\n",
       "        0.15494743,  0.37816252, -0.88778575, -1.98079647, -0.34791215,\n",
       "        0.15634897,  1.23029068,  1.20237985, -0.38732682, -0.30230275,\n",
       "       -1.04855297, -1.42001794, -1.70627019,  1.9507754 , -0.50965218,\n",
       "       -0.4380743 , -1.25279536,  0.77749036, -1.61389785, -0.21274028])"
      ]
     },
     "execution_count": 55,
     "metadata": {},
     "output_type": "execute_result"
    }
   ],
   "source": [
    "np.random.seed(0)\n",
    "np.random.randn(50) # 标准正态分布"
   ]
  },
  {
   "cell_type": "code",
   "execution_count": 56,
   "metadata": {},
   "outputs": [],
   "source": [
    "a = np.array([1,2,3])\n",
    "b = np.array([4,5,6])"
   ]
  },
  {
   "cell_type": "code",
   "execution_count": 57,
   "metadata": {},
   "outputs": [
    {
     "data": {
      "text/plain": [
       "array([5, 7, 9])"
      ]
     },
     "execution_count": 57,
     "metadata": {},
     "output_type": "execute_result"
    }
   ],
   "source": [
    "a + b"
   ]
  },
  {
   "cell_type": "code",
   "execution_count": null,
   "metadata": {},
   "outputs": [],
   "source": []
  },
  {
   "cell_type": "code",
   "execution_count": 26,
   "metadata": {},
   "outputs": [
    {
     "data": {
      "text/plain": [
       "array([ 7.74032242,  9.70394454,  8.03400551,  8.13855686,  5.34065398,\n",
       "        6.94060438,  4.70183264, 12.68410281, 14.17003636,  3.07942888,\n",
       "       10.97854433,  7.0321719 ,  7.12192895, 13.63360778, -3.1354156 ,\n",
       "       -2.92373968, -3.10155298, 11.44723865, 10.87620272, 11.54614723,\n",
       "       12.01937703, 11.63678988,  5.09402344,  9.86841851, -0.36475686,\n",
       "        6.34405475, -2.08717573, 13.70619449,  6.96974565,  4.76259757,\n",
       "        0.44605967, 10.86283631,  3.2352209 ,  4.38788251, -4.97211614,\n",
       "        7.50905891,  8.47220514,  8.54105979, 13.48763475,  8.33410323,\n",
       "        1.14160505,  2.32062114,  7.24635373, -1.84471517,  7.82568213,\n",
       "        7.97468309, -2.04514414, -1.64398369, -0.30533083,  2.06147514])"
      ]
     },
     "execution_count": 26,
     "metadata": {},
     "output_type": "execute_result"
    }
   ],
   "source": [
    "np.random.seed(0)\n",
    "y2 = y + np.random.randn(50) # 在数据中添加扰动项, 符合标准正态分布\n",
    "y2"
   ]
  },
  {
   "cell_type": "code",
   "execution_count": 27,
   "metadata": {},
   "outputs": [
    {
     "data": {
      "text/plain": [
       "[<matplotlib.lines.Line2D at 0x121f1c610>]"
      ]
     },
     "execution_count": 27,
     "metadata": {},
     "output_type": "execute_result"
    },
    {
     "data": {
      "image/png": "[encoded data removed]",
      "text/plain": [
       "<Figure size 432x288 with 1 Axes>"
      ]
     },
     "metadata": {
      "needs_background": "light"
     },
     "output_type": "display_data"
    }
   ],
   "source": [
    "plt.plot(x,y2,'o')"
   ]
  },
  {
   "cell_type": "markdown",
   "metadata": {},
   "source": [
    "sklearn.linear_model.LinearRegression\n",
    "\n",
    "参数:\n",
    "\n",
    "fit_intercept\n",
    "bool, optional, default True\n",
    "截距,在拟合的时候,是否拟合截距\n"
   ]
  },
  {
   "cell_type": "code",
   "execution_count": 28,
   "metadata": {},
   "outputs": [],
   "source": [
    "from sklearn.linear_model import LinearRegression"
   ]
  },
  {
   "cell_type": "code",
   "execution_count": 29,
   "metadata": {},
   "outputs": [],
   "source": [
    "# 实例化\n",
    "lr = LinearRegression()"
   ]
  },
  {
   "cell_type": "code",
   "execution_count": 30,
   "metadata": {},
   "outputs": [
    {
     "ename": "ValueError",
     "evalue": "Expected 2D array, got 1D array instead:\narray=[5.48813504 7.15189366 6.02763376 5.44883183 4.23654799 6.45894113\n 4.37587211 8.91773001 9.63662761 3.83441519 7.91725038 5.2889492\n 5.68044561 9.25596638 0.71036058 0.871293   0.20218397 8.32619846\n 7.78156751 8.70012148 9.78618342 7.99158564 4.61479362 7.80529176\n 1.18274426 6.39921021 1.43353287 9.44668917 5.21848322 4.1466194\n 2.64555612 7.74233689 4.56150332 5.68433949 0.187898   6.17635497\n 6.12095723 6.16933997 9.43748079 6.81820299 3.59507901 4.37031954\n 6.97631196 0.60225472 6.66766715 6.7063787  2.10382561 1.28926298\n 3.15428351 3.63710771].\nReshape your data either using array.reshape(-1, 1) if your data has a single feature or array.reshape(1, -1) if it contains a single sample.",
     "output_type": "error",
     "traceback": [
      "\u001b[0;31m---------------------------------------------------------------------------\u001b[0m",
      "\u001b[0;31mValueError\u001b[0m                                Traceback (most recent call last)",
      "\u001b[0;32m<ipython-input-30-04e1992fcede>\u001b[0m in \u001b[0;36m<module>\u001b[0;34m\u001b[0m\n\u001b[0;32m----> 1\u001b[0;31m \u001b[0mlr\u001b[0m\u001b[0;34m.\u001b[0m\u001b[0mfit\u001b[0m\u001b[0;34m(\u001b[0m\u001b[0mx\u001b[0m \u001b[0;34m,\u001b[0m \u001b[0my2\u001b[0m\u001b[0;34m)\u001b[0m\u001b[0;34m\u001b[0m\u001b[0;34m\u001b[0m\u001b[0m\n\u001b[0m",
      "\u001b[0;32m~/opt/anaconda3/lib/python3.7/site-packages/sklearn/linear_model/base.py\u001b[0m in \u001b[0;36mfit\u001b[0;34m(self, X, y, sample_weight)\u001b[0m\n\u001b[1;32m    461\u001b[0m         \u001b[0mn_jobs_\u001b[0m \u001b[0;34m=\u001b[0m \u001b[0mself\u001b[0m\u001b[0;34m.\u001b[0m\u001b[0mn_jobs\u001b[0m\u001b[0;34m\u001b[0m\u001b[0;34m\u001b[0m\u001b[0m\n\u001b[1;32m    462\u001b[0m         X, y = check_X_y(X, y, accept_sparse=['csr', 'csc', 'coo'],\n\u001b[0;32m--> 463\u001b[0;31m                          y_numeric=True, multi_output=True)\n\u001b[0m\u001b[1;32m    464\u001b[0m \u001b[0;34m\u001b[0m\u001b[0m\n\u001b[1;32m    465\u001b[0m         \u001b[0;32mif\u001b[0m \u001b[0msample_weight\u001b[0m \u001b[0;32mis\u001b[0m \u001b[0;32mnot\u001b[0m \u001b[0;32mNone\u001b[0m \u001b[0;32mand\u001b[0m \u001b[0mnp\u001b[0m\u001b[0;34m.\u001b[0m\u001b[0matleast_1d\u001b[0m\u001b[0;34m(\u001b[0m\u001b[0msample_weight\u001b[0m\u001b[0;34m)\u001b[0m\u001b[0;34m.\u001b[0m\u001b[0mndim\u001b[0m \u001b[0;34m>\u001b[0m \u001b[0;36m1\u001b[0m\u001b[0;34m:\u001b[0m\u001b[0;34m\u001b[0m\u001b[0;34m\u001b[0m\u001b[0m\n",
      "\u001b[0;32m~/opt/anaconda3/lib/python3.7/site-packages/sklearn/utils/validation.py\u001b[0m in \u001b[0;36mcheck_X_y\u001b[0;34m(X, y, accept_sparse, accept_large_sparse, dtype, order, copy, force_all_finite, ensure_2d, allow_nd, multi_output, ensure_min_samples, ensure_min_features, y_numeric, warn_on_dtype, estimator)\u001b[0m\n\u001b[1;32m    717\u001b[0m                     \u001b[0mensure_min_features\u001b[0m\u001b[0;34m=\u001b[0m\u001b[0mensure_min_features\u001b[0m\u001b[0;34m,\u001b[0m\u001b[0;34m\u001b[0m\u001b[0;34m\u001b[0m\u001b[0m\n\u001b[1;32m    718\u001b[0m                     \u001b[0mwarn_on_dtype\u001b[0m\u001b[0;34m=\u001b[0m\u001b[0mwarn_on_dtype\u001b[0m\u001b[0;34m,\u001b[0m\u001b[0;34m\u001b[0m\u001b[0;34m\u001b[0m\u001b[0m\n\u001b[0;32m--> 719\u001b[0;31m                     estimator=estimator)\n\u001b[0m\u001b[1;32m    720\u001b[0m     \u001b[0;32mif\u001b[0m \u001b[0mmulti_output\u001b[0m\u001b[0;34m:\u001b[0m\u001b[0;34m\u001b[0m\u001b[0;34m\u001b[0m\u001b[0m\n\u001b[1;32m    721\u001b[0m         y = check_array(y, 'csr', force_all_finite=True, ensure_2d=False,\n",
      "\u001b[0;32m~/opt/anaconda3/lib/python3.7/site-packages/sklearn/utils/validation.py\u001b[0m in \u001b[0;36mcheck_array\u001b[0;34m(array, accept_sparse, accept_large_sparse, dtype, order, copy, force_all_finite, ensure_2d, allow_nd, ensure_min_samples, ensure_min_features, warn_on_dtype, estimator)\u001b[0m\n\u001b[1;32m    519\u001b[0m                     \u001b[0;34m\"Reshape your data either using array.reshape(-1, 1) if \"\u001b[0m\u001b[0;34m\u001b[0m\u001b[0;34m\u001b[0m\u001b[0m\n\u001b[1;32m    520\u001b[0m                     \u001b[0;34m\"your data has a single feature or array.reshape(1, -1) \"\u001b[0m\u001b[0;34m\u001b[0m\u001b[0;34m\u001b[0m\u001b[0m\n\u001b[0;32m--> 521\u001b[0;31m                     \"if it contains a single sample.\".format(array))\n\u001b[0m\u001b[1;32m    522\u001b[0m \u001b[0;34m\u001b[0m\u001b[0m\n\u001b[1;32m    523\u001b[0m         \u001b[0;31m# in the future np.flexible dtypes will be handled like object dtypes\u001b[0m\u001b[0;34m\u001b[0m\u001b[0;34m\u001b[0m\u001b[0;34m\u001b[0m\u001b[0m\n",
      "\u001b[0;31mValueError\u001b[0m: Expected 2D array, got 1D array instead:\narray=[5.48813504 7.15189366 6.02763376 5.44883183 4.23654799 6.45894113\n 4.37587211 8.91773001 9.63662761 3.83441519 7.91725038 5.2889492\n 5.68044561 9.25596638 0.71036058 0.871293   0.20218397 8.32619846\n 7.78156751 8.70012148 9.78618342 7.99158564 4.61479362 7.80529176\n 1.18274426 6.39921021 1.43353287 9.44668917 5.21848322 4.1466194\n 2.64555612 7.74233689 4.56150332 5.68433949 0.187898   6.17635497\n 6.12095723 6.16933997 9.43748079 6.81820299 3.59507901 4.37031954\n 6.97631196 0.60225472 6.66766715 6.7063787  2.10382561 1.28926298\n 3.15428351 3.63710771].\nReshape your data either using array.reshape(-1, 1) if your data has a single feature or array.reshape(1, -1) if it contains a single sample."
     ]
    }
   ],
   "source": [
    "# 如果直接把数据传入进来会报错\n",
    "lr.fit(x , y2)"
   ]
  },
  {
   "cell_type": "code",
   "execution_count": 33,
   "metadata": {},
   "outputs": [
    {
     "data": {
      "text/plain": [
       "(50,)"
      ]
     },
     "execution_count": 33,
     "metadata": {},
     "output_type": "execute_result"
    }
   ],
   "source": [
    "# sklearn需要的x必须是二维数据\n",
    "x.shape"
   ]
  },
  {
   "cell_type": "code",
   "execution_count": 34,
   "metadata": {
    "collapsed": true
   },
   "outputs": [
    {
     "data": {
      "text/plain": [
       "array([[5.48813504],\n",
       "       [7.15189366],\n",
       "       [6.02763376],\n",
       "       [5.44883183],\n",
       "       [4.23654799],\n",
       "       [6.45894113],\n",
       "       [4.37587211],\n",
       "       [8.91773001],\n",
       "       [9.63662761],\n",
       "       [3.83441519],\n",
       "       [7.91725038],\n",
       "       [5.2889492 ],\n",
       "       [5.68044561],\n",
       "       [9.25596638],\n",
       "       [0.71036058],\n",
       "       [0.871293  ],\n",
       "       [0.20218397],\n",
       "       [8.32619846],\n",
       "       [7.78156751],\n",
       "       [8.70012148],\n",
       "       [9.78618342],\n",
       "       [7.99158564],\n",
       "       [4.61479362],\n",
       "       [7.80529176],\n",
       "       [1.18274426],\n",
       "       [6.39921021],\n",
       "       [1.43353287],\n",
       "       [9.44668917],\n",
       "       [5.21848322],\n",
       "       [4.1466194 ],\n",
       "       [2.64555612],\n",
       "       [7.74233689],\n",
       "       [4.56150332],\n",
       "       [5.68433949],\n",
       "       [0.187898  ],\n",
       "       [6.17635497],\n",
       "       [6.12095723],\n",
       "       [6.16933997],\n",
       "       [9.43748079],\n",
       "       [6.81820299],\n",
       "       [3.59507901],\n",
       "       [4.37031954],\n",
       "       [6.97631196],\n",
       "       [0.60225472],\n",
       "       [6.66766715],\n",
       "       [6.7063787 ],\n",
       "       [2.10382561],\n",
       "       [1.28926298],\n",
       "       [3.15428351],\n",
       "       [3.63710771]])"
      ]
     },
     "execution_count": 34,
     "metadata": {},
     "output_type": "execute_result"
    }
   ],
   "source": [
    "# 可以这样变形\n",
    "x.reshape(50,1)"
   ]
  },
  {
   "cell_type": "code",
   "execution_count": 41,
   "metadata": {
    "collapsed": true
   },
   "outputs": [
    {
     "data": {
      "text/plain": [
       "array([[5.48813504],\n",
       "       [7.15189366],\n",
       "       [6.02763376],\n",
       "       [5.44883183],\n",
       "       [4.23654799],\n",
       "       [6.45894113],\n",
       "       [4.37587211],\n",
       "       [8.91773001],\n",
       "       [9.63662761],\n",
       "       [3.83441519],\n",
       "       [7.91725038],\n",
       "       [5.2889492 ],\n",
       "       [5.68044561],\n",
       "       [9.25596638],\n",
       "       [0.71036058],\n",
       "       [0.871293  ],\n",
       "       [0.20218397],\n",
       "       [8.32619846],\n",
       "       [7.78156751],\n",
       "       [8.70012148],\n",
       "       [9.78618342],\n",
       "       [7.99158564],\n",
       "       [4.61479362],\n",
       "       [7.80529176],\n",
       "       [1.18274426],\n",
       "       [6.39921021],\n",
       "       [1.43353287],\n",
       "       [9.44668917],\n",
       "       [5.21848322],\n",
       "       [4.1466194 ],\n",
       "       [2.64555612],\n",
       "       [7.74233689],\n",
       "       [4.56150332],\n",
       "       [5.68433949],\n",
       "       [0.187898  ],\n",
       "       [6.17635497],\n",
       "       [6.12095723],\n",
       "       [6.16933997],\n",
       "       [9.43748079],\n",
       "       [6.81820299],\n",
       "       [3.59507901],\n",
       "       [4.37031954],\n",
       "       [6.97631196],\n",
       "       [0.60225472],\n",
       "       [6.66766715],\n",
       "       [6.7063787 ],\n",
       "       [2.10382561],\n",
       "       [1.28926298],\n",
       "       [3.15428351],\n",
       "       [3.63710771]])"
      ]
     },
     "execution_count": 41,
     "metadata": {},
     "output_type": "execute_result"
    }
   ],
   "source": [
    "# 不管数组如何变形,只要个数不变即可\n",
    "# 其中的一个维度,因为可以自动计算,所以可以省略, 用-1 代替\n",
    "x2 = x.reshape( -1, 1)\n",
    "x2"
   ]
  },
  {
   "cell_type": "code",
   "execution_count": 42,
   "metadata": {},
   "outputs": [
    {
     "data": {
      "text/plain": [
       "LinearRegression(copy_X=True, fit_intercept=True, n_jobs=None, normalize=False)"
      ]
     },
     "execution_count": 42,
     "metadata": {},
     "output_type": "execute_result"
    }
   ],
   "source": [
    "lr.fit(x2, y2) # 训练模型"
   ]
  },
  {
   "cell_type": "markdown",
   "metadata": {},
   "source": [
    "coef_ 学习到的系数\n",
    "\n",
    "intercept_ 截距\n",
    "\n",
    "2x-5"
   ]
  },
  {
   "cell_type": "code",
   "execution_count": 43,
   "metadata": {},
   "outputs": [
    {
     "data": {
      "text/plain": [
       "array([1.87628051])"
      ]
     },
     "execution_count": 43,
     "metadata": {},
     "output_type": "execute_result"
    }
   ],
   "source": [
    "# 学习出来的系数\n",
    "lr.coef_"
   ]
  },
  {
   "cell_type": "code",
   "execution_count": 44,
   "metadata": {},
   "outputs": [
    {
     "data": {
      "text/plain": [
       "-4.193873036278955"
      ]
     },
     "execution_count": 44,
     "metadata": {},
     "output_type": "execute_result"
    }
   ],
   "source": [
    "# 学习出来的截距\n",
    "lr.intercept_"
   ]
  },
  {
   "cell_type": "code",
   "execution_count": 45,
   "metadata": {},
   "outputs": [
    {
     "data": {
      "text/plain": [
       "array([5.48813504, 7.15189366, 6.02763376, 5.44883183, 4.23654799,\n",
       "       6.45894113, 4.37587211, 8.91773001, 9.63662761, 3.83441519,\n",
       "       7.91725038, 5.2889492 , 5.68044561, 9.25596638, 0.71036058,\n",
       "       0.871293  , 0.20218397, 8.32619846, 7.78156751, 8.70012148,\n",
       "       9.78618342, 7.99158564, 4.61479362, 7.80529176, 1.18274426,\n",
       "       6.39921021, 1.43353287, 9.44668917, 5.21848322, 4.1466194 ,\n",
       "       2.64555612, 7.74233689, 4.56150332, 5.68433949, 0.187898  ,\n",
       "       6.17635497, 6.12095723, 6.16933997, 9.43748079, 6.81820299,\n",
       "       3.59507901, 4.37031954, 6.97631196, 0.60225472, 6.66766715,\n",
       "       6.7063787 , 2.10382561, 1.28926298, 3.15428351, 3.63710771])"
      ]
     },
     "execution_count": 45,
     "metadata": {},
     "output_type": "execute_result"
    }
   ],
   "source": [
    "x"
   ]
  },
  {
   "cell_type": "code",
   "execution_count": 46,
   "metadata": {
    "collapsed": true
   },
   "outputs": [
    {
     "data": {
      "text/plain": [
       "array([ 6.10340778,  9.22508567,  7.11565872,  6.02966394,  3.7550794 ,\n",
       "        7.92491233,  4.01649053, 12.53828999, 13.88714354,  3.00056546,\n",
       "       10.66110956,  5.72967927,  6.46423636, 13.17291631, -2.86103732,\n",
       "       -2.55908297, -3.81451919, 11.42841086, 10.40653043, 12.12999535,\n",
       "       14.1677522 , 10.80058336,  4.4647743 , 10.45104379, -1.97471303,\n",
       "        7.81284038, -1.50416324, 13.53076575,  5.59746533,  3.58634813,\n",
       "        0.76993236, 10.33292279,  4.36478675,  6.47154237, -3.84132367,\n",
       "        7.39470143,  7.29075972,  7.38153932, 13.51348824,  8.59898836,\n",
       "        2.55150364,  4.00607234,  8.89564514, -3.06387425,  8.3165409 ,\n",
       "        8.38917462, -0.24650604, -1.77485404,  1.72444764,  2.63036128])"
      ]
     },
     "execution_count": 46,
     "metadata": {},
     "output_type": "execute_result"
    }
   ],
   "source": [
    "y_fit = lr.coef_ * x + lr.intercept_\n",
    "y_fit"
   ]
  },
  {
   "cell_type": "code",
   "execution_count": 51,
   "metadata": {},
   "outputs": [],
   "source": [
    "plt.style.use('seaborn') # 改变画图风格"
   ]
  },
  {
   "cell_type": "code",
   "execution_count": 53,
   "metadata": {},
   "outputs": [
    {
     "data": {
      "text/plain": [
       "[<matplotlib.lines.Line2D at 0x1a25f32c10>]"
      ]
     },
     "execution_count": 53,
     "metadata": {},
     "output_type": "execute_result"
    },
    {
     "data": {
      "image/png": "[encoded data removed]",
      "text/plain": [
       "<Figure size 576x396 with 1 Axes>"
      ]
     },
     "metadata": {},
     "output_type": "display_data"
    }
   ],
   "source": [
    "# 在同一张图片画三张图\n",
    "plt.plot(x,y_fit) # 拟合出来的直线\n",
    "plt.plot(x,y2,'o') # 原来的点\n",
    "plt.plot(x,y,'red')# 原来的直线"
   ]
  },
  {
   "cell_type": "code",
   "execution_count": null,
   "metadata": {},
   "outputs": [],
   "source": []
  },
  {
   "cell_type": "markdown",
   "metadata": {},
   "source": [
    "## 线性回归模型的使用\n",
    "\n",
    "-- 基于加利福尼亚房价数据集"
   ]
  },
  {
   "cell_type": "code",
   "execution_count": 58,
   "metadata": {},
   "outputs": [],
   "source": [
    "from sklearn.linear_model import LinearRegression # 线性回归\n",
    "from sklearn.model_selection import train_test_split\n",
    "from sklearn.model_selection import cross_val_score\n",
    "from sklearn.datasets import fetch_california_housing #加利福尼亚房屋价值数据集"
   ]
  },
  {
   "cell_type": "markdown",
   "metadata": {},
   "source": [
    "### 载入数据"
   ]
  },
  {
   "cell_type": "code",
   "execution_count": 59,
   "metadata": {},
   "outputs": [],
   "source": [
    "house = fetch_california_housing()"
   ]
  },
  {
   "cell_type": "code",
   "execution_count": 60,
   "metadata": {},
   "outputs": [
    {
     "data": {
      "text/plain": [
       "dict_keys(['data', 'target', 'feature_names', 'DESCR'])"
      ]
     },
     "execution_count": 60,
     "metadata": {},
     "output_type": "execute_result"
    }
   ],
   "source": [
    "# 查看里面包含的内容\n",
    "house.keys()"
   ]
  },
  {
   "cell_type": "code",
   "execution_count": 61,
   "metadata": {
    "collapsed": true
   },
   "outputs": [
    {
     "name": "stdout",
     "output_type": "stream",
     "text": [
      ".. _california_housing_dataset:\n",
      "\n",
      "California Housing dataset\n",
      "--------------------------\n",
      "\n",
      "**Data Set Characteristics:**\n",
      "\n",
      "    :Number of Instances: 20640\n",
      "\n",
      "    :Number of Attributes: 8 numeric, predictive attributes and the target\n",
      "\n",
      "    :Attribute Information:\n",
      "        - MedInc        median income in block\n",
      "        - HouseAge      median house age in block\n",
      "        - AveRooms      average number of rooms\n",
      "        - AveBedrms     average number of bedrooms\n",
      "        - Population    block population\n",
      "        - AveOccup      average house occupancy\n",
      "        - Latitude      house block latitude\n",
      "        - Longitude     house block longitude\n",
      "\n",
      "    :Missing Attribute Values: None\n",
      "\n",
      "This dataset was obtained from the StatLib repository.\n",
      "http://lib.stat.cmu.edu/datasets/\n",
      "\n",
      "The target variable is the median house value for California districts.\n",
      "\n",
      "This dataset was derived from the 1990 U.S. census, using one row per census\n",
      "block group. A block group is the smallest geographical unit for which the U.S.\n",
      "Census Bureau publishes sample data (a block group typically has a population\n",
      "of 600 to 3,000 people).\n",
      "\n",
      "It can be downloaded/loaded using the\n",
      ":func:`sklearn.datasets.fetch_california_housing` function.\n",
      "\n",
      ".. topic:: References\n",
      "\n",
      "    - Pace, R. Kelley and Ronald Barry, Sparse Spatial Autoregressions,\n",
      "      Statistics and Probability Letters, 33 (1997) 291-297\n",
      "\n"
     ]
    }
   ],
   "source": [
    "print(house.DESCR) # 打印描述信息"
   ]
  },
  {
   "cell_type": "code",
   "execution_count": 62,
   "metadata": {
    "collapsed": true
   },
   "outputs": [
    {
     "data": {
      "text/plain": [
       "array([[   8.3252    ,   41.        ,    6.98412698, ...,    2.55555556,\n",
       "          37.88      , -122.23      ],\n",
       "       [   8.3014    ,   21.        ,    6.23813708, ...,    2.10984183,\n",
       "          37.86      , -122.22      ],\n",
       "       [   7.2574    ,   52.        ,    8.28813559, ...,    2.80225989,\n",
       "          37.85      , -122.24      ],\n",
       "       ...,\n",
       "       [   1.7       ,   17.        ,    5.20554273, ...,    2.3256351 ,\n",
       "          39.43      , -121.22      ],\n",
       "       [   1.8672    ,   18.        ,    5.32951289, ...,    2.12320917,\n",
       "          39.43      , -121.32      ],\n",
       "       [   2.3886    ,   16.        ,    5.25471698, ...,    2.61698113,\n",
       "          39.37      , -121.24      ]])"
      ]
     },
     "execution_count": 62,
     "metadata": {},
     "output_type": "execute_result"
    }
   ],
   "source": [
    "house.data #  X数据"
   ]
  },
  {
   "cell_type": "code",
   "execution_count": 68,
   "metadata": {},
   "outputs": [
    {
     "data": {
      "text/plain": [
       "(20640, 8)"
      ]
     },
     "execution_count": 68,
     "metadata": {},
     "output_type": "execute_result"
    }
   ],
   "source": [
    "house.data.shape"
   ]
  },
  {
   "cell_type": "code",
   "execution_count": 63,
   "metadata": {},
   "outputs": [
    {
     "data": {
      "text/plain": [
       "array([4.526, 3.585, 3.521, ..., 0.923, 0.847, 0.894])"
      ]
     },
     "execution_count": 63,
     "metadata": {},
     "output_type": "execute_result"
    }
   ],
   "source": [
    "house.target # 监督标签"
   ]
  },
  {
   "cell_type": "code",
   "execution_count": 66,
   "metadata": {},
   "outputs": [
    {
     "data": {
      "text/plain": [
       "['MedInc',\n",
       " 'HouseAge',\n",
       " 'AveRooms',\n",
       " 'AveBedrms',\n",
       " 'Population',\n",
       " 'AveOccup',\n",
       " 'Latitude',\n",
       " 'Longitude']"
      ]
     },
     "execution_count": 66,
     "metadata": {},
     "output_type": "execute_result"
    }
   ],
   "source": [
    "# 8个特征的名称\n",
    "house.feature_names"
   ]
  },
  {
   "cell_type": "code",
   "execution_count": 67,
   "metadata": {},
   "outputs": [],
   "source": [
    "\"\"\"\n",
    "特征解释\n",
    "MedInc：该街区住户的收入中位数\n",
    "HouseAge：该街区房屋使用年代的中位数\n",
    "AveRooms：该街区平均的房间数目\n",
    "AveBedrms：该街区平均的卧室数目\n",
    "Population：街区人口\n",
    "AveOccup：平均入住率\n",
    "Latitude：街区的纬度\n",
    "Longitude：街区的经度\n",
    "\"\"\";"
   ]
  },
  {
   "cell_type": "code",
   "execution_count": null,
   "metadata": {},
   "outputs": [],
   "source": []
  },
  {
   "cell_type": "markdown",
   "metadata": {},
   "source": [
    "### 将数据转换成DataFrame进行储存"
   ]
  },
  {
   "cell_type": "code",
   "execution_count": 69,
   "metadata": {},
   "outputs": [],
   "source": [
    "# 构造成DataFrame\n",
    "X = pd.DataFrame(data = house.data , columns= house.feature_names)"
   ]
  },
  {
   "cell_type": "code",
   "execution_count": 70,
   "metadata": {
    "collapsed": true
   },
   "outputs": [
    {
     "data": {
      "text/html": [
       "<div>\n",
       "<style scoped>\n",
       "    .dataframe tbody tr th:only-of-type {\n",
       "        vertical-align: middle;\n",
       "    }\n",
       "\n",
       "    .dataframe tbody tr th {\n",
       "        vertical-align: top;\n",
       "    }\n",
       "\n",
       "    .dataframe thead th {\n",
       "        text-align: right;\n",
       "    }\n",
       "</style>\n",
       "<table border=\"1\" class=\"dataframe\">\n",
       "  <thead>\n",
       "    <tr style=\"text-align: right;\">\n",
       "      <th></th>\n",
       "      <th>MedInc</th>\n",
       "      <th>HouseAge</th>\n",
       "      <th>AveRooms</th>\n",
       "      <th>AveBedrms</th>\n",
       "      <th>Population</th>\n",
       "      <th>AveOccup</th>\n",
       "      <th>Latitude</th>\n",
       "      <th>Longitude</th>\n",
       "    </tr>\n",
       "  </thead>\n",
       "  <tbody>\n",
       "    <tr>\n",
       "      <td>0</td>\n",
       "      <td>8.3252</td>\n",
       "      <td>41.0</td>\n",
       "      <td>6.984127</td>\n",
       "      <td>1.023810</td>\n",
       "      <td>322.0</td>\n",
       "      <td>2.555556</td>\n",
       "      <td>37.88</td>\n",
       "      <td>-122.23</td>\n",
       "    </tr>\n",
       "    <tr>\n",
       "      <td>1</td>\n",
       "      <td>8.3014</td>\n",
       "      <td>21.0</td>\n",
       "      <td>6.238137</td>\n",
       "      <td>0.971880</td>\n",
       "      <td>2401.0</td>\n",
       "      <td>2.109842</td>\n",
       "      <td>37.86</td>\n",
       "      <td>-122.22</td>\n",
       "    </tr>\n",
       "    <tr>\n",
       "      <td>2</td>\n",
       "      <td>7.2574</td>\n",
       "      <td>52.0</td>\n",
       "      <td>8.288136</td>\n",
       "      <td>1.073446</td>\n",
       "      <td>496.0</td>\n",
       "      <td>2.802260</td>\n",
       "      <td>37.85</td>\n",
       "      <td>-122.24</td>\n",
       "    </tr>\n",
       "    <tr>\n",
       "      <td>3</td>\n",
       "      <td>5.6431</td>\n",
       "      <td>52.0</td>\n",
       "      <td>5.817352</td>\n",
       "      <td>1.073059</td>\n",
       "      <td>558.0</td>\n",
       "      <td>2.547945</td>\n",
       "      <td>37.85</td>\n",
       "      <td>-122.25</td>\n",
       "    </tr>\n",
       "    <tr>\n",
       "      <td>4</td>\n",
       "      <td>3.8462</td>\n",
       "      <td>52.0</td>\n",
       "      <td>6.281853</td>\n",
       "      <td>1.081081</td>\n",
       "      <td>565.0</td>\n",
       "      <td>2.181467</td>\n",
       "      <td>37.85</td>\n",
       "      <td>-122.25</td>\n",
       "    </tr>\n",
       "    <tr>\n",
       "      <td>...</td>\n",
       "      <td>...</td>\n",
       "      <td>...</td>\n",
       "      <td>...</td>\n",
       "      <td>...</td>\n",
       "      <td>...</td>\n",
       "      <td>...</td>\n",
       "      <td>...</td>\n",
       "      <td>...</td>\n",
       "    </tr>\n",
       "    <tr>\n",
       "      <td>20635</td>\n",
       "      <td>1.5603</td>\n",
       "      <td>25.0</td>\n",
       "      <td>5.045455</td>\n",
       "      <td>1.133333</td>\n",
       "      <td>845.0</td>\n",
       "      <td>2.560606</td>\n",
       "      <td>39.48</td>\n",
       "      <td>-121.09</td>\n",
       "    </tr>\n",
       "    <tr>\n",
       "      <td>20636</td>\n",
       "      <td>2.5568</td>\n",
       "      <td>18.0</td>\n",
       "      <td>6.114035</td>\n",
       "      <td>1.315789</td>\n",
       "      <td>356.0</td>\n",
       "      <td>3.122807</td>\n",
       "      <td>39.49</td>\n",
       "      <td>-121.21</td>\n",
       "    </tr>\n",
       "    <tr>\n",
       "      <td>20637</td>\n",
       "      <td>1.7000</td>\n",
       "      <td>17.0</td>\n",
       "      <td>5.205543</td>\n",
       "      <td>1.120092</td>\n",
       "      <td>1007.0</td>\n",
       "      <td>2.325635</td>\n",
       "      <td>39.43</td>\n",
       "      <td>-121.22</td>\n",
       "    </tr>\n",
       "    <tr>\n",
       "      <td>20638</td>\n",
       "      <td>1.8672</td>\n",
       "      <td>18.0</td>\n",
       "      <td>5.329513</td>\n",
       "      <td>1.171920</td>\n",
       "      <td>741.0</td>\n",
       "      <td>2.123209</td>\n",
       "      <td>39.43</td>\n",
       "      <td>-121.32</td>\n",
       "    </tr>\n",
       "    <tr>\n",
       "      <td>20639</td>\n",
       "      <td>2.3886</td>\n",
       "      <td>16.0</td>\n",
       "      <td>5.254717</td>\n",
       "      <td>1.162264</td>\n",
       "      <td>1387.0</td>\n",
       "      <td>2.616981</td>\n",
       "      <td>39.37</td>\n",
       "      <td>-121.24</td>\n",
       "    </tr>\n",
       "  </tbody>\n",
       "</table>\n",
       "<p>20640 rows × 8 columns</p>\n",
       "</div>"
      ],
      "text/plain": [
       "       MedInc  HouseAge  AveRooms  AveBedrms  Population  AveOccup  Latitude  \\\n",
       "0      8.3252      41.0  6.984127   1.023810       322.0  2.555556     37.88   \n",
       "1      8.3014      21.0  6.238137   0.971880      2401.0  2.109842     37.86   \n",
       "2      7.2574      52.0  8.288136   1.073446       496.0  2.802260     37.85   \n",
       "3      5.6431      52.0  5.817352   1.073059       558.0  2.547945     37.85   \n",
       "4      3.8462      52.0  6.281853   1.081081       565.0  2.181467     37.85   \n",
       "...       ...       ...       ...        ...         ...       ...       ...   \n",
       "20635  1.5603      25.0  5.045455   1.133333       845.0  2.560606     39.48   \n",
       "20636  2.5568      18.0  6.114035   1.315789       356.0  3.122807     39.49   \n",
       "20637  1.7000      17.0  5.205543   1.120092      1007.0  2.325635     39.43   \n",
       "20638  1.8672      18.0  5.329513   1.171920       741.0  2.123209     39.43   \n",
       "20639  2.3886      16.0  5.254717   1.162264      1387.0  2.616981     39.37   \n",
       "\n",
       "       Longitude  \n",
       "0        -122.23  \n",
       "1        -122.22  \n",
       "2        -122.24  \n",
       "3        -122.25  \n",
       "4        -122.25  \n",
       "...          ...  \n",
       "20635    -121.09  \n",
       "20636    -121.21  \n",
       "20637    -121.22  \n",
       "20638    -121.32  \n",
       "20639    -121.24  \n",
       "\n",
       "[20640 rows x 8 columns]"
      ]
     },
     "execution_count": 70,
     "metadata": {},
     "output_type": "execute_result"
    }
   ],
   "source": [
    "X"
   ]
  },
  {
   "cell_type": "code",
   "execution_count": 71,
   "metadata": {},
   "outputs": [],
   "source": [
    "y = house.target"
   ]
  },
  {
   "cell_type": "code",
   "execution_count": null,
   "metadata": {},
   "outputs": [],
   "source": []
  },
  {
   "cell_type": "markdown",
   "metadata": {},
   "source": [
    "### 训练集和测试集的拆分"
   ]
  },
  {
   "cell_type": "code",
   "execution_count": 72,
   "metadata": {},
   "outputs": [],
   "source": [
    "# 固定代码\n",
    "X_train, X_test, y_train, y_test = train_test_split(X,y,\n",
    "            test_size=0.3, random_state=666)"
   ]
  },
  {
   "cell_type": "code",
   "execution_count": 73,
   "metadata": {
    "collapsed": true
   },
   "outputs": [
    {
     "data": {
      "text/html": [
       "<div>\n",
       "<style scoped>\n",
       "    .dataframe tbody tr th:only-of-type {\n",
       "        vertical-align: middle;\n",
       "    }\n",
       "\n",
       "    .dataframe tbody tr th {\n",
       "        vertical-align: top;\n",
       "    }\n",
       "\n",
       "    .dataframe thead th {\n",
       "        text-align: right;\n",
       "    }\n",
       "</style>\n",
       "<table border=\"1\" class=\"dataframe\">\n",
       "  <thead>\n",
       "    <tr style=\"text-align: right;\">\n",
       "      <th></th>\n",
       "      <th>MedInc</th>\n",
       "      <th>HouseAge</th>\n",
       "      <th>AveRooms</th>\n",
       "      <th>AveBedrms</th>\n",
       "      <th>Population</th>\n",
       "      <th>AveOccup</th>\n",
       "      <th>Latitude</th>\n",
       "      <th>Longitude</th>\n",
       "    </tr>\n",
       "  </thead>\n",
       "  <tbody>\n",
       "    <tr>\n",
       "      <td>17239</td>\n",
       "      <td>2.5104</td>\n",
       "      <td>30.0</td>\n",
       "      <td>3.916923</td>\n",
       "      <td>1.055385</td>\n",
       "      <td>1082.0</td>\n",
       "      <td>3.329231</td>\n",
       "      <td>34.43</td>\n",
       "      <td>-119.69</td>\n",
       "    </tr>\n",
       "    <tr>\n",
       "      <td>850</td>\n",
       "      <td>3.7462</td>\n",
       "      <td>15.0</td>\n",
       "      <td>4.900314</td>\n",
       "      <td>0.999215</td>\n",
       "      <td>3163.0</td>\n",
       "      <td>2.482732</td>\n",
       "      <td>37.59</td>\n",
       "      <td>-122.05</td>\n",
       "    </tr>\n",
       "    <tr>\n",
       "      <td>13502</td>\n",
       "      <td>2.4444</td>\n",
       "      <td>36.0</td>\n",
       "      <td>6.154122</td>\n",
       "      <td>1.247312</td>\n",
       "      <td>1054.0</td>\n",
       "      <td>3.777778</td>\n",
       "      <td>34.16</td>\n",
       "      <td>-117.35</td>\n",
       "    </tr>\n",
       "    <tr>\n",
       "      <td>2756</td>\n",
       "      <td>1.5931</td>\n",
       "      <td>18.0</td>\n",
       "      <td>3.929654</td>\n",
       "      <td>0.988095</td>\n",
       "      <td>3565.0</td>\n",
       "      <td>3.858225</td>\n",
       "      <td>32.68</td>\n",
       "      <td>-115.50</td>\n",
       "    </tr>\n",
       "    <tr>\n",
       "      <td>184</td>\n",
       "      <td>2.3929</td>\n",
       "      <td>52.0</td>\n",
       "      <td>4.471429</td>\n",
       "      <td>1.067857</td>\n",
       "      <td>844.0</td>\n",
       "      <td>3.014286</td>\n",
       "      <td>37.80</td>\n",
       "      <td>-122.23</td>\n",
       "    </tr>\n",
       "    <tr>\n",
       "      <td>...</td>\n",
       "      <td>...</td>\n",
       "      <td>...</td>\n",
       "      <td>...</td>\n",
       "      <td>...</td>\n",
       "      <td>...</td>\n",
       "      <td>...</td>\n",
       "      <td>...</td>\n",
       "      <td>...</td>\n",
       "    </tr>\n",
       "    <tr>\n",
       "      <td>10654</td>\n",
       "      <td>3.8750</td>\n",
       "      <td>16.0</td>\n",
       "      <td>4.000000</td>\n",
       "      <td>1.000000</td>\n",
       "      <td>15.0</td>\n",
       "      <td>3.000000</td>\n",
       "      <td>33.67</td>\n",
       "      <td>-117.86</td>\n",
       "    </tr>\n",
       "    <tr>\n",
       "      <td>8262</td>\n",
       "      <td>3.1149</td>\n",
       "      <td>45.0</td>\n",
       "      <td>3.715026</td>\n",
       "      <td>1.110535</td>\n",
       "      <td>1047.0</td>\n",
       "      <td>1.808290</td>\n",
       "      <td>33.77</td>\n",
       "      <td>-118.17</td>\n",
       "    </tr>\n",
       "    <tr>\n",
       "      <td>2878</td>\n",
       "      <td>0.9951</td>\n",
       "      <td>42.0</td>\n",
       "      <td>3.963211</td>\n",
       "      <td>1.197324</td>\n",
       "      <td>1038.0</td>\n",
       "      <td>3.471572</td>\n",
       "      <td>35.38</td>\n",
       "      <td>-118.97</td>\n",
       "    </tr>\n",
       "    <tr>\n",
       "      <td>7597</td>\n",
       "      <td>2.1838</td>\n",
       "      <td>32.0</td>\n",
       "      <td>4.057348</td>\n",
       "      <td>0.953405</td>\n",
       "      <td>1211.0</td>\n",
       "      <td>4.340502</td>\n",
       "      <td>33.89</td>\n",
       "      <td>-118.24</td>\n",
       "    </tr>\n",
       "    <tr>\n",
       "      <td>10114</td>\n",
       "      <td>2.2156</td>\n",
       "      <td>26.0</td>\n",
       "      <td>3.773077</td>\n",
       "      <td>1.038462</td>\n",
       "      <td>1236.0</td>\n",
       "      <td>2.376923</td>\n",
       "      <td>33.94</td>\n",
       "      <td>-117.94</td>\n",
       "    </tr>\n",
       "  </tbody>\n",
       "</table>\n",
       "<p>14448 rows × 8 columns</p>\n",
       "</div>"
      ],
      "text/plain": [
       "       MedInc  HouseAge  AveRooms  AveBedrms  Population  AveOccup  Latitude  \\\n",
       "17239  2.5104      30.0  3.916923   1.055385      1082.0  3.329231     34.43   \n",
       "850    3.7462      15.0  4.900314   0.999215      3163.0  2.482732     37.59   \n",
       "13502  2.4444      36.0  6.154122   1.247312      1054.0  3.777778     34.16   \n",
       "2756   1.5931      18.0  3.929654   0.988095      3565.0  3.858225     32.68   \n",
       "184    2.3929      52.0  4.471429   1.067857       844.0  3.014286     37.80   \n",
       "...       ...       ...       ...        ...         ...       ...       ...   \n",
       "10654  3.8750      16.0  4.000000   1.000000        15.0  3.000000     33.67   \n",
       "8262   3.1149      45.0  3.715026   1.110535      1047.0  1.808290     33.77   \n",
       "2878   0.9951      42.0  3.963211   1.197324      1038.0  3.471572     35.38   \n",
       "7597   2.1838      32.0  4.057348   0.953405      1211.0  4.340502     33.89   \n",
       "10114  2.2156      26.0  3.773077   1.038462      1236.0  2.376923     33.94   \n",
       "\n",
       "       Longitude  \n",
       "17239    -119.69  \n",
       "850      -122.05  \n",
       "13502    -117.35  \n",
       "2756     -115.50  \n",
       "184      -122.23  \n",
       "...          ...  \n",
       "10654    -117.86  \n",
       "8262     -118.17  \n",
       "2878     -118.97  \n",
       "7597     -118.24  \n",
       "10114    -117.94  \n",
       "\n",
       "[14448 rows x 8 columns]"
      ]
     },
     "execution_count": 73,
     "metadata": {},
     "output_type": "execute_result"
    }
   ],
   "source": [
    "X_train"
   ]
  },
  {
   "cell_type": "code",
   "execution_count": 74,
   "metadata": {},
   "outputs": [
    {
     "data": {
      "text/html": [
       "<div>\n",
       "<style scoped>\n",
       "    .dataframe tbody tr th:only-of-type {\n",
       "        vertical-align: middle;\n",
       "    }\n",
       "\n",
       "    .dataframe tbody tr th {\n",
       "        vertical-align: top;\n",
       "    }\n",
       "\n",
       "    .dataframe thead th {\n",
       "        text-align: right;\n",
       "    }\n",
       "</style>\n",
       "<table border=\"1\" class=\"dataframe\">\n",
       "  <thead>\n",
       "    <tr style=\"text-align: right;\">\n",
       "      <th></th>\n",
       "      <th>MedInc</th>\n",
       "      <th>HouseAge</th>\n",
       "      <th>AveRooms</th>\n",
       "      <th>AveBedrms</th>\n",
       "      <th>Population</th>\n",
       "      <th>AveOccup</th>\n",
       "      <th>Latitude</th>\n",
       "      <th>Longitude</th>\n",
       "    </tr>\n",
       "  </thead>\n",
       "  <tbody>\n",
       "    <tr>\n",
       "      <td>6015</td>\n",
       "      <td>3.7933</td>\n",
       "      <td>34.0</td>\n",
       "      <td>5.327869</td>\n",
       "      <td>1.049180</td>\n",
       "      <td>870.0</td>\n",
       "      <td>4.754098</td>\n",
       "      <td>34.07</td>\n",
       "      <td>-117.79</td>\n",
       "    </tr>\n",
       "    <tr>\n",
       "      <td>16296</td>\n",
       "      <td>2.4010</td>\n",
       "      <td>37.0</td>\n",
       "      <td>4.492582</td>\n",
       "      <td>1.000000</td>\n",
       "      <td>1121.0</td>\n",
       "      <td>3.326409</td>\n",
       "      <td>37.97</td>\n",
       "      <td>-121.22</td>\n",
       "    </tr>\n",
       "    <tr>\n",
       "      <td>20597</td>\n",
       "      <td>2.1111</td>\n",
       "      <td>33.0</td>\n",
       "      <td>4.927273</td>\n",
       "      <td>0.981818</td>\n",
       "      <td>888.0</td>\n",
       "      <td>2.306494</td>\n",
       "      <td>39.16</td>\n",
       "      <td>-121.58</td>\n",
       "    </tr>\n",
       "    <tr>\n",
       "      <td>11111</td>\n",
       "      <td>3.5329</td>\n",
       "      <td>31.0</td>\n",
       "      <td>4.500000</td>\n",
       "      <td>1.030837</td>\n",
       "      <td>1524.0</td>\n",
       "      <td>3.356828</td>\n",
       "      <td>33.84</td>\n",
       "      <td>-117.90</td>\n",
       "    </tr>\n",
       "    <tr>\n",
       "      <td>3300</td>\n",
       "      <td>2.3179</td>\n",
       "      <td>14.0</td>\n",
       "      <td>6.138298</td>\n",
       "      <td>1.418440</td>\n",
       "      <td>638.0</td>\n",
       "      <td>2.262411</td>\n",
       "      <td>38.94</td>\n",
       "      <td>-122.62</td>\n",
       "    </tr>\n",
       "    <tr>\n",
       "      <td>...</td>\n",
       "      <td>...</td>\n",
       "      <td>...</td>\n",
       "      <td>...</td>\n",
       "      <td>...</td>\n",
       "      <td>...</td>\n",
       "      <td>...</td>\n",
       "      <td>...</td>\n",
       "      <td>...</td>\n",
       "    </tr>\n",
       "    <tr>\n",
       "      <td>482</td>\n",
       "      <td>3.1500</td>\n",
       "      <td>52.0</td>\n",
       "      <td>4.765714</td>\n",
       "      <td>1.062857</td>\n",
       "      <td>494.0</td>\n",
       "      <td>2.822857</td>\n",
       "      <td>37.86</td>\n",
       "      <td>-122.27</td>\n",
       "    </tr>\n",
       "    <tr>\n",
       "      <td>4584</td>\n",
       "      <td>1.4940</td>\n",
       "      <td>45.0</td>\n",
       "      <td>1.768025</td>\n",
       "      <td>1.106583</td>\n",
       "      <td>1172.0</td>\n",
       "      <td>3.673981</td>\n",
       "      <td>34.06</td>\n",
       "      <td>-118.27</td>\n",
       "    </tr>\n",
       "    <tr>\n",
       "      <td>20248</td>\n",
       "      <td>8.0000</td>\n",
       "      <td>28.0</td>\n",
       "      <td>2.888889</td>\n",
       "      <td>0.333333</td>\n",
       "      <td>29.0</td>\n",
       "      <td>3.222222</td>\n",
       "      <td>34.25</td>\n",
       "      <td>-119.23</td>\n",
       "    </tr>\n",
       "    <tr>\n",
       "      <td>3382</td>\n",
       "      <td>4.6635</td>\n",
       "      <td>35.0</td>\n",
       "      <td>5.193333</td>\n",
       "      <td>0.953333</td>\n",
       "      <td>371.0</td>\n",
       "      <td>2.473333</td>\n",
       "      <td>34.25</td>\n",
       "      <td>-118.27</td>\n",
       "    </tr>\n",
       "    <tr>\n",
       "      <td>19427</td>\n",
       "      <td>2.2500</td>\n",
       "      <td>52.0</td>\n",
       "      <td>3.090909</td>\n",
       "      <td>0.696970</td>\n",
       "      <td>35.0</td>\n",
       "      <td>1.060606</td>\n",
       "      <td>37.71</td>\n",
       "      <td>-121.00</td>\n",
       "    </tr>\n",
       "  </tbody>\n",
       "</table>\n",
       "<p>6192 rows × 8 columns</p>\n",
       "</div>"
      ],
      "text/plain": [
       "       MedInc  HouseAge  AveRooms  AveBedrms  Population  AveOccup  Latitude  \\\n",
       "6015   3.7933      34.0  5.327869   1.049180       870.0  4.754098     34.07   \n",
       "16296  2.4010      37.0  4.492582   1.000000      1121.0  3.326409     37.97   \n",
       "20597  2.1111      33.0  4.927273   0.981818       888.0  2.306494     39.16   \n",
       "11111  3.5329      31.0  4.500000   1.030837      1524.0  3.356828     33.84   \n",
       "3300   2.3179      14.0  6.138298   1.418440       638.0  2.262411     38.94   \n",
       "...       ...       ...       ...        ...         ...       ...       ...   \n",
       "482    3.1500      52.0  4.765714   1.062857       494.0  2.822857     37.86   \n",
       "4584   1.4940      45.0  1.768025   1.106583      1172.0  3.673981     34.06   \n",
       "20248  8.0000      28.0  2.888889   0.333333        29.0  3.222222     34.25   \n",
       "3382   4.6635      35.0  5.193333   0.953333       371.0  2.473333     34.25   \n",
       "19427  2.2500      52.0  3.090909   0.696970        35.0  1.060606     37.71   \n",
       "\n",
       "       Longitude  \n",
       "6015     -117.79  \n",
       "16296    -121.22  \n",
       "20597    -121.58  \n",
       "11111    -117.90  \n",
       "3300     -122.62  \n",
       "...          ...  \n",
       "482      -122.27  \n",
       "4584     -118.27  \n",
       "20248    -119.23  \n",
       "3382     -118.27  \n",
       "19427    -121.00  \n",
       "\n",
       "[6192 rows x 8 columns]"
      ]
     },
     "execution_count": 74,
     "metadata": {},
     "output_type": "execute_result"
    }
   ],
   "source": [
    "X_test"
   ]
  },
  {
   "cell_type": "markdown",
   "metadata": {},
   "source": [
    "### 使用线性回归进行建模"
   ]
  },
  {
   "cell_type": "code",
   "execution_count": 75,
   "metadata": {},
   "outputs": [],
   "source": [
    "# 实例化\n",
    "lr = LinearRegression()"
   ]
  },
  {
   "cell_type": "code",
   "execution_count": 76,
   "metadata": {},
   "outputs": [
    {
     "data": {
      "text/plain": [
       "LinearRegression(copy_X=True, fit_intercept=True, n_jobs=None, normalize=False)"
      ]
     },
     "execution_count": 76,
     "metadata": {},
     "output_type": "execute_result"
    }
   ],
   "source": [
    "lr.fit(X_train, y_train)"
   ]
  },
  {
   "cell_type": "code",
   "execution_count": null,
   "metadata": {},
   "outputs": [],
   "source": []
  },
  {
   "cell_type": "markdown",
   "metadata": {},
   "source": [
    "### 模型评估\n",
    "\n",
    "看一下模型好不好\n",
    "\n",
    "MSE,MAE,R方"
   ]
  },
  {
   "cell_type": "markdown",
   "metadata": {},
   "source": [
    "### MSE均方误差\n",
    "\n",
    "模型有一个预测值, 然后监督标签有一个真实值, 预测值和真实值之间的差,就是模型预测偏了的部分,我们把这部分叫做残差.\n",
    "\n",
    "把所有样本的残差平方之后加和到一起,得到的就叫做残差平方和.\n",
    "\n",
    "残差平方和有一个问题,就是随着样本越多, 残差平方和就会越大.所以说没有办法评估模型的好坏.\n",
    "\n",
    "所以我们求一个平均值,代表了平均一个样本的残差平方. 就叫做MSE.\n",
    "\n",
    "sklearn中使用RSS的变体，均方误差MSE（mean squared error）来衡量我们的预测值和真实值的差异：\n",
    "\n",
    "$$\n",
    "MSE = \\frac{1}{m}\\sum_{i=1}^{m}({y_i} - {\\hat{y}_i})^2\n",
    "$$\n",
    "\n",
    "在sklearn当中，我们有两种方式调用这个评估指标，一种是使用sklearn专用的模型评估模块metrics里的类mean_squared_error，另一种是调用交叉验证的类cross_val_score并使用里面的scoring参数来设置使用均方误差。\n",
    "\n",
    "sklearn所有的模型评估指标,都在 metrics模块下面 , 所以我们在里面找到MSE即可.\n",
    "\n",
    "Classification metrics 分类模型评估指标\n",
    "\n",
    "Regression metrics 回归模型指标\n",
    "\n",
    "Clustering metrics 聚类指标\n",
    "\n",
    "我们这里面应用的是回归指标,所以在Regression metrics中进行查找\n",
    "\n",
    "则找到这个 sklearn.metrics.mean_squared_error"
   ]
  },
  {
   "cell_type": "code",
   "execution_count": 77,
   "metadata": {},
   "outputs": [],
   "source": [
    "# 导入API\n",
    "from sklearn.metrics import mean_squared_error"
   ]
  },
  {
   "cell_type": "code",
   "execution_count": 78,
   "metadata": {},
   "outputs": [],
   "source": [
    "# 先传入真实值, 在传入预测值\n",
    "# 真实值我们已经有了, 那么在使用这些指标之前,我们需要先获取 模型对于数据的预测值\n",
    "y_train_pred = lr.predict(X_train)\n",
    "y_test_pred = lr.predict(X_test)"
   ]
  },
  {
   "cell_type": "code",
   "execution_count": 80,
   "metadata": {},
   "outputs": [
    {
     "data": {
      "text/plain": [
       "(14448,)"
      ]
     },
     "execution_count": 80,
     "metadata": {},
     "output_type": "execute_result"
    }
   ],
   "source": [
    "y_train_pred.shape"
   ]
  },
  {
   "cell_type": "code",
   "execution_count": 81,
   "metadata": {},
   "outputs": [
    {
     "data": {
      "text/plain": [
       "(6192,)"
      ]
     },
     "execution_count": 81,
     "metadata": {},
     "output_type": "execute_result"
    }
   ],
   "source": [
    "y_test_pred.shape"
   ]
  },
  {
   "cell_type": "code",
   "execution_count": 82,
   "metadata": {},
   "outputs": [
    {
     "data": {
      "text/plain": [
       "0.5269224022806525"
      ]
     },
     "execution_count": 82,
     "metadata": {},
     "output_type": "execute_result"
    }
   ],
   "source": [
    "# 看一下模型在训练集上面的MSE\n",
    "mean_squared_error(y_train , y_train_pred)"
   ]
  },
  {
   "cell_type": "code",
   "execution_count": 83,
   "metadata": {},
   "outputs": [
    {
     "data": {
      "text/plain": [
       "0.5208993613292042"
      ]
     },
     "execution_count": 83,
     "metadata": {},
     "output_type": "execute_result"
    }
   ],
   "source": [
    "# 看一下模型在测试集上面的MSE\n",
    "mean_squared_error(y_test , y_test_pred)"
   ]
  },
  {
   "cell_type": "code",
   "execution_count": null,
   "metadata": {},
   "outputs": [],
   "source": []
  },
  {
   "cell_type": "markdown",
   "metadata": {},
   "source": [
    "### 交叉验证中使用MSE作为评估指标"
   ]
  },
  {
   "cell_type": "code",
   "execution_count": 84,
   "metadata": {},
   "outputs": [],
   "source": [
    "from sklearn.model_selection import cross_val_score"
   ]
  },
  {
   "cell_type": "code",
   "execution_count": null,
   "metadata": {},
   "outputs": [],
   "source": [
    "#   estimator,\n",
    "#     X,\n",
    "#     y=None,\n",
    "#     scoring=None, 评估指标\n",
    "#     cv='warn',\n",
    "\n",
    "#  对于分类模型: 默认的评估指标是  准确率\n",
    "# 对于回归模型: 默认的评估指标是  R方\n",
    "# 对于聚类模型: 默认的应该是 inertia  和簇中心的距离平方和"
   ]
  },
  {
   "cell_type": "code",
   "execution_count": 86,
   "metadata": {
    "collapsed": true
   },
   "outputs": [
    {
     "ename": "ValueError",
     "evalue": "'mean_squared_error' is not a valid scoring value. Use sorted(sklearn.metrics.SCORERS.keys()) to get valid options.",
     "output_type": "error",
     "traceback": [
      "\u001b[0;31m---------------------------------------------------------------------------\u001b[0m",
      "\u001b[0;31mKeyError\u001b[0m                                  Traceback (most recent call last)",
      "\u001b[0;32m~/opt/anaconda3/lib/python3.7/site-packages/sklearn/metrics/scorer.py\u001b[0m in \u001b[0;36mget_scorer\u001b[0;34m(scoring)\u001b[0m\n\u001b[1;32m    227\u001b[0m         \u001b[0;32mtry\u001b[0m\u001b[0;34m:\u001b[0m\u001b[0;34m\u001b[0m\u001b[0;34m\u001b[0m\u001b[0m\n\u001b[0;32m--> 228\u001b[0;31m             \u001b[0mscorer\u001b[0m \u001b[0;34m=\u001b[0m \u001b[0mSCORERS\u001b[0m\u001b[0;34m[\u001b[0m\u001b[0mscoring\u001b[0m\u001b[0;34m]\u001b[0m\u001b[0;34m\u001b[0m\u001b[0;34m\u001b[0m\u001b[0m\n\u001b[0m\u001b[1;32m    229\u001b[0m         \u001b[0;32mexcept\u001b[0m \u001b[0mKeyError\u001b[0m\u001b[0;34m:\u001b[0m\u001b[0;34m\u001b[0m\u001b[0;34m\u001b[0m\u001b[0m\n",
      "\u001b[0;31mKeyError\u001b[0m: 'mean_squared_error'",
      "\nDuring handling of the above exception, another exception occurred:\n",
      "\u001b[0;31mValueError\u001b[0m                                Traceback (most recent call last)",
      "\u001b[0;32m<ipython-input-86-d284acf83e99>\u001b[0m in \u001b[0;36m<module>\u001b[0;34m\u001b[0m\n\u001b[0;32m----> 1\u001b[0;31m \u001b[0mcross_val_score\u001b[0m\u001b[0;34m(\u001b[0m\u001b[0mlr\u001b[0m\u001b[0;34m,\u001b[0m \u001b[0mX_train\u001b[0m\u001b[0;34m,\u001b[0m \u001b[0my_train\u001b[0m \u001b[0;34m,\u001b[0m \u001b[0mcv\u001b[0m \u001b[0;34m=\u001b[0m\u001b[0;36m5\u001b[0m \u001b[0;34m,\u001b[0m \u001b[0mscoring\u001b[0m\u001b[0;34m=\u001b[0m\u001b[0;34m'mean_squared_error'\u001b[0m\u001b[0;34m)\u001b[0m\u001b[0;34m\u001b[0m\u001b[0;34m\u001b[0m\u001b[0m\n\u001b[0m\u001b[1;32m      2\u001b[0m \u001b[0;31m# 直接这样写会报错\u001b[0m\u001b[0;34m\u001b[0m\u001b[0;34m\u001b[0m\u001b[0;34m\u001b[0m\u001b[0m\n",
      "\u001b[0;32m~/opt/anaconda3/lib/python3.7/site-packages/sklearn/model_selection/_validation.py\u001b[0m in \u001b[0;36mcross_val_score\u001b[0;34m(estimator, X, y, groups, scoring, cv, n_jobs, verbose, fit_params, pre_dispatch, error_score)\u001b[0m\n\u001b[1;32m    382\u001b[0m     \"\"\"\n\u001b[1;32m    383\u001b[0m     \u001b[0;31m# To ensure multimetric format is not supported\u001b[0m\u001b[0;34m\u001b[0m\u001b[0;34m\u001b[0m\u001b[0;34m\u001b[0m\u001b[0m\n\u001b[0;32m--> 384\u001b[0;31m     \u001b[0mscorer\u001b[0m \u001b[0;34m=\u001b[0m \u001b[0mcheck_scoring\u001b[0m\u001b[0;34m(\u001b[0m\u001b[0mestimator\u001b[0m\u001b[0;34m,\u001b[0m \u001b[0mscoring\u001b[0m\u001b[0;34m=\u001b[0m\u001b[0mscoring\u001b[0m\u001b[0;34m)\u001b[0m\u001b[0;34m\u001b[0m\u001b[0;34m\u001b[0m\u001b[0m\n\u001b[0m\u001b[1;32m    385\u001b[0m \u001b[0;34m\u001b[0m\u001b[0m\n\u001b[1;32m    386\u001b[0m     cv_results = cross_validate(estimator=estimator, X=X, y=y, groups=groups,\n",
      "\u001b[0;32m~/opt/anaconda3/lib/python3.7/site-packages/sklearn/metrics/scorer.py\u001b[0m in \u001b[0;36mcheck_scoring\u001b[0;34m(estimator, scoring, allow_none)\u001b[0m\n\u001b[1;32m    270\u001b[0m                         \"'fit' method, %r was passed\" % estimator)\n\u001b[1;32m    271\u001b[0m     \u001b[0;32mif\u001b[0m \u001b[0misinstance\u001b[0m\u001b[0;34m(\u001b[0m\u001b[0mscoring\u001b[0m\u001b[0;34m,\u001b[0m \u001b[0mstr\u001b[0m\u001b[0;34m)\u001b[0m\u001b[0;34m:\u001b[0m\u001b[0;34m\u001b[0m\u001b[0;34m\u001b[0m\u001b[0m\n\u001b[0;32m--> 272\u001b[0;31m         \u001b[0;32mreturn\u001b[0m \u001b[0mget_scorer\u001b[0m\u001b[0;34m(\u001b[0m\u001b[0mscoring\u001b[0m\u001b[0;34m)\u001b[0m\u001b[0;34m\u001b[0m\u001b[0;34m\u001b[0m\u001b[0m\n\u001b[0m\u001b[1;32m    273\u001b[0m     \u001b[0;32melif\u001b[0m \u001b[0mcallable\u001b[0m\u001b[0;34m(\u001b[0m\u001b[0mscoring\u001b[0m\u001b[0;34m)\u001b[0m\u001b[0;34m:\u001b[0m\u001b[0;34m\u001b[0m\u001b[0;34m\u001b[0m\u001b[0m\n\u001b[1;32m    274\u001b[0m         \u001b[0;31m# Heuristic to ensure user has not passed a metric\u001b[0m\u001b[0;34m\u001b[0m\u001b[0;34m\u001b[0m\u001b[0;34m\u001b[0m\u001b[0m\n",
      "\u001b[0;32m~/opt/anaconda3/lib/python3.7/site-packages/sklearn/metrics/scorer.py\u001b[0m in \u001b[0;36mget_scorer\u001b[0;34m(scoring)\u001b[0m\n\u001b[1;32m    230\u001b[0m             raise ValueError('%r is not a valid scoring value. '\n\u001b[1;32m    231\u001b[0m                              \u001b[0;34m'Use sorted(sklearn.metrics.SCORERS.keys()) '\u001b[0m\u001b[0;34m\u001b[0m\u001b[0;34m\u001b[0m\u001b[0m\n\u001b[0;32m--> 232\u001b[0;31m                              'to get valid options.' % (scoring))\n\u001b[0m\u001b[1;32m    233\u001b[0m     \u001b[0;32melse\u001b[0m\u001b[0;34m:\u001b[0m\u001b[0;34m\u001b[0m\u001b[0;34m\u001b[0m\u001b[0m\n\u001b[1;32m    234\u001b[0m         \u001b[0mscorer\u001b[0m \u001b[0;34m=\u001b[0m \u001b[0mscoring\u001b[0m\u001b[0;34m\u001b[0m\u001b[0;34m\u001b[0m\u001b[0m\n",
      "\u001b[0;31mValueError\u001b[0m: 'mean_squared_error' is not a valid scoring value. Use sorted(sklearn.metrics.SCORERS.keys()) to get valid options."
     ]
    }
   ],
   "source": [
    "cross_val_score(lr, X_train, y_train , cv =5 , scoring='mean_squared_error')\n",
    "# 直接这样写会报错"
   ]
  },
  {
   "cell_type": "code",
   "execution_count": 90,
   "metadata": {
    "collapsed": true
   },
   "outputs": [
    {
     "data": {
      "text/plain": [
       "['accuracy',\n",
       " 'adjusted_mutual_info_score',\n",
       " 'adjusted_rand_score',\n",
       " 'average_precision',\n",
       " 'balanced_accuracy',\n",
       " 'brier_score_loss',\n",
       " 'completeness_score',\n",
       " 'explained_variance',\n",
       " 'f1',\n",
       " 'f1_macro',\n",
       " 'f1_micro',\n",
       " 'f1_samples',\n",
       " 'f1_weighted',\n",
       " 'fowlkes_mallows_score',\n",
       " 'homogeneity_score',\n",
       " 'jaccard',\n",
       " 'jaccard_macro',\n",
       " 'jaccard_micro',\n",
       " 'jaccard_samples',\n",
       " 'jaccard_weighted',\n",
       " 'max_error',\n",
       " 'mutual_info_score',\n",
       " 'neg_log_loss',\n",
       " 'neg_mean_absolute_error',\n",
       " 'neg_mean_squared_error',\n",
       " 'neg_mean_squared_log_error',\n",
       " 'neg_median_absolute_error',\n",
       " 'normalized_mutual_info_score',\n",
       " 'precision',\n",
       " 'precision_macro',\n",
       " 'precision_micro',\n",
       " 'precision_samples',\n",
       " 'precision_weighted',\n",
       " 'r2',\n",
       " 'recall',\n",
       " 'recall_macro',\n",
       " 'recall_micro',\n",
       " 'recall_samples',\n",
       " 'recall_weighted',\n",
       " 'roc_auc',\n",
       " 'v_measure_score']"
      ]
     },
     "execution_count": 90,
     "metadata": {},
     "output_type": "execute_result"
    }
   ],
   "source": [
    "import sklearn\n",
    "# 交叉验证评估指标的保存地点\n",
    "sorted(sklearn.metrics.SCORERS.keys())"
   ]
  },
  {
   "cell_type": "markdown",
   "metadata": {},
   "source": [
    "我们看到,均方误差都是负的值\n",
    "\n",
    "虽然均方误差,从公式角度来看应该永远为正，\n",
    "但是sklearn中的参数scoring下，均方误差作为评判标准时，却是计算”负均方误差“（neg_mean_squared_error）。\n",
    "\n",
    "这是因为sklearn在计算模型评估指标的时候，会考虑指标本身的性质，均方误差本身是一种误差，所以被sklearn划分为模型的一种损失(loss)。\n",
    "\n",
    "在sklearn当中，所有的损失都使用负数表示，因此均方误差也被显示为负数了。真正的均方误差MSE的数值，其实就是neg_mean_squared_error去掉负号的数字。"
   ]
  },
  {
   "cell_type": "code",
   "execution_count": 91,
   "metadata": {},
   "outputs": [
    {
     "data": {
      "text/plain": [
       "array([-0.51859082, -0.52152186, -0.49980629, -0.55023763, -0.56766067])"
      ]
     },
     "execution_count": 91,
     "metadata": {},
     "output_type": "execute_result"
    }
   ],
   "source": [
    "# 使用MSE作为评估指标的交叉验证\n",
    "cross_val_score(lr, X_train, y_train , cv =5 , scoring='neg_mean_squared_error')"
   ]
  },
  {
   "cell_type": "code",
   "execution_count": 92,
   "metadata": {},
   "outputs": [
    {
     "data": {
      "text/plain": [
       "-0.5315634547894688"
      ]
     },
     "execution_count": 92,
     "metadata": {},
     "output_type": "execute_result"
    }
   ],
   "source": [
    "# 取五次测量平均值作为最终结果\n",
    "cross_val_score(lr, X_train, y_train , cv =5 , scoring='neg_mean_squared_error').mean()"
   ]
  },
  {
   "cell_type": "markdown",
   "metadata": {},
   "source": [
    "### MAE\n",
    "\n",
    "MAE（Mean absolute error，绝对均值误差）\n",
    "\n",
    "除了MSE，我们还有与MSE类似的MAE（Mean absolute error，绝对均值误差）：\n",
    "\n",
    "$$\n",
    "MAE = \\frac{1}{m}\\sum_{i=0}^{m-1}|{y_i} - {\\hat{y}_i}|\n",
    "$$\n",
    "\n",
    "其表达的概念与均方误差完全一致，不过在真实标签和预测值之间的差异外我们使用的是L1范式（绝对值）。\n",
    "\n",
    "使用中，MSE和MAE选一个来使用就好了。\n",
    "\n",
    "在sklearn当中，我们使用命令\n",
    "from sklearn.metrics import mean_absolute_error来调用MAE，同时，我们也可以使用交叉验证中的\n",
    "scoring = \"neg_mean_absolute_error\"，以此在交叉验证时调用MAE。"
   ]
  },
  {
   "cell_type": "code",
   "execution_count": 93,
   "metadata": {},
   "outputs": [],
   "source": [
    "# 导入API\n",
    "from sklearn.metrics import mean_absolute_error"
   ]
  },
  {
   "cell_type": "code",
   "execution_count": 94,
   "metadata": {},
   "outputs": [
    {
     "data": {
      "text/plain": [
       "0.5332743844219638"
      ]
     },
     "execution_count": 94,
     "metadata": {},
     "output_type": "execute_result"
    }
   ],
   "source": [
    "# 看一下模型在训练集上面的MSE\n",
    "mean_absolute_error(y_train , y_train_pred)"
   ]
  },
  {
   "cell_type": "code",
   "execution_count": 95,
   "metadata": {},
   "outputs": [
    {
     "data": {
      "text/plain": [
       "0.5289096689562117"
      ]
     },
     "execution_count": 95,
     "metadata": {},
     "output_type": "execute_result"
    }
   ],
   "source": [
    "# 看一下模型在测试集上面的MSE\n",
    "mean_absolute_error(y_test , y_test_pred)"
   ]
  },
  {
   "cell_type": "code",
   "execution_count": 96,
   "metadata": {},
   "outputs": [
    {
     "data": {
      "text/plain": [
       "array([-0.5297437 , -0.53773556, -0.5118876 , -0.53926606, -0.55031931])"
      ]
     },
     "execution_count": 96,
     "metadata": {},
     "output_type": "execute_result"
    }
   ],
   "source": [
    "# 使用MAE作为评估指标的交叉验证\n",
    "cross_val_score(lr, X_train, y_train , cv =5 , scoring='neg_mean_absolute_error')"
   ]
  },
  {
   "cell_type": "code",
   "execution_count": 97,
   "metadata": {},
   "outputs": [
    {
     "data": {
      "text/plain": [
       "-0.5337904479688287"
      ]
     },
     "execution_count": 97,
     "metadata": {},
     "output_type": "execute_result"
    }
   ],
   "source": [
    "# 取五次测量平均值作为最终结果\n",
    "cross_val_score(lr, X_train, y_train , cv =5 , scoring='neg_mean_absolute_error').mean()"
   ]
  },
  {
   "cell_type": "code",
   "execution_count": 98,
   "metadata": {},
   "outputs": [
    {
     "data": {
      "text/plain": [
       "array([1.161, 0.584, 0.687, ..., 2.75 , 2.301, 1.75 ])"
      ]
     },
     "execution_count": 98,
     "metadata": {},
     "output_type": "execute_result"
    }
   ],
   "source": [
    "y_test"
   ]
  },
  {
   "cell_type": "code",
   "execution_count": 99,
   "metadata": {},
   "outputs": [
    {
     "data": {
      "text/plain": [
       "array([1.94861414, 1.28751704, 0.72952491, ..., 4.13182042, 2.43947997,\n",
       "       1.36345318])"
      ]
     },
     "execution_count": 99,
     "metadata": {},
     "output_type": "execute_result"
    }
   ],
   "source": [
    "y_test_pred"
   ]
  },
  {
   "cell_type": "code",
   "execution_count": null,
   "metadata": {},
   "outputs": [],
   "source": []
  },
  {
   "cell_type": "markdown",
   "metadata": {},
   "source": [
    "### 使用R方来衡量模型是否拟合到了足够多的信息\n",
    "\n",
    "为了衡量模型对数据上的信息量的捕捉，我们定义了**$R^2$**来帮助我们：\n",
    "\n",
    "$$\n",
    "R^2 = 1 - \\frac{\\sum_{i=0}^{m}({y_i} - {{\\hat{y}_i}})^2}{\\sum_{i=0}^{m}({y_i} - \\bar{y})^2} = 1 - \\frac{RSS}{\\sum_{i=0}^{m}({y_i} - \\bar{y})^2}\n",
    "$$\n",
    "\n",
    "其中$\\boldsymbol{y}$是真实标签，$\\boldsymbol{\\hat{y}}$是预测结果，$\\boldsymbol{\\bar{y}}$是均值，$y_i - \\bar{y}$如果除以样本量m就是我们的方差。\n",
    "\n",
    "方差的本质是任意一个$y$值和样本均值的差异，差异越大，这些值所带的信息越多。\n",
    "\n",
    "在$R^2$中，分子是真实值和预测值之差的差值，也就是我们的模型没有捕获到的信息总量，分母是真实标签所带的信息量，所以其衡量的是**1 - 我们的模型没有捕获到的信息量占真实标签中所带的信息量的比例**，所以，$R^2$越接近1越好。\n",
    "\n",
    "$R^2$可以使用三种方式来调用，一种是直接从metrics中导入r2_score，输入预测值和真实值后打分。\n",
    "\n",
    "第二种是直接从线性回归LinearRegression的接口score来进行调用。\n",
    "\n",
    "第三种是在交叉验证中，输入\"r2\"来调用。"
   ]
  },
  {
   "cell_type": "code",
   "execution_count": 100,
   "metadata": {},
   "outputs": [
    {
     "data": {
      "text/plain": [
       "0.6082747198760894"
      ]
     },
     "execution_count": 100,
     "metadata": {},
     "output_type": "execute_result"
    }
   ],
   "source": [
    "# 第一种方法: 直接使用模型的score接口\n",
    "lr.score(X_train, y_train)"
   ]
  },
  {
   "cell_type": "code",
   "execution_count": 101,
   "metadata": {},
   "outputs": [
    {
     "data": {
      "text/plain": [
       "0.5991932192526277"
      ]
     },
     "execution_count": 101,
     "metadata": {},
     "output_type": "execute_result"
    }
   ],
   "source": [
    "lr.score(X_test , y_test)"
   ]
  },
  {
   "cell_type": "code",
   "execution_count": 102,
   "metadata": {},
   "outputs": [],
   "source": [
    "# 第二种方法: 使用metrics中导入r2_score\n",
    "from sklearn.metrics import r2_score"
   ]
  },
  {
   "cell_type": "code",
   "execution_count": 103,
   "metadata": {},
   "outputs": [
    {
     "data": {
      "text/plain": [
       "0.6082747198760894"
      ]
     },
     "execution_count": 103,
     "metadata": {},
     "output_type": "execute_result"
    }
   ],
   "source": [
    "r2_score(y_train, y_train_pred)"
   ]
  },
  {
   "cell_type": "code",
   "execution_count": 104,
   "metadata": {},
   "outputs": [
    {
     "data": {
      "text/plain": [
       "0.5991932192526277"
      ]
     },
     "execution_count": 104,
     "metadata": {},
     "output_type": "execute_result"
    }
   ],
   "source": [
    "r2_score(y_test, y_test_pred)"
   ]
  },
  {
   "cell_type": "code",
   "execution_count": 105,
   "metadata": {},
   "outputs": [
    {
     "data": {
      "text/plain": [
       "array([0.61065815, 0.6113739 , 0.61332998, 0.60521259, 0.58410923])"
      ]
     },
     "execution_count": 105,
     "metadata": {},
     "output_type": "execute_result"
    }
   ],
   "source": [
    "# 交叉验证\n",
    "# 使用R方作为评估指标的交叉验证\n",
    "cross_val_score(lr, X_train, y_train , cv =5 , scoring='r2')"
   ]
  },
  {
   "cell_type": "code",
   "execution_count": 106,
   "metadata": {},
   "outputs": [
    {
     "data": {
      "text/plain": [
       "0.6049367673559154"
      ]
     },
     "execution_count": 106,
     "metadata": {},
     "output_type": "execute_result"
    }
   ],
   "source": [
    "cross_val_score(lr, X_train, y_train , cv =5 , scoring='r2').mean()"
   ]
  },
  {
   "cell_type": "markdown",
   "metadata": {},
   "source": [
    "回归模型评估指标: \n",
    "\n",
    "第一考虑R方\n",
    "\n",
    "MSE/MAE 选一个可以作为辅助评估指标"
   ]
  },
  {
   "cell_type": "markdown",
   "metadata": {},
   "source": [
    "### 查看模型系数\n",
    "\n",
    "因为线性回归模型 是这样的\n",
    "\n",
    "y = w1 * x1 + w2 * x2 + w3 * x3 + ... wn * xn + w0\n",
    "\n",
    "所以模型建立好之后,包含两部分参数, 权重和偏置,权重我们也叫做系数"
   ]
  },
  {
   "cell_type": "code",
   "execution_count": 108,
   "metadata": {},
   "outputs": [
    {
     "data": {
      "text/plain": [
       "array([ 4.40228234e-01,  9.48391521e-03, -1.12843342e-01,  6.09712715e-01,\n",
       "       -4.00482664e-06, -3.96962732e-03, -4.12468279e-01, -4.26552274e-01])"
      ]
     },
     "execution_count": 108,
     "metadata": {},
     "output_type": "execute_result"
    }
   ],
   "source": [
    "# 查看模型学习系数\n",
    "lr.coef_"
   ]
  },
  {
   "cell_type": "code",
   "execution_count": 110,
   "metadata": {},
   "outputs": [
    {
     "data": {
      "text/plain": [
       "-36.25068267909076"
      ]
     },
     "execution_count": 110,
     "metadata": {},
     "output_type": "execute_result"
    }
   ],
   "source": [
    "# 查看模型截距\n",
    "lr.intercept_"
   ]
  },
  {
   "cell_type": "code",
   "execution_count": 113,
   "metadata": {},
   "outputs": [
    {
     "data": {
      "text/plain": [
       "['MedInc',\n",
       " 'HouseAge',\n",
       " 'AveRooms',\n",
       " 'AveBedrms',\n",
       " 'Population',\n",
       " 'AveOccup',\n",
       " 'Latitude',\n",
       " 'Longitude']"
      ]
     },
     "execution_count": 113,
     "metadata": {},
     "output_type": "execute_result"
    }
   ],
   "source": [
    "house.feature_names"
   ]
  },
  {
   "cell_type": "code",
   "execution_count": null,
   "metadata": {},
   "outputs": [],
   "source": [
    "# 将两组数据打包到一起进行观察\n",
    "# zip() 打包"
   ]
  },
  {
   "cell_type": "code",
   "execution_count": 114,
   "metadata": {},
   "outputs": [],
   "source": [
    "L1 = [1,2,3]\n",
    "L2 = [4,5,6]"
   ]
  },
  {
   "cell_type": "code",
   "execution_count": 116,
   "metadata": {},
   "outputs": [
    {
     "data": {
      "text/plain": [
       "[(1, 4), (2, 5), (3, 6)]"
      ]
     },
     "execution_count": 116,
     "metadata": {},
     "output_type": "execute_result"
    }
   ],
   "source": [
    "list(zip(L1,L2))"
   ]
  },
  {
   "cell_type": "code",
   "execution_count": 118,
   "metadata": {},
   "outputs": [
    {
     "data": {
      "text/plain": [
       "[('MedInc', 0.440228234473077),\n",
       " ('HouseAge', 0.009483915211687993),\n",
       " ('AveRooms', -0.11284334216964098),\n",
       " ('AveBedrms', 0.6097127147709994),\n",
       " ('Population', -4.004826640747858e-06),\n",
       " ('AveOccup', -0.003969627317461856),\n",
       " ('Latitude', -0.4124682789498434),\n",
       " ('Longitude', -0.4265522739083784)]"
      ]
     },
     "execution_count": 118,
     "metadata": {},
     "output_type": "execute_result"
    }
   ],
   "source": [
    "# 打包进行观察\n",
    "list(zip(house.feature_names, lr.coef_))"
   ]
  },
  {
   "cell_type": "code",
   "execution_count": null,
   "metadata": {},
   "outputs": [],
   "source": [
    "#  这就是建立出来的模型\n",
    "y = 0.44 * x1 + 0.009 * x2 - 0.1128 * x3 ....-0.426 * x8 - 36.250"
   ]
  },
  {
   "cell_type": "code",
   "execution_count": null,
   "metadata": {},
   "outputs": [],
   "source": [
    "# 思考这里的系数代表什么?\n",
    "\n",
    "# 代表了特征对于预测y的一个重要程度"
   ]
  },
  {
   "cell_type": "code",
   "execution_count": 119,
   "metadata": {
    "collapsed": true
   },
   "outputs": [
    {
     "data": {
      "text/html": [
       "<div>\n",
       "<style scoped>\n",
       "    .dataframe tbody tr th:only-of-type {\n",
       "        vertical-align: middle;\n",
       "    }\n",
       "\n",
       "    .dataframe tbody tr th {\n",
       "        vertical-align: top;\n",
       "    }\n",
       "\n",
       "    .dataframe thead th {\n",
       "        text-align: right;\n",
       "    }\n",
       "</style>\n",
       "<table border=\"1\" class=\"dataframe\">\n",
       "  <thead>\n",
       "    <tr style=\"text-align: right;\">\n",
       "      <th></th>\n",
       "      <th>MedInc</th>\n",
       "      <th>HouseAge</th>\n",
       "      <th>AveRooms</th>\n",
       "      <th>AveBedrms</th>\n",
       "      <th>Population</th>\n",
       "      <th>AveOccup</th>\n",
       "      <th>Latitude</th>\n",
       "      <th>Longitude</th>\n",
       "    </tr>\n",
       "  </thead>\n",
       "  <tbody>\n",
       "    <tr>\n",
       "      <td>0</td>\n",
       "      <td>8.3252</td>\n",
       "      <td>41.0</td>\n",
       "      <td>6.984127</td>\n",
       "      <td>1.023810</td>\n",
       "      <td>322.0</td>\n",
       "      <td>2.555556</td>\n",
       "      <td>37.88</td>\n",
       "      <td>-122.23</td>\n",
       "    </tr>\n",
       "    <tr>\n",
       "      <td>1</td>\n",
       "      <td>8.3014</td>\n",
       "      <td>21.0</td>\n",
       "      <td>6.238137</td>\n",
       "      <td>0.971880</td>\n",
       "      <td>2401.0</td>\n",
       "      <td>2.109842</td>\n",
       "      <td>37.86</td>\n",
       "      <td>-122.22</td>\n",
       "    </tr>\n",
       "    <tr>\n",
       "      <td>2</td>\n",
       "      <td>7.2574</td>\n",
       "      <td>52.0</td>\n",
       "      <td>8.288136</td>\n",
       "      <td>1.073446</td>\n",
       "      <td>496.0</td>\n",
       "      <td>2.802260</td>\n",
       "      <td>37.85</td>\n",
       "      <td>-122.24</td>\n",
       "    </tr>\n",
       "    <tr>\n",
       "      <td>3</td>\n",
       "      <td>5.6431</td>\n",
       "      <td>52.0</td>\n",
       "      <td>5.817352</td>\n",
       "      <td>1.073059</td>\n",
       "      <td>558.0</td>\n",
       "      <td>2.547945</td>\n",
       "      <td>37.85</td>\n",
       "      <td>-122.25</td>\n",
       "    </tr>\n",
       "    <tr>\n",
       "      <td>4</td>\n",
       "      <td>3.8462</td>\n",
       "      <td>52.0</td>\n",
       "      <td>6.281853</td>\n",
       "      <td>1.081081</td>\n",
       "      <td>565.0</td>\n",
       "      <td>2.181467</td>\n",
       "      <td>37.85</td>\n",
       "      <td>-122.25</td>\n",
       "    </tr>\n",
       "    <tr>\n",
       "      <td>...</td>\n",
       "      <td>...</td>\n",
       "      <td>...</td>\n",
       "      <td>...</td>\n",
       "      <td>...</td>\n",
       "      <td>...</td>\n",
       "      <td>...</td>\n",
       "      <td>...</td>\n",
       "      <td>...</td>\n",
       "    </tr>\n",
       "    <tr>\n",
       "      <td>20635</td>\n",
       "      <td>1.5603</td>\n",
       "      <td>25.0</td>\n",
       "      <td>5.045455</td>\n",
       "      <td>1.133333</td>\n",
       "      <td>845.0</td>\n",
       "      <td>2.560606</td>\n",
       "      <td>39.48</td>\n",
       "      <td>-121.09</td>\n",
       "    </tr>\n",
       "    <tr>\n",
       "      <td>20636</td>\n",
       "      <td>2.5568</td>\n",
       "      <td>18.0</td>\n",
       "      <td>6.114035</td>\n",
       "      <td>1.315789</td>\n",
       "      <td>356.0</td>\n",
       "      <td>3.122807</td>\n",
       "      <td>39.49</td>\n",
       "      <td>-121.21</td>\n",
       "    </tr>\n",
       "    <tr>\n",
       "      <td>20637</td>\n",
       "      <td>1.7000</td>\n",
       "      <td>17.0</td>\n",
       "      <td>5.205543</td>\n",
       "      <td>1.120092</td>\n",
       "      <td>1007.0</td>\n",
       "      <td>2.325635</td>\n",
       "      <td>39.43</td>\n",
       "      <td>-121.22</td>\n",
       "    </tr>\n",
       "    <tr>\n",
       "      <td>20638</td>\n",
       "      <td>1.8672</td>\n",
       "      <td>18.0</td>\n",
       "      <td>5.329513</td>\n",
       "      <td>1.171920</td>\n",
       "      <td>741.0</td>\n",
       "      <td>2.123209</td>\n",
       "      <td>39.43</td>\n",
       "      <td>-121.32</td>\n",
       "    </tr>\n",
       "    <tr>\n",
       "      <td>20639</td>\n",
       "      <td>2.3886</td>\n",
       "      <td>16.0</td>\n",
       "      <td>5.254717</td>\n",
       "      <td>1.162264</td>\n",
       "      <td>1387.0</td>\n",
       "      <td>2.616981</td>\n",
       "      <td>39.37</td>\n",
       "      <td>-121.24</td>\n",
       "    </tr>\n",
       "  </tbody>\n",
       "</table>\n",
       "<p>20640 rows × 8 columns</p>\n",
       "</div>"
      ],
      "text/plain": [
       "       MedInc  HouseAge  AveRooms  AveBedrms  Population  AveOccup  Latitude  \\\n",
       "0      8.3252      41.0  6.984127   1.023810       322.0  2.555556     37.88   \n",
       "1      8.3014      21.0  6.238137   0.971880      2401.0  2.109842     37.86   \n",
       "2      7.2574      52.0  8.288136   1.073446       496.0  2.802260     37.85   \n",
       "3      5.6431      52.0  5.817352   1.073059       558.0  2.547945     37.85   \n",
       "4      3.8462      52.0  6.281853   1.081081       565.0  2.181467     37.85   \n",
       "...       ...       ...       ...        ...         ...       ...       ...   \n",
       "20635  1.5603      25.0  5.045455   1.133333       845.0  2.560606     39.48   \n",
       "20636  2.5568      18.0  6.114035   1.315789       356.0  3.122807     39.49   \n",
       "20637  1.7000      17.0  5.205543   1.120092      1007.0  2.325635     39.43   \n",
       "20638  1.8672      18.0  5.329513   1.171920       741.0  2.123209     39.43   \n",
       "20639  2.3886      16.0  5.254717   1.162264      1387.0  2.616981     39.37   \n",
       "\n",
       "       Longitude  \n",
       "0        -122.23  \n",
       "1        -122.22  \n",
       "2        -122.24  \n",
       "3        -122.25  \n",
       "4        -122.25  \n",
       "...          ...  \n",
       "20635    -121.09  \n",
       "20636    -121.21  \n",
       "20637    -121.22  \n",
       "20638    -121.32  \n",
       "20639    -121.24  \n",
       "\n",
       "[20640 rows x 8 columns]"
      ]
     },
     "execution_count": 119,
     "metadata": {},
     "output_type": "execute_result"
    }
   ],
   "source": [
    "X"
   ]
  },
  {
   "cell_type": "markdown",
   "metadata": {},
   "source": [
    "因为数据的量纲不同, 所以系数的重要程度无法直接衡量特征的重要程度"
   ]
  },
  {
   "cell_type": "markdown",
   "metadata": {},
   "source": [
    "注: 线性回归模型, 数据是否标准化不改变模型的预测结果.\n",
    "\n",
    "但是标准化会加速模型收敛速度, 也就是说会消耗更小的运算量."
   ]
  },
  {
   "cell_type": "markdown",
   "metadata": {},
   "source": [
    "### 将数据集标准化之后再进行建模"
   ]
  },
  {
   "cell_type": "code",
   "execution_count": 125,
   "metadata": {},
   "outputs": [],
   "source": [
    "# 导入API\n",
    "from sklearn.preprocessing import StandardScaler"
   ]
  },
  {
   "cell_type": "code",
   "execution_count": 126,
   "metadata": {},
   "outputs": [],
   "source": [
    "# 实例化模型\n",
    "std = StandardScaler()"
   ]
  },
  {
   "cell_type": "code",
   "execution_count": 127,
   "metadata": {},
   "outputs": [
    {
     "data": {
      "text/plain": [
       "StandardScaler(copy=True, with_mean=True, with_std=True)"
      ]
     },
     "execution_count": 127,
     "metadata": {},
     "output_type": "execute_result"
    }
   ],
   "source": [
    "# 训练模型\n",
    "std.fit(X_train)"
   ]
  },
  {
   "cell_type": "code",
   "execution_count": 128,
   "metadata": {},
   "outputs": [],
   "source": [
    "# 训练集标准化\n",
    "X_train_std = std.transform(X_train)"
   ]
  },
  {
   "cell_type": "code",
   "execution_count": 130,
   "metadata": {},
   "outputs": [],
   "source": [
    "# 测试集也需要进行标准化\n",
    "X_test_std = std.transform(X_test)"
   ]
  },
  {
   "cell_type": "code",
   "execution_count": null,
   "metadata": {},
   "outputs": [],
   "source": []
  },
  {
   "cell_type": "code",
   "execution_count": 131,
   "metadata": {},
   "outputs": [],
   "source": [
    "# 下面的三步和上面的四步等效\n",
    "# 上面这个过程,我们也可以简化成\n",
    "# 实例化模型\n",
    "std = StandardScaler()"
   ]
  },
  {
   "cell_type": "code",
   "execution_count": 133,
   "metadata": {},
   "outputs": [],
   "source": [
    "# 训练集直接fit_transform\n",
    "#  自动先训练模型 ,在完成数据的转化\n",
    "X_train_std = std.fit_transform(X_train)"
   ]
  },
  {
   "cell_type": "code",
   "execution_count": 134,
   "metadata": {},
   "outputs": [],
   "source": [
    "# 在转换测试集\n",
    "X_test_std = std.transform(X_test)"
   ]
  },
  {
   "cell_type": "code",
   "execution_count": null,
   "metadata": {},
   "outputs": [],
   "source": []
  },
  {
   "cell_type": "markdown",
   "metadata": {},
   "source": [
    "### 重新采用标准化之后的数据进行建模"
   ]
  },
  {
   "cell_type": "code",
   "execution_count": 136,
   "metadata": {},
   "outputs": [],
   "source": [
    "# 实例化\n",
    "lr2 = LinearRegression()"
   ]
  },
  {
   "cell_type": "code",
   "execution_count": 137,
   "metadata": {},
   "outputs": [
    {
     "data": {
      "text/plain": [
       "LinearRegression(copy_X=True, fit_intercept=True, n_jobs=None, normalize=False)"
      ]
     },
     "execution_count": 137,
     "metadata": {},
     "output_type": "execute_result"
    }
   ],
   "source": [
    "lr2.fit(X_train_std , y_train)"
   ]
  },
  {
   "cell_type": "code",
   "execution_count": 138,
   "metadata": {},
   "outputs": [],
   "source": [
    "# 获取模型的预测结果\n",
    "#y_train_std_pred 训练集标准化之后的预测结果\n",
    "y_train_std_pred = lr2.predict(X_train_std)"
   ]
  },
  {
   "cell_type": "code",
   "execution_count": 139,
   "metadata": {},
   "outputs": [],
   "source": [
    "# 测试集预测结果\n",
    "y_test_std_pred = lr2.predict(X_test_std)"
   ]
  },
  {
   "cell_type": "code",
   "execution_count": 140,
   "metadata": {},
   "outputs": [
    {
     "data": {
      "text/plain": [
       "array([2.17567626, 2.13052503, 1.17965784, ..., 1.00437331, 1.57254239,\n",
       "       1.47268172])"
      ]
     },
     "execution_count": 140,
     "metadata": {},
     "output_type": "execute_result"
    }
   ],
   "source": [
    "# 刚才没有标准化的预测结果\n",
    "y_train_pred"
   ]
  },
  {
   "cell_type": "code",
   "execution_count": 141,
   "metadata": {},
   "outputs": [
    {
     "data": {
      "text/plain": [
       "array([2.17567626, 2.13052503, 1.17965784, ..., 1.00437331, 1.57254239,\n",
       "       1.47268172])"
      ]
     },
     "execution_count": 141,
     "metadata": {},
     "output_type": "execute_result"
    }
   ],
   "source": [
    "# 标准化之后的预测结果\n",
    "y_train_std_pred"
   ]
  },
  {
   "cell_type": "markdown",
   "metadata": {},
   "source": [
    "可以看到,标准化之后 ,模型的预测结果和刚才没有任何区别.\n",
    "\n",
    "也就是说线性回归中数据标准化不影响预测结果"
   ]
  },
  {
   "cell_type": "code",
   "execution_count": 142,
   "metadata": {},
   "outputs": [
    {
     "data": {
      "text/plain": [
       "array([1.94861414, 1.28751704, 0.72952491, ..., 4.13182042, 2.43947997,\n",
       "       1.36345318])"
      ]
     },
     "execution_count": 142,
     "metadata": {},
     "output_type": "execute_result"
    }
   ],
   "source": [
    "y_test_pred"
   ]
  },
  {
   "cell_type": "code",
   "execution_count": 144,
   "metadata": {},
   "outputs": [
    {
     "data": {
      "text/plain": [
       "array([1.94861414, 1.28751704, 0.72952491, ..., 4.13182042, 2.43947997,\n",
       "       1.36345318])"
      ]
     },
     "execution_count": 144,
     "metadata": {},
     "output_type": "execute_result"
    }
   ],
   "source": [
    "y_test_std_pred"
   ]
  },
  {
   "cell_type": "code",
   "execution_count": 145,
   "metadata": {},
   "outputs": [
    {
     "data": {
      "text/plain": [
       "0.6082747198760894"
      ]
     },
     "execution_count": 145,
     "metadata": {},
     "output_type": "execute_result"
    }
   ],
   "source": [
    "lr2.score(X_train_std,y_train)"
   ]
  },
  {
   "cell_type": "code",
   "execution_count": 146,
   "metadata": {},
   "outputs": [
    {
     "data": {
      "text/plain": [
       "0.5991932192526277"
      ]
     },
     "execution_count": 146,
     "metadata": {},
     "output_type": "execute_result"
    }
   ],
   "source": [
    "lr2.score(X_test_std , y_test )"
   ]
  },
  {
   "cell_type": "markdown",
   "metadata": {},
   "source": [
    "### 再看一下标准化之后的模型系数的值"
   ]
  },
  {
   "cell_type": "code",
   "execution_count": 147,
   "metadata": {},
   "outputs": [
    {
     "data": {
      "text/plain": [
       "array([ 0.84369864,  0.11936775, -0.26717565,  0.29269693, -0.00443982,\n",
       "       -0.04623086, -0.87993144, -0.85327729])"
      ]
     },
     "execution_count": 147,
     "metadata": {},
     "output_type": "execute_result"
    }
   ],
   "source": [
    "# 新的系数\n",
    "lr2.coef_"
   ]
  },
  {
   "cell_type": "code",
   "execution_count": 148,
   "metadata": {},
   "outputs": [
    {
     "data": {
      "text/plain": [
       "2.0740126640365437"
      ]
     },
     "execution_count": 148,
     "metadata": {},
     "output_type": "execute_result"
    }
   ],
   "source": [
    "# 新的截距\n",
    "lr2.intercept_"
   ]
  },
  {
   "cell_type": "code",
   "execution_count": 151,
   "metadata": {},
   "outputs": [
    {
     "data": {
      "text/plain": [
       "[('MedInc', 0.440228234473077),\n",
       " ('HouseAge', 0.009483915211687993),\n",
       " ('AveRooms', -0.11284334216964098),\n",
       " ('AveBedrms', 0.6097127147709994),\n",
       " ('Population', -4.004826640747858e-06),\n",
       " ('AveOccup', -0.003969627317461856),\n",
       " ('Latitude', -0.4124682789498434),\n",
       " ('Longitude', -0.4265522739083784)]"
      ]
     },
     "execution_count": 151,
     "metadata": {},
     "output_type": "execute_result"
    }
   ],
   "source": [
    "# 标准化之前的\n",
    "list(zip(house.feature_names, lr.coef_))"
   ]
  },
  {
   "cell_type": "code",
   "execution_count": 149,
   "metadata": {},
   "outputs": [
    {
     "data": {
      "text/plain": [
       "[('MedInc', 0.8436986416007354),\n",
       " ('HouseAge', 0.11936774866894509),\n",
       " ('AveRooms', -0.2671756515524574),\n",
       " ('AveBedrms', 0.2926969276242641),\n",
       " ('Population', -0.004439817451324716),\n",
       " ('AveOccup', -0.04623086241312066),\n",
       " ('Latitude', -0.8799314407209978),\n",
       " ('Longitude', -0.8532772941241827)]"
      ]
     },
     "execution_count": 149,
     "metadata": {},
     "output_type": "execute_result"
    }
   ],
   "source": [
    "# 打包进行观察, 标准化之后系数\n",
    "list(zip(house.feature_names, lr2.coef_))"
   ]
  },
  {
   "cell_type": "code",
   "execution_count": 155,
   "metadata": {},
   "outputs": [
    {
     "data": {
      "text/html": [
       "<div>\n",
       "<style scoped>\n",
       "    .dataframe tbody tr th:only-of-type {\n",
       "        vertical-align: middle;\n",
       "    }\n",
       "\n",
       "    .dataframe tbody tr th {\n",
       "        vertical-align: top;\n",
       "    }\n",
       "\n",
       "    .dataframe thead th {\n",
       "        text-align: right;\n",
       "    }\n",
       "</style>\n",
       "<table border=\"1\" class=\"dataframe\">\n",
       "  <thead>\n",
       "    <tr style=\"text-align: right;\">\n",
       "      <th></th>\n",
       "      <th>MedInc</th>\n",
       "      <th>HouseAge</th>\n",
       "      <th>AveRooms</th>\n",
       "      <th>AveBedrms</th>\n",
       "      <th>Population</th>\n",
       "      <th>AveOccup</th>\n",
       "      <th>Latitude</th>\n",
       "      <th>Longitude</th>\n",
       "    </tr>\n",
       "  </thead>\n",
       "  <tbody>\n",
       "    <tr>\n",
       "      <td>0</td>\n",
       "      <td>8.3252</td>\n",
       "      <td>41.0</td>\n",
       "      <td>6.984127</td>\n",
       "      <td>1.023810</td>\n",
       "      <td>322.0</td>\n",
       "      <td>2.555556</td>\n",
       "      <td>37.88</td>\n",
       "      <td>-122.23</td>\n",
       "    </tr>\n",
       "    <tr>\n",
       "      <td>1</td>\n",
       "      <td>8.3014</td>\n",
       "      <td>21.0</td>\n",
       "      <td>6.238137</td>\n",
       "      <td>0.971880</td>\n",
       "      <td>2401.0</td>\n",
       "      <td>2.109842</td>\n",
       "      <td>37.86</td>\n",
       "      <td>-122.22</td>\n",
       "    </tr>\n",
       "    <tr>\n",
       "      <td>2</td>\n",
       "      <td>7.2574</td>\n",
       "      <td>52.0</td>\n",
       "      <td>8.288136</td>\n",
       "      <td>1.073446</td>\n",
       "      <td>496.0</td>\n",
       "      <td>2.802260</td>\n",
       "      <td>37.85</td>\n",
       "      <td>-122.24</td>\n",
       "    </tr>\n",
       "    <tr>\n",
       "      <td>3</td>\n",
       "      <td>5.6431</td>\n",
       "      <td>52.0</td>\n",
       "      <td>5.817352</td>\n",
       "      <td>1.073059</td>\n",
       "      <td>558.0</td>\n",
       "      <td>2.547945</td>\n",
       "      <td>37.85</td>\n",
       "      <td>-122.25</td>\n",
       "    </tr>\n",
       "    <tr>\n",
       "      <td>4</td>\n",
       "      <td>3.8462</td>\n",
       "      <td>52.0</td>\n",
       "      <td>6.281853</td>\n",
       "      <td>1.081081</td>\n",
       "      <td>565.0</td>\n",
       "      <td>2.181467</td>\n",
       "      <td>37.85</td>\n",
       "      <td>-122.25</td>\n",
       "    </tr>\n",
       "  </tbody>\n",
       "</table>\n",
       "</div>"
      ],
      "text/plain": [
       "   MedInc  HouseAge  AveRooms  AveBedrms  Population  AveOccup  Latitude  \\\n",
       "0  8.3252      41.0  6.984127   1.023810       322.0  2.555556     37.88   \n",
       "1  8.3014      21.0  6.238137   0.971880      2401.0  2.109842     37.86   \n",
       "2  7.2574      52.0  8.288136   1.073446       496.0  2.802260     37.85   \n",
       "3  5.6431      52.0  5.817352   1.073059       558.0  2.547945     37.85   \n",
       "4  3.8462      52.0  6.281853   1.081081       565.0  2.181467     37.85   \n",
       "\n",
       "   Longitude  \n",
       "0    -122.23  \n",
       "1    -122.22  \n",
       "2    -122.24  \n",
       "3    -122.25  \n",
       "4    -122.25  "
      ]
     },
     "execution_count": 155,
     "metadata": {},
     "output_type": "execute_result"
    }
   ],
   "source": [
    "X.head()"
   ]
  },
  {
   "cell_type": "code",
   "execution_count": 156,
   "metadata": {},
   "outputs": [
    {
     "data": {
      "text/html": [
       "<div>\n",
       "<style scoped>\n",
       "    .dataframe tbody tr th:only-of-type {\n",
       "        vertical-align: middle;\n",
       "    }\n",
       "\n",
       "    .dataframe tbody tr th {\n",
       "        vertical-align: top;\n",
       "    }\n",
       "\n",
       "    .dataframe thead th {\n",
       "        text-align: right;\n",
       "    }\n",
       "</style>\n",
       "<table border=\"1\" class=\"dataframe\">\n",
       "  <thead>\n",
       "    <tr style=\"text-align: right;\">\n",
       "      <th></th>\n",
       "      <th>MedInc</th>\n",
       "      <th>HouseAge</th>\n",
       "      <th>AveRooms</th>\n",
       "      <th>AveBedrms</th>\n",
       "      <th>Population</th>\n",
       "      <th>AveOccup</th>\n",
       "      <th>Latitude</th>\n",
       "      <th>Longitude</th>\n",
       "    </tr>\n",
       "  </thead>\n",
       "  <tbody>\n",
       "    <tr>\n",
       "      <td>0</td>\n",
       "      <td>-0.712695</td>\n",
       "      <td>0.108245</td>\n",
       "      <td>-0.636240</td>\n",
       "      <td>-0.087043</td>\n",
       "      <td>-0.308223</td>\n",
       "      <td>0.021563</td>\n",
       "      <td>-0.553698</td>\n",
       "      <td>-0.067908</td>\n",
       "    </tr>\n",
       "    <tr>\n",
       "      <td>1</td>\n",
       "      <td>-0.067875</td>\n",
       "      <td>-1.083524</td>\n",
       "      <td>-0.220899</td>\n",
       "      <td>-0.204049</td>\n",
       "      <td>1.568892</td>\n",
       "      <td>-0.051122</td>\n",
       "      <td>0.927554</td>\n",
       "      <td>-1.247669</td>\n",
       "    </tr>\n",
       "    <tr>\n",
       "      <td>2</td>\n",
       "      <td>-0.747133</td>\n",
       "      <td>0.584952</td>\n",
       "      <td>0.308655</td>\n",
       "      <td>0.312758</td>\n",
       "      <td>-0.333479</td>\n",
       "      <td>0.060078</td>\n",
       "      <td>-0.680260</td>\n",
       "      <td>1.101855</td>\n",
       "    </tr>\n",
       "    <tr>\n",
       "      <td>3</td>\n",
       "      <td>-1.191327</td>\n",
       "      <td>-0.845170</td>\n",
       "      <td>-0.630863</td>\n",
       "      <td>-0.227213</td>\n",
       "      <td>1.931506</td>\n",
       "      <td>0.066986</td>\n",
       "      <td>-1.374011</td>\n",
       "      <td>2.026668</td>\n",
       "    </tr>\n",
       "    <tr>\n",
       "      <td>4</td>\n",
       "      <td>-0.774005</td>\n",
       "      <td>1.856172</td>\n",
       "      <td>-0.402041</td>\n",
       "      <td>-0.061062</td>\n",
       "      <td>-0.522905</td>\n",
       "      <td>-0.005480</td>\n",
       "      <td>1.025991</td>\n",
       "      <td>-1.337651</td>\n",
       "    </tr>\n",
       "  </tbody>\n",
       "</table>\n",
       "</div>"
      ],
      "text/plain": [
       "     MedInc  HouseAge  AveRooms  AveBedrms  Population  AveOccup  Latitude  \\\n",
       "0 -0.712695  0.108245 -0.636240  -0.087043   -0.308223  0.021563 -0.553698   \n",
       "1 -0.067875 -1.083524 -0.220899  -0.204049    1.568892 -0.051122  0.927554   \n",
       "2 -0.747133  0.584952  0.308655   0.312758   -0.333479  0.060078 -0.680260   \n",
       "3 -1.191327 -0.845170 -0.630863  -0.227213    1.931506  0.066986 -1.374011   \n",
       "4 -0.774005  1.856172 -0.402041  -0.061062   -0.522905 -0.005480  1.025991   \n",
       "\n",
       "   Longitude  \n",
       "0  -0.067908  \n",
       "1  -1.247669  \n",
       "2   1.101855  \n",
       "3   2.026668  \n",
       "4  -1.337651  "
      ]
     },
     "execution_count": 156,
     "metadata": {},
     "output_type": "execute_result"
    }
   ],
   "source": [
    "X_std = pd.DataFrame(data = X_train_std , columns= house.feature_names)\n",
    "X_std.head()"
   ]
  },
  {
   "cell_type": "code",
   "execution_count": 157,
   "metadata": {},
   "outputs": [
    {
     "data": {
      "text/plain": [
       "[('MedInc', 0.8436986416007354),\n",
       " ('HouseAge', 0.11936774866894509),\n",
       " ('AveRooms', -0.2671756515524574),\n",
       " ('AveBedrms', 0.2926969276242641),\n",
       " ('Population', -0.004439817451324716),\n",
       " ('AveOccup', -0.04623086241312066),\n",
       " ('Latitude', -0.8799314407209978),\n",
       " ('Longitude', -0.8532772941241827)]"
      ]
     },
     "execution_count": 157,
     "metadata": {},
     "output_type": "execute_result"
    }
   ],
   "source": [
    "# 打包进行观察, 标准化之后系数\n",
    "list(zip(house.feature_names, lr2.coef_))\n",
    "# 这个系数中所对应的数据的量纲是相同的, 也就是说这个特征,标准化之后,每改变一个单位\n",
    "# 会对y的预测造成多大的影响\n",
    "# 这个数值的绝对值越大, 我们认为特征在模型中的重要程度就越高"
   ]
  },
  {
   "cell_type": "code",
   "execution_count": null,
   "metadata": {},
   "outputs": [],
   "source": [
    "#  这就是建立出来的模型\n",
    "y = 0.843 * x1 + 0.119 * x2 --0.267 * x3 ....-0.853 * x8 - 2.07"
   ]
  },
  {
   "cell_type": "code",
   "execution_count": null,
   "metadata": {},
   "outputs": [],
   "source": [
    "# 系数的大小可以代表特征的重要程度\n"
   ]
  },
  {
   "cell_type": "code",
   "execution_count": 159,
   "metadata": {},
   "outputs": [
    {
     "data": {
      "text/plain": [
       "array([ 3.87628194e+00,  2.86375969e+01,  5.42332853e+00,  1.09717025e+00,\n",
       "        1.42370065e+03,  3.07810132e+00,  3.56112209e+01, -1.19554157e+02])"
      ]
     },
     "execution_count": 159,
     "metadata": {},
     "output_type": "execute_result"
    }
   ],
   "source": [
    "# 八个特征的均值\n",
    "std.mean_"
   ]
  },
  {
   "cell_type": "code",
   "execution_count": 162,
   "metadata": {},
   "outputs": [
    {
     "data": {
      "text/plain": [
       "array([1.91650279e+00, 1.25863366e+01, 2.36766872e+00, 4.80057116e-01,\n",
       "       1.10861664e+03, 1.16461468e+01, 2.13333118e+00, 2.00040498e+00])"
      ]
     },
     "execution_count": 162,
     "metadata": {},
     "output_type": "execute_result"
    }
   ],
   "source": [
    "# 八个特征的标准差\n",
    "std.scale_"
   ]
  },
  {
   "cell_type": "code",
   "execution_count": 166,
   "metadata": {},
   "outputs": [
    {
     "data": {
      "text/plain": [
       "35.611220930232534"
      ]
     },
     "execution_count": 166,
     "metadata": {},
     "output_type": "execute_result"
    }
   ],
   "source": [
    "X_train.Latitude.mean()"
   ]
  },
  {
   "cell_type": "code",
   "execution_count": 165,
   "metadata": {},
   "outputs": [
    {
     "data": {
      "text/plain": [
       "2.133405012893868"
      ]
     },
     "execution_count": 165,
     "metadata": {},
     "output_type": "execute_result"
    }
   ],
   "source": [
    "X_train.Latitude.std()"
   ]
  },
  {
   "cell_type": "code",
   "execution_count": 167,
   "metadata": {},
   "outputs": [
    {
     "data": {
      "text/plain": [
       "37.730000000000004"
      ]
     },
     "execution_count": 167,
     "metadata": {},
     "output_type": "execute_result"
    }
   ],
   "source": [
    "1 * 2.13 + 35.6"
   ]
  },
  {
   "cell_type": "code",
   "execution_count": null,
   "metadata": {},
   "outputs": [],
   "source": []
  },
  {
   "cell_type": "markdown",
   "metadata": {},
   "source": [
    "## 多项式拟合的原理\n",
    "\n",
    "使用多项式去拟合更加复杂的映射关系"
   ]
  },
  {
   "cell_type": "markdown",
   "metadata": {},
   "source": [
    "sklearn.preprocessing.PolynomialFeatures\n",
    "\n",
    "参数说明:\n",
    "\n",
    "degree  构造多项式的项数\n",
    "\n",
    "integer\n",
    "\n",
    "The degree of the polynomial features. Default = 2.\n",
    "\n",
    "\n",
    "interaction_only 如何是True,只构造交互项\n",
    "\n",
    "boolean, default = False\n",
    "If true, only interaction features are produced: features that are products of at most degree distinct input features (so not x[1] ** 2, x[0] * x[2] ** 3, etc.).\n",
    "\n",
    "include_bias 是否构造常数项\n",
    "\n",
    "boolean\n",
    "If True (default), then include a bias column, the feature in which all polynomial powers are zero (i.e. a column of ones - acts as an intercept term in a linear model)."
   ]
  },
  {
   "cell_type": "code",
   "execution_count": 177,
   "metadata": {},
   "outputs": [],
   "source": [
    "# 导入多项式特征API\n",
    "from sklearn.preprocessing import PolynomialFeatures"
   ]
  },
  {
   "cell_type": "code",
   "execution_count": 178,
   "metadata": {},
   "outputs": [
    {
     "data": {
      "text/plain": [
       "array([1, 2, 3, 4, 5, 6])"
      ]
     },
     "execution_count": 178,
     "metadata": {},
     "output_type": "execute_result"
    }
   ],
   "source": [
    "# 生成一个2列的数据\n",
    "np.arange(1,7)"
   ]
  },
  {
   "cell_type": "code",
   "execution_count": 180,
   "metadata": {},
   "outputs": [
    {
     "data": {
      "text/plain": [
       "array([[1, 2],\n",
       "       [3, 4],\n",
       "       [5, 6]])"
      ]
     },
     "execution_count": 180,
     "metadata": {},
     "output_type": "execute_result"
    }
   ],
   "source": [
    "# 假设这是我们的数据\n",
    "X = np.arange(1,7).reshape(3,2)\n",
    "X"
   ]
  },
  {
   "cell_type": "code",
   "execution_count": 182,
   "metadata": {},
   "outputs": [],
   "source": [
    "# 二次项,实例化\n",
    "poly = PolynomialFeatures(degree=2)"
   ]
  },
  {
   "cell_type": "code",
   "execution_count": 184,
   "metadata": {},
   "outputs": [
    {
     "data": {
      "text/plain": [
       "array([[ 1.,  1.,  2.,  1.,  2.,  4.],\n",
       "       [ 1.,  3.,  4.,  9., 12., 16.],\n",
       "       [ 1.,  5.,  6., 25., 30., 36.]])"
      ]
     },
     "execution_count": 184,
     "metadata": {},
     "output_type": "execute_result"
    }
   ],
   "source": [
    "X_1 = poly.fit_transform(X)\n",
    "X_1"
   ]
  },
  {
   "cell_type": "code",
   "execution_count": 185,
   "metadata": {},
   "outputs": [
    {
     "data": {
      "text/plain": [
       "['1', 'x0', 'x1', 'x0^2', 'x0 x1', 'x1^2']"
      ]
     },
     "execution_count": 185,
     "metadata": {},
     "output_type": "execute_result"
    }
   ],
   "source": [
    "poly.get_feature_names()"
   ]
  },
  {
   "cell_type": "code",
   "execution_count": 186,
   "metadata": {},
   "outputs": [],
   "source": [
    "# 三次项,实例化\n",
    "poly3 = PolynomialFeatures(degree=3)"
   ]
  },
  {
   "cell_type": "code",
   "execution_count": 187,
   "metadata": {},
   "outputs": [
    {
     "data": {
      "text/plain": [
       "array([[  1.,   1.,   2.,   1.,   2.,   4.,   1.,   2.,   4.,   8.],\n",
       "       [  1.,   3.,   4.,   9.,  12.,  16.,  27.,  36.,  48.,  64.],\n",
       "       [  1.,   5.,   6.,  25.,  30.,  36., 125., 150., 180., 216.]])"
      ]
     },
     "execution_count": 187,
     "metadata": {},
     "output_type": "execute_result"
    }
   ],
   "source": [
    "X_3 = poly3.fit_transform(X)\n",
    "X_3"
   ]
  },
  {
   "cell_type": "code",
   "execution_count": 188,
   "metadata": {},
   "outputs": [
    {
     "data": {
      "text/plain": [
       "['1',\n",
       " 'x0',\n",
       " 'x1',\n",
       " 'x0^2',\n",
       " 'x0 x1',\n",
       " 'x1^2',\n",
       " 'x0^3',\n",
       " 'x0^2 x1',\n",
       " 'x0 x1^2',\n",
       " 'x1^3']"
      ]
     },
     "execution_count": 188,
     "metadata": {},
     "output_type": "execute_result"
    }
   ],
   "source": [
    "# 获取输出的特征的含义名称\n",
    "poly3.get_feature_names()"
   ]
  },
  {
   "cell_type": "code",
   "execution_count": 190,
   "metadata": {},
   "outputs": [
    {
     "data": {
      "text/plain": [
       "array([[1, 2],\n",
       "       [3, 4],\n",
       "       [5, 6]])"
      ]
     },
     "execution_count": 190,
     "metadata": {},
     "output_type": "execute_result"
    }
   ],
   "source": [
    "X"
   ]
  },
  {
   "cell_type": "code",
   "execution_count": 189,
   "metadata": {
    "scrolled": true
   },
   "outputs": [
    {
     "data": {
      "text/html": [
       "<div>\n",
       "<style scoped>\n",
       "    .dataframe tbody tr th:only-of-type {\n",
       "        vertical-align: middle;\n",
       "    }\n",
       "\n",
       "    .dataframe tbody tr th {\n",
       "        vertical-align: top;\n",
       "    }\n",
       "\n",
       "    .dataframe thead th {\n",
       "        text-align: right;\n",
       "    }\n",
       "</style>\n",
       "<table border=\"1\" class=\"dataframe\">\n",
       "  <thead>\n",
       "    <tr style=\"text-align: right;\">\n",
       "      <th></th>\n",
       "      <th>1</th>\n",
       "      <th>x0</th>\n",
       "      <th>x1</th>\n",
       "      <th>x0^2</th>\n",
       "      <th>x0 x1</th>\n",
       "      <th>x1^2</th>\n",
       "      <th>x0^3</th>\n",
       "      <th>x0^2 x1</th>\n",
       "      <th>x0 x1^2</th>\n",
       "      <th>x1^3</th>\n",
       "    </tr>\n",
       "  </thead>\n",
       "  <tbody>\n",
       "    <tr>\n",
       "      <td>0</td>\n",
       "      <td>1.0</td>\n",
       "      <td>1.0</td>\n",
       "      <td>2.0</td>\n",
       "      <td>1.0</td>\n",
       "      <td>2.0</td>\n",
       "      <td>4.0</td>\n",
       "      <td>1.0</td>\n",
       "      <td>2.0</td>\n",
       "      <td>4.0</td>\n",
       "      <td>8.0</td>\n",
       "    </tr>\n",
       "    <tr>\n",
       "      <td>1</td>\n",
       "      <td>1.0</td>\n",
       "      <td>3.0</td>\n",
       "      <td>4.0</td>\n",
       "      <td>9.0</td>\n",
       "      <td>12.0</td>\n",
       "      <td>16.0</td>\n",
       "      <td>27.0</td>\n",
       "      <td>36.0</td>\n",
       "      <td>48.0</td>\n",
       "      <td>64.0</td>\n",
       "    </tr>\n",
       "    <tr>\n",
       "      <td>2</td>\n",
       "      <td>1.0</td>\n",
       "      <td>5.0</td>\n",
       "      <td>6.0</td>\n",
       "      <td>25.0</td>\n",
       "      <td>30.0</td>\n",
       "      <td>36.0</td>\n",
       "      <td>125.0</td>\n",
       "      <td>150.0</td>\n",
       "      <td>180.0</td>\n",
       "      <td>216.0</td>\n",
       "    </tr>\n",
       "  </tbody>\n",
       "</table>\n",
       "</div>"
      ],
      "text/plain": [
       "     1   x0   x1  x0^2  x0 x1  x1^2   x0^3  x0^2 x1  x0 x1^2   x1^3\n",
       "0  1.0  1.0  2.0   1.0    2.0   4.0    1.0      2.0      4.0    8.0\n",
       "1  1.0  3.0  4.0   9.0   12.0  16.0   27.0     36.0     48.0   64.0\n",
       "2  1.0  5.0  6.0  25.0   30.0  36.0  125.0    150.0    180.0  216.0"
      ]
     },
     "execution_count": 189,
     "metadata": {},
     "output_type": "execute_result"
    }
   ],
   "source": [
    "# 转换成DataFrame\n",
    "pd.DataFrame(data = X_3 ,columns=poly3.get_feature_names())"
   ]
  },
  {
   "cell_type": "code",
   "execution_count": 195,
   "metadata": {},
   "outputs": [
    {
     "data": {
      "text/plain": [
       "array([[1, 2, 3],\n",
       "       [4, 5, 6],\n",
       "       [7, 8, 9]])"
      ]
     },
     "execution_count": 195,
     "metadata": {},
     "output_type": "execute_result"
    }
   ],
   "source": [
    "# 假设数据有三个特征\n",
    "X2 = np.arange(1,10).reshape(3,3)\n",
    "X2"
   ]
  },
  {
   "cell_type": "code",
   "execution_count": 193,
   "metadata": {},
   "outputs": [
    {
     "data": {
      "text/plain": [
       "array([[  1.,   1.,   2.,   3.,   1.,   2.,   3.,   4.,   6.,   9.,   1.,\n",
       "          2.,   3.,   4.,   6.,   9.,   8.,  12.,  18.,  27.],\n",
       "       [  1.,   4.,   5.,   6.,  16.,  20.,  24.,  25.,  30.,  36.,  64.,\n",
       "         80.,  96., 100., 120., 144., 125., 150., 180., 216.],\n",
       "       [  1.,   7.,   8.,   9.,  49.,  56.,  63.,  64.,  72.,  81., 343.,\n",
       "        392., 441., 448., 504., 567., 512., 576., 648., 729.]])"
      ]
     },
     "execution_count": 193,
     "metadata": {},
     "output_type": "execute_result"
    }
   ],
   "source": [
    "# 次数为3 构造多项式\n",
    "X2_3 = poly3.fit_transform(X2)\n",
    "X2_3"
   ]
  },
  {
   "cell_type": "code",
   "execution_count": 197,
   "metadata": {},
   "outputs": [
    {
     "data": {
      "text/html": [
       "<div>\n",
       "<style scoped>\n",
       "    .dataframe tbody tr th:only-of-type {\n",
       "        vertical-align: middle;\n",
       "    }\n",
       "\n",
       "    .dataframe tbody tr th {\n",
       "        vertical-align: top;\n",
       "    }\n",
       "\n",
       "    .dataframe thead th {\n",
       "        text-align: right;\n",
       "    }\n",
       "</style>\n",
       "<table border=\"1\" class=\"dataframe\">\n",
       "  <thead>\n",
       "    <tr style=\"text-align: right;\">\n",
       "      <th></th>\n",
       "      <th>1</th>\n",
       "      <th>x0</th>\n",
       "      <th>x1</th>\n",
       "      <th>x2</th>\n",
       "      <th>x0^2</th>\n",
       "      <th>x0 x1</th>\n",
       "      <th>x0 x2</th>\n",
       "      <th>x1^2</th>\n",
       "      <th>x1 x2</th>\n",
       "      <th>x2^2</th>\n",
       "      <th>x0^3</th>\n",
       "      <th>x0^2 x1</th>\n",
       "      <th>x0^2 x2</th>\n",
       "      <th>x0 x1^2</th>\n",
       "      <th>x0 x1 x2</th>\n",
       "      <th>x0 x2^2</th>\n",
       "      <th>x1^3</th>\n",
       "      <th>x1^2 x2</th>\n",
       "      <th>x1 x2^2</th>\n",
       "      <th>x2^3</th>\n",
       "    </tr>\n",
       "  </thead>\n",
       "  <tbody>\n",
       "    <tr>\n",
       "      <td>0</td>\n",
       "      <td>1.0</td>\n",
       "      <td>1.0</td>\n",
       "      <td>2.0</td>\n",
       "      <td>3.0</td>\n",
       "      <td>1.0</td>\n",
       "      <td>2.0</td>\n",
       "      <td>3.0</td>\n",
       "      <td>4.0</td>\n",
       "      <td>6.0</td>\n",
       "      <td>9.0</td>\n",
       "      <td>1.0</td>\n",
       "      <td>2.0</td>\n",
       "      <td>3.0</td>\n",
       "      <td>4.0</td>\n",
       "      <td>6.0</td>\n",
       "      <td>9.0</td>\n",
       "      <td>8.0</td>\n",
       "      <td>12.0</td>\n",
       "      <td>18.0</td>\n",
       "      <td>27.0</td>\n",
       "    </tr>\n",
       "    <tr>\n",
       "      <td>1</td>\n",
       "      <td>1.0</td>\n",
       "      <td>4.0</td>\n",
       "      <td>5.0</td>\n",
       "      <td>6.0</td>\n",
       "      <td>16.0</td>\n",
       "      <td>20.0</td>\n",
       "      <td>24.0</td>\n",
       "      <td>25.0</td>\n",
       "      <td>30.0</td>\n",
       "      <td>36.0</td>\n",
       "      <td>64.0</td>\n",
       "      <td>80.0</td>\n",
       "      <td>96.0</td>\n",
       "      <td>100.0</td>\n",
       "      <td>120.0</td>\n",
       "      <td>144.0</td>\n",
       "      <td>125.0</td>\n",
       "      <td>150.0</td>\n",
       "      <td>180.0</td>\n",
       "      <td>216.0</td>\n",
       "    </tr>\n",
       "    <tr>\n",
       "      <td>2</td>\n",
       "      <td>1.0</td>\n",
       "      <td>7.0</td>\n",
       "      <td>8.0</td>\n",
       "      <td>9.0</td>\n",
       "      <td>49.0</td>\n",
       "      <td>56.0</td>\n",
       "      <td>63.0</td>\n",
       "      <td>64.0</td>\n",
       "      <td>72.0</td>\n",
       "      <td>81.0</td>\n",
       "      <td>343.0</td>\n",
       "      <td>392.0</td>\n",
       "      <td>441.0</td>\n",
       "      <td>448.0</td>\n",
       "      <td>504.0</td>\n",
       "      <td>567.0</td>\n",
       "      <td>512.0</td>\n",
       "      <td>576.0</td>\n",
       "      <td>648.0</td>\n",
       "      <td>729.0</td>\n",
       "    </tr>\n",
       "  </tbody>\n",
       "</table>\n",
       "</div>"
      ],
      "text/plain": [
       "     1   x0   x1   x2  x0^2  x0 x1  x0 x2  x1^2  x1 x2  x2^2   x0^3  x0^2 x1  \\\n",
       "0  1.0  1.0  2.0  3.0   1.0    2.0    3.0   4.0    6.0   9.0    1.0      2.0   \n",
       "1  1.0  4.0  5.0  6.0  16.0   20.0   24.0  25.0   30.0  36.0   64.0     80.0   \n",
       "2  1.0  7.0  8.0  9.0  49.0   56.0   63.0  64.0   72.0  81.0  343.0    392.0   \n",
       "\n",
       "   x0^2 x2  x0 x1^2  x0 x1 x2  x0 x2^2   x1^3  x1^2 x2  x1 x2^2   x2^3  \n",
       "0      3.0      4.0       6.0      9.0    8.0     12.0     18.0   27.0  \n",
       "1     96.0    100.0     120.0    144.0  125.0    150.0    180.0  216.0  \n",
       "2    441.0    448.0     504.0    567.0  512.0    576.0    648.0  729.0  "
      ]
     },
     "execution_count": 197,
     "metadata": {},
     "output_type": "execute_result"
    }
   ],
   "source": [
    "pd.DataFrame(X2_3 , columns=poly3.get_feature_names()) "
   ]
  },
  {
   "cell_type": "code",
   "execution_count": null,
   "metadata": {},
   "outputs": [],
   "source": []
  },
  {
   "cell_type": "code",
   "execution_count": 198,
   "metadata": {},
   "outputs": [],
   "source": [
    "# 改变参数的值重新实例化\n",
    "poly3_inter = PolynomialFeatures(degree=3, interaction_only=True)"
   ]
  },
  {
   "cell_type": "code",
   "execution_count": 200,
   "metadata": {},
   "outputs": [
    {
     "data": {
      "text/plain": [
       "array([[  1.,   1.,   2.,   3.,   2.,   3.,   6.,   6.],\n",
       "       [  1.,   4.,   5.,   6.,  20.,  24.,  30., 120.],\n",
       "       [  1.,   7.,   8.,   9.,  56.,  63.,  72., 504.]])"
      ]
     },
     "execution_count": 200,
     "metadata": {},
     "output_type": "execute_result"
    }
   ],
   "source": [
    "X2_inter = poly3_inter.fit_transform(X2)\n",
    "X2_inter"
   ]
  },
  {
   "cell_type": "code",
   "execution_count": 201,
   "metadata": {},
   "outputs": [
    {
     "data": {
      "text/html": [
       "<div>\n",
       "<style scoped>\n",
       "    .dataframe tbody tr th:only-of-type {\n",
       "        vertical-align: middle;\n",
       "    }\n",
       "\n",
       "    .dataframe tbody tr th {\n",
       "        vertical-align: top;\n",
       "    }\n",
       "\n",
       "    .dataframe thead th {\n",
       "        text-align: right;\n",
       "    }\n",
       "</style>\n",
       "<table border=\"1\" class=\"dataframe\">\n",
       "  <thead>\n",
       "    <tr style=\"text-align: right;\">\n",
       "      <th></th>\n",
       "      <th>1</th>\n",
       "      <th>x0</th>\n",
       "      <th>x1</th>\n",
       "      <th>x2</th>\n",
       "      <th>x0 x1</th>\n",
       "      <th>x0 x2</th>\n",
       "      <th>x1 x2</th>\n",
       "      <th>x0 x1 x2</th>\n",
       "    </tr>\n",
       "  </thead>\n",
       "  <tbody>\n",
       "    <tr>\n",
       "      <td>0</td>\n",
       "      <td>1.0</td>\n",
       "      <td>1.0</td>\n",
       "      <td>2.0</td>\n",
       "      <td>3.0</td>\n",
       "      <td>2.0</td>\n",
       "      <td>3.0</td>\n",
       "      <td>6.0</td>\n",
       "      <td>6.0</td>\n",
       "    </tr>\n",
       "    <tr>\n",
       "      <td>1</td>\n",
       "      <td>1.0</td>\n",
       "      <td>4.0</td>\n",
       "      <td>5.0</td>\n",
       "      <td>6.0</td>\n",
       "      <td>20.0</td>\n",
       "      <td>24.0</td>\n",
       "      <td>30.0</td>\n",
       "      <td>120.0</td>\n",
       "    </tr>\n",
       "    <tr>\n",
       "      <td>2</td>\n",
       "      <td>1.0</td>\n",
       "      <td>7.0</td>\n",
       "      <td>8.0</td>\n",
       "      <td>9.0</td>\n",
       "      <td>56.0</td>\n",
       "      <td>63.0</td>\n",
       "      <td>72.0</td>\n",
       "      <td>504.0</td>\n",
       "    </tr>\n",
       "  </tbody>\n",
       "</table>\n",
       "</div>"
      ],
      "text/plain": [
       "     1   x0   x1   x2  x0 x1  x0 x2  x1 x2  x0 x1 x2\n",
       "0  1.0  1.0  2.0  3.0    2.0    3.0    6.0       6.0\n",
       "1  1.0  4.0  5.0  6.0   20.0   24.0   30.0     120.0\n",
       "2  1.0  7.0  8.0  9.0   56.0   63.0   72.0     504.0"
      ]
     },
     "execution_count": 201,
     "metadata": {},
     "output_type": "execute_result"
    }
   ],
   "source": [
    "# 当设置了interaction_only=True 时, 就只能将原有的特征进行组合,出新的特征\n",
    "# 而不能直接对原特征进行升次\n",
    "pd.DataFrame(X2_inter, columns=poly3_inter.get_feature_names()) "
   ]
  },
  {
   "cell_type": "code",
   "execution_count": null,
   "metadata": {},
   "outputs": [],
   "source": []
  },
  {
   "cell_type": "code",
   "execution_count": 202,
   "metadata": {},
   "outputs": [],
   "source": [
    "# 改变参数的值重新实例化, include_bias=False\n",
    "poly3_inter_bias = PolynomialFeatures(degree=3, interaction_only=True,\n",
    "                                include_bias=False)"
   ]
  },
  {
   "cell_type": "code",
   "execution_count": 203,
   "metadata": {},
   "outputs": [
    {
     "data": {
      "text/plain": [
       "array([[  1.,   2.,   3.,   2.,   3.,   6.,   6.],\n",
       "       [  4.,   5.,   6.,  20.,  24.,  30., 120.],\n",
       "       [  7.,   8.,   9.,  56.,  63.,  72., 504.]])"
      ]
     },
     "execution_count": 203,
     "metadata": {},
     "output_type": "execute_result"
    }
   ],
   "source": [
    "X2_inter_bias = poly3_inter_bias.fit_transform(X2)\n",
    "X2_inter_bias"
   ]
  },
  {
   "cell_type": "code",
   "execution_count": 204,
   "metadata": {},
   "outputs": [
    {
     "data": {
      "text/html": [
       "<div>\n",
       "<style scoped>\n",
       "    .dataframe tbody tr th:only-of-type {\n",
       "        vertical-align: middle;\n",
       "    }\n",
       "\n",
       "    .dataframe tbody tr th {\n",
       "        vertical-align: top;\n",
       "    }\n",
       "\n",
       "    .dataframe thead th {\n",
       "        text-align: right;\n",
       "    }\n",
       "</style>\n",
       "<table border=\"1\" class=\"dataframe\">\n",
       "  <thead>\n",
       "    <tr style=\"text-align: right;\">\n",
       "      <th></th>\n",
       "      <th>x0</th>\n",
       "      <th>x1</th>\n",
       "      <th>x2</th>\n",
       "      <th>x0 x1</th>\n",
       "      <th>x0 x2</th>\n",
       "      <th>x1 x2</th>\n",
       "      <th>x0 x1 x2</th>\n",
       "    </tr>\n",
       "  </thead>\n",
       "  <tbody>\n",
       "    <tr>\n",
       "      <td>0</td>\n",
       "      <td>1.0</td>\n",
       "      <td>2.0</td>\n",
       "      <td>3.0</td>\n",
       "      <td>2.0</td>\n",
       "      <td>3.0</td>\n",
       "      <td>6.0</td>\n",
       "      <td>6.0</td>\n",
       "    </tr>\n",
       "    <tr>\n",
       "      <td>1</td>\n",
       "      <td>4.0</td>\n",
       "      <td>5.0</td>\n",
       "      <td>6.0</td>\n",
       "      <td>20.0</td>\n",
       "      <td>24.0</td>\n",
       "      <td>30.0</td>\n",
       "      <td>120.0</td>\n",
       "    </tr>\n",
       "    <tr>\n",
       "      <td>2</td>\n",
       "      <td>7.0</td>\n",
       "      <td>8.0</td>\n",
       "      <td>9.0</td>\n",
       "      <td>56.0</td>\n",
       "      <td>63.0</td>\n",
       "      <td>72.0</td>\n",
       "      <td>504.0</td>\n",
       "    </tr>\n",
       "  </tbody>\n",
       "</table>\n",
       "</div>"
      ],
      "text/plain": [
       "    x0   x1   x2  x0 x1  x0 x2  x1 x2  x0 x1 x2\n",
       "0  1.0  2.0  3.0    2.0    3.0    6.0       6.0\n",
       "1  4.0  5.0  6.0   20.0   24.0   30.0     120.0\n",
       "2  7.0  8.0  9.0   56.0   63.0   72.0     504.0"
      ]
     },
     "execution_count": 204,
     "metadata": {},
     "output_type": "execute_result"
    }
   ],
   "source": [
    "pd.DataFrame(X2_inter_bias, columns=poly3_inter_bias.get_feature_names()) "
   ]
  },
  {
   "cell_type": "code",
   "execution_count": null,
   "metadata": {},
   "outputs": [],
   "source": []
  },
  {
   "cell_type": "markdown",
   "metadata": {},
   "source": [
    "### 从sin函数中抽取出一个数据集然后进行拟合"
   ]
  },
  {
   "cell_type": "code",
   "execution_count": 205,
   "metadata": {
    "collapsed": true
   },
   "outputs": [
    {
     "data": {
      "text/plain": [
       "array([ 0.29288102,  1.2911362 ,  0.61658026,  0.2692991 , -0.4580712 ,\n",
       "        0.87536468, -0.37447673,  2.350638  ,  2.78197656, -0.69935089,\n",
       "        1.75035023,  0.17336952,  0.40826737,  2.55357983, -2.57378365,\n",
       "       -2.4772242 , -2.87868962,  1.99571907,  1.66894051,  2.22007289,\n",
       "        2.87171005,  1.79495139, -0.23112383,  1.68317506, -2.29035344,\n",
       "        0.83952613, -2.13988028,  2.6680135 ,  0.13108993, -0.51202836,\n",
       "       -1.41266633,  1.64540214, -0.26309801,  0.41060369, -2.8872612 ,\n",
       "        0.70581298,  0.67257434,  0.70160398,  2.66248847,  1.09092179,\n",
       "       -0.8429526 , -0.37780828,  1.18578718, -2.63864717,  1.00060029,\n",
       "        1.02382722, -1.73770463, -2.22644221, -1.10742989, -0.81773537,\n",
       "        0.42118062, -0.36839092,  2.93024303, -2.38773114, -1.74673946,\n",
       "       -2.03214289,  0.91864995, -1.48025038, -0.20213536, -1.53344645,\n",
       "       -2.0461825 , -2.33774915,  0.93797754, -2.17090229, -1.82050583,\n",
       "       -0.78764898,  1.92595938, -2.41739235,  2.02766944, -2.42340955,\n",
       "        2.85875679, -0.18809279,  2.86056653,  0.62907312,  1.43558148,\n",
       "       -2.76487325, -1.30315822, -2.27882063, -1.22315881, -2.28763369,\n",
       "       -1.09210092, -0.51442203, -2.61511502,  1.15483272,  0.39960873,\n",
       "       -1.40766305,  0.13948832, -2.43635694,  0.45567897,  2.57577719,\n",
       "       -1.08858629,  1.00446228, -2.20921283,  1.29796322, -1.26356344,\n",
       "       -1.90085183,  0.51907761, -2.87935472,  1.97364018, -2.97182714])"
      ]
     },
     "execution_count": 205,
     "metadata": {},
     "output_type": "execute_result"
    }
   ],
   "source": [
    "np.random.seed(0)\n",
    "x = np.random.uniform(-3,3,100)\n",
    "x"
   ]
  },
  {
   "cell_type": "code",
   "execution_count": 222,
   "metadata": {},
   "outputs": [],
   "source": [
    "# 计算对应的sin值,同时添加扰动项\n",
    "# 标准正态分布除以3 , 等于三分之一的标准正态分布噪音\n",
    "np.random.seed(0)\n",
    "y = np.sin(x) + np.random.randn(100)/3"
   ]
  },
  {
   "cell_type": "code",
   "execution_count": 223,
   "metadata": {},
   "outputs": [
    {
     "data": {
      "text/plain": [
       "[<matplotlib.lines.Line2D at 0x1a29728b50>]"
      ]
     },
     "execution_count": 223,
     "metadata": {},
     "output_type": "execute_result"
    },
    {
     "data": {
      "image/png": "[encoded data removed]",
      "text/plain": [
       "<Figure size 576x396 with 1 Axes>"
      ]
     },
     "metadata": {},
     "output_type": "display_data"
    }
   ],
   "source": [
    "plt.plot(x,y, 'o')"
   ]
  },
  {
   "cell_type": "code",
   "execution_count": null,
   "metadata": {},
   "outputs": [],
   "source": []
  },
  {
   "cell_type": "markdown",
   "metadata": {},
   "source": [
    "### 首先不用多项式特征直接用线性回归模型进行拟合"
   ]
  },
  {
   "cell_type": "code",
   "execution_count": 224,
   "metadata": {},
   "outputs": [],
   "source": [
    "lr = LinearRegression()"
   ]
  },
  {
   "cell_type": "code",
   "execution_count": 227,
   "metadata": {},
   "outputs": [],
   "source": [
    "# 需要先变成二维\n",
    "x2 = x.reshape(-1,1)"
   ]
  },
  {
   "cell_type": "code",
   "execution_count": 228,
   "metadata": {},
   "outputs": [
    {
     "data": {
      "text/plain": [
       "LinearRegression(copy_X=True, fit_intercept=True, n_jobs=None, normalize=False)"
      ]
     },
     "execution_count": 228,
     "metadata": {},
     "output_type": "execute_result"
    }
   ],
   "source": [
    "lr.fit(x2,y)"
   ]
  },
  {
   "cell_type": "code",
   "execution_count": 231,
   "metadata": {
    "collapsed": true
   },
   "outputs": [
    {
     "data": {
      "text/plain": [
       "array([ 0.29288102,  1.2911362 ,  0.61658026,  0.2692991 , -0.4580712 ,\n",
       "        0.87536468, -0.37447673,  2.350638  ,  2.78197656, -0.69935089,\n",
       "        1.75035023,  0.17336952,  0.40826737,  2.55357983, -2.57378365,\n",
       "       -2.4772242 , -2.87868962,  1.99571907,  1.66894051,  2.22007289,\n",
       "        2.87171005,  1.79495139, -0.23112383,  1.68317506, -2.29035344,\n",
       "        0.83952613, -2.13988028,  2.6680135 ,  0.13108993, -0.51202836,\n",
       "       -1.41266633,  1.64540214, -0.26309801,  0.41060369, -2.8872612 ,\n",
       "        0.70581298,  0.67257434,  0.70160398,  2.66248847,  1.09092179,\n",
       "       -0.8429526 , -0.37780828,  1.18578718, -2.63864717,  1.00060029,\n",
       "        1.02382722, -1.73770463, -2.22644221, -1.10742989, -0.81773537,\n",
       "        0.42118062, -0.36839092,  2.93024303, -2.38773114, -1.74673946,\n",
       "       -2.03214289,  0.91864995, -1.48025038, -0.20213536, -1.53344645,\n",
       "       -2.0461825 , -2.33774915,  0.93797754, -2.17090229, -1.82050583,\n",
       "       -0.78764898,  1.92595938, -2.41739235,  2.02766944, -2.42340955,\n",
       "        2.85875679, -0.18809279,  2.86056653,  0.62907312,  1.43558148,\n",
       "       -2.76487325, -1.30315822, -2.27882063, -1.22315881, -2.28763369,\n",
       "       -1.09210092, -0.51442203, -2.61511502,  1.15483272,  0.39960873,\n",
       "       -1.40766305,  0.13948832, -2.43635694,  0.45567897,  2.57577719,\n",
       "       -1.08858629,  1.00446228, -2.20921283,  1.29796322, -1.26356344,\n",
       "       -1.90085183,  0.51907761, -2.87935472,  1.97364018, -2.97182714])"
      ]
     },
     "execution_count": 231,
     "metadata": {},
     "output_type": "execute_result"
    }
   ],
   "source": [
    "x"
   ]
  },
  {
   "cell_type": "code",
   "execution_count": 237,
   "metadata": {},
   "outputs": [],
   "source": [
    "y_pred = lr.predict(x2) # 计算预测值 用于绘制拟合图像"
   ]
  },
  {
   "cell_type": "code",
   "execution_count": 236,
   "metadata": {},
   "outputs": [
    {
     "data": {
      "text/plain": [
       "[<matplotlib.lines.Line2D at 0x1a28e1e790>]"
      ]
     },
     "execution_count": 236,
     "metadata": {},
     "output_type": "execute_result"
    },
    {
     "data": {
      "image/png": "[encoded data removed]",
      "text/plain": [
       "<Figure size 576x396 with 1 Axes>"
      ]
     },
     "metadata": {},
     "output_type": "display_data"
    }
   ],
   "source": [
    "plt.plot(x,y_pred) # 拟合出来的模型\n",
    "plt.plot(x,y, 'o') # 原来的数据点"
   ]
  },
  {
   "cell_type": "code",
   "execution_count": 238,
   "metadata": {},
   "outputs": [
    {
     "data": {
      "text/plain": [
       "0.48901235266735066"
      ]
     },
     "execution_count": 238,
     "metadata": {},
     "output_type": "execute_result"
    }
   ],
   "source": [
    "# 查看模型拟合的R方\n",
    "lr.score(x2,y)"
   ]
  },
  {
   "cell_type": "code",
   "execution_count": null,
   "metadata": {},
   "outputs": [],
   "source": []
  },
  {
   "cell_type": "markdown",
   "metadata": {},
   "source": [
    "### 改成多项式再重新进行拟合"
   ]
  },
  {
   "cell_type": "code",
   "execution_count": 256,
   "metadata": {},
   "outputs": [],
   "source": [
    "# 首先使用二项式进行拟合\n",
    "degree = 2"
   ]
  },
  {
   "cell_type": "code",
   "execution_count": 257,
   "metadata": {},
   "outputs": [],
   "source": [
    "# 实例化\n",
    "poly = PolynomialFeatures(degree=degree)"
   ]
  },
  {
   "cell_type": "code",
   "execution_count": 258,
   "metadata": {},
   "outputs": [],
   "source": [
    "# 转换数据\n",
    "x2_poly = poly.fit_transform(x2)"
   ]
  },
  {
   "cell_type": "code",
   "execution_count": 259,
   "metadata": {},
   "outputs": [],
   "source": [
    "# 实例化模型\n",
    "lr2 = LinearRegression()"
   ]
  },
  {
   "cell_type": "code",
   "execution_count": 260,
   "metadata": {},
   "outputs": [
    {
     "data": {
      "text/plain": [
       "LinearRegression(copy_X=True, fit_intercept=True, n_jobs=None, normalize=False)"
      ]
     },
     "execution_count": 260,
     "metadata": {},
     "output_type": "execute_result"
    }
   ],
   "source": [
    "lr2.fit(x2_poly, y)"
   ]
  },
  {
   "cell_type": "code",
   "execution_count": 261,
   "metadata": {},
   "outputs": [],
   "source": [
    "y_pred_2 = lr2.predict(x2_poly) # 计算预测值 用于绘制拟合图像"
   ]
  },
  {
   "cell_type": "code",
   "execution_count": 263,
   "metadata": {},
   "outputs": [
    {
     "data": {
      "image/png": "[encoded data removed]",
      "text/plain": [
       "<Figure size 576x396 with 1 Axes>"
      ]
     },
     "metadata": {},
     "output_type": "display_data"
    }
   ],
   "source": [
    "plt.plot(x,y_pred_2,'o') # 拟合出来的模型\n",
    "plt.plot(x,y, 'o') # 原来的数据点\n",
    "plt.show()"
   ]
  },
  {
   "cell_type": "code",
   "execution_count": 290,
   "metadata": {},
   "outputs": [],
   "source": []
  },
  {
   "cell_type": "code",
   "execution_count": null,
   "metadata": {},
   "outputs": [],
   "source": []
  },
  {
   "cell_type": "code",
   "execution_count": 302,
   "metadata": {},
   "outputs": [],
   "source": [
    "# 将上面的代码封装成函数\n",
    "def poly_linear_regression(degree, X, y):\n",
    "    \"\"\"参数说明:\n",
    "    degree: 构造多项式的位数\n",
    "    X : 数据的x\n",
    "    y : 数据的y\"\"\"\n",
    "    # 实例化\n",
    "    poly = PolynomialFeatures(degree=degree)\n",
    "    # 转换数据\n",
    "    x2_poly = poly.fit_transform(x2)\n",
    "    # 实例化模型\n",
    "    lr2 = LinearRegression()\n",
    "    lr2.fit(x2_poly, y)\n",
    "    y_pred_2 = lr2.predict(x2_poly) # 计算预测值 用于绘制拟合图像\n",
    "    # 打印出模型当前的R方\n",
    "    print('当前模型的R方值为:',lr2.score(x2_poly , y))\n",
    "    # 画图\n",
    "    plt.plot(x,y_pred_2,'o') # 拟合出来的模型\n",
    "    plt.plot(x,y, 'o') # 原来的数据点\n",
    "    # 画出原来的sin图像进行对比\n",
    "    y_sin = np.sin(x)\n",
    "    plt.plot(x,y_sin,'o')\n",
    "    plt.show()\n",
    "    # 将模型返回出函数外面\n",
    "    return lr2"
   ]
  },
  {
   "cell_type": "code",
   "execution_count": 303,
   "metadata": {},
   "outputs": [
    {
     "name": "stdout",
     "output_type": "stream",
     "text": [
      "当前模型的R方值为: 0.8083150151173791\n"
     ]
    },
    {
     "data": {
      "image/png": "[encoded data removed]",
      "text/plain": [
       "<Figure size 576x396 with 1 Axes>"
      ]
     },
     "metadata": {},
     "output_type": "display_data"
    }
   ],
   "source": [
    "lr_k = poly_linear_regression(3,x2,y)"
   ]
  },
  {
   "cell_type": "code",
   "execution_count": 305,
   "metadata": {},
   "outputs": [
    {
     "data": {
      "text/plain": [
       "array([ 0.        ,  0.89517906, -0.0010568 , -0.10612829])"
      ]
     },
     "execution_count": 305,
     "metadata": {},
     "output_type": "execute_result"
    }
   ],
   "source": [
    "lr_k.coef_"
   ]
  },
  {
   "cell_type": "code",
   "execution_count": 306,
   "metadata": {
    "collapsed": true
   },
   "outputs": [
    {
     "data": {
      "text/plain": [
       "array([ 0.25937969,  0.92574904,  0.52661212,  0.23887998, -0.39999518,\n",
       "        0.71158458, -0.32973043,  0.72152003,  0.1998636 , -0.59015119,\n",
       "        0.99506483,  0.1545833 ,  0.35801921,  0.51389468, -0.50289514,\n",
       "       -0.61185806, -0.05605435,  0.93961937,  0.99816435,  0.82217119,\n",
       "        0.05162219,  0.99025475, -0.20560054,  0.99814053, -0.78156971,\n",
       "        0.68795072, -0.88110982,  0.36763253,  0.11706951, -0.44429811,\n",
       "       -0.96750168,  0.99773186, -0.23361149,  0.35998377, -0.04112002,\n",
       "        0.59393313,  0.5692519 ,  0.59083481,  0.37519776,  0.83756326,\n",
       "       -0.69166168, -0.33256478,  0.88313699, -0.4211756 ,  0.78834505,\n",
       "        0.80151811, -1.00206173, -0.82774597, -0.84841193, -0.67457974,\n",
       "        0.36885952, -0.32454611, -0.05298058, -0.69973458, -1.00145861,\n",
       "       -0.93335112,  0.7391697 , -0.98321085, -0.18007656, -0.99256753,\n",
       "       -0.92740914, -0.74349824,  0.75113525, -0.86317751, -0.99310579,\n",
       "       -0.6537693 ,  0.96276046, -0.6719773 ,  0.92696801, -0.66618206,\n",
       "        0.07391962, -0.16767305,  0.07082277,  0.53623654,  0.96917489,\n",
       "       -0.24177523, -0.93344141, -0.79033677, -0.90224439, -0.78365463,\n",
       "       -0.84055464, -0.44624241, -0.45162905,  0.86898792,  0.35072601,\n",
       "       -0.96617353,  0.1245349 , -0.65352311,  0.39759546,  0.48721764,\n",
       "       -0.8387301 ,  0.79055945, -0.83919899,  0.92820327, -0.9186419 ,\n",
       "       -0.9768433 ,  0.44947974, -0.05490034,  0.94760242,  0.11350706])"
      ]
     },
     "execution_count": 306,
     "metadata": {},
     "output_type": "execute_result"
    }
   ],
   "source": [
    "# 拟合出来的模型是\n",
    "y_k =  0.895 * x  -0.001 * x**2 - 0.106 * x**3\n",
    "y_k"
   ]
  },
  {
   "cell_type": "code",
   "execution_count": null,
   "metadata": {},
   "outputs": [],
   "source": [
    "# 0.895 * x  -0.001 * x**2 - 0.106 * x**3\n",
    "# 可以 近似等效于 sinx "
   ]
  },
  {
   "cell_type": "code",
   "execution_count": 308,
   "metadata": {},
   "outputs": [
    {
     "data": {
      "text/plain": [
       "[<matplotlib.lines.Line2D at 0x1a2e799550>]"
      ]
     },
     "execution_count": 308,
     "metadata": {},
     "output_type": "execute_result"
    },
    {
     "data": {
      "image/png": "[encoded data removed]",
      "text/plain": [
       "<Figure size 576x396 with 1 Axes>"
      ]
     },
     "metadata": {},
     "output_type": "display_data"
    }
   ],
   "source": [
    "plt.plot(x,y_k,'o')"
   ]
  },
  {
   "cell_type": "code",
   "execution_count": null,
   "metadata": {},
   "outputs": [],
   "source": []
  },
  {
   "cell_type": "markdown",
   "metadata": {},
   "source": [
    "### 多项式拟合的过程\n",
    "\n",
    "当标签和数据之间的关系不是线性关系的时候, 那么我们就想办法增加模型复杂度.\n",
    "\n",
    "当模型复杂度增加之后,我们就可以构造出更加复杂的模型,来对数据进行拟合, 这时就可以\n",
    "\n",
    "拟合非线性关系了."
   ]
  },
  {
   "cell_type": "code",
   "execution_count": null,
   "metadata": {},
   "outputs": [],
   "source": []
  },
  {
   "cell_type": "markdown",
   "metadata": {},
   "source": [
    "## 多项式回归在房价数据集中的应用"
   ]
  },
  {
   "cell_type": "code",
   "execution_count": 309,
   "metadata": {
    "collapsed": true
   },
   "outputs": [
    {
     "data": {
      "text/html": [
       "<div>\n",
       "<style scoped>\n",
       "    .dataframe tbody tr th:only-of-type {\n",
       "        vertical-align: middle;\n",
       "    }\n",
       "\n",
       "    .dataframe tbody tr th {\n",
       "        vertical-align: top;\n",
       "    }\n",
       "\n",
       "    .dataframe thead th {\n",
       "        text-align: right;\n",
       "    }\n",
       "</style>\n",
       "<table border=\"1\" class=\"dataframe\">\n",
       "  <thead>\n",
       "    <tr style=\"text-align: right;\">\n",
       "      <th></th>\n",
       "      <th>MedInc</th>\n",
       "      <th>HouseAge</th>\n",
       "      <th>AveRooms</th>\n",
       "      <th>AveBedrms</th>\n",
       "      <th>Population</th>\n",
       "      <th>AveOccup</th>\n",
       "      <th>Latitude</th>\n",
       "      <th>Longitude</th>\n",
       "    </tr>\n",
       "  </thead>\n",
       "  <tbody>\n",
       "    <tr>\n",
       "      <td>17239</td>\n",
       "      <td>2.5104</td>\n",
       "      <td>30.0</td>\n",
       "      <td>3.916923</td>\n",
       "      <td>1.055385</td>\n",
       "      <td>1082.0</td>\n",
       "      <td>3.329231</td>\n",
       "      <td>34.43</td>\n",
       "      <td>-119.69</td>\n",
       "    </tr>\n",
       "    <tr>\n",
       "      <td>850</td>\n",
       "      <td>3.7462</td>\n",
       "      <td>15.0</td>\n",
       "      <td>4.900314</td>\n",
       "      <td>0.999215</td>\n",
       "      <td>3163.0</td>\n",
       "      <td>2.482732</td>\n",
       "      <td>37.59</td>\n",
       "      <td>-122.05</td>\n",
       "    </tr>\n",
       "    <tr>\n",
       "      <td>13502</td>\n",
       "      <td>2.4444</td>\n",
       "      <td>36.0</td>\n",
       "      <td>6.154122</td>\n",
       "      <td>1.247312</td>\n",
       "      <td>1054.0</td>\n",
       "      <td>3.777778</td>\n",
       "      <td>34.16</td>\n",
       "      <td>-117.35</td>\n",
       "    </tr>\n",
       "    <tr>\n",
       "      <td>2756</td>\n",
       "      <td>1.5931</td>\n",
       "      <td>18.0</td>\n",
       "      <td>3.929654</td>\n",
       "      <td>0.988095</td>\n",
       "      <td>3565.0</td>\n",
       "      <td>3.858225</td>\n",
       "      <td>32.68</td>\n",
       "      <td>-115.50</td>\n",
       "    </tr>\n",
       "    <tr>\n",
       "      <td>184</td>\n",
       "      <td>2.3929</td>\n",
       "      <td>52.0</td>\n",
       "      <td>4.471429</td>\n",
       "      <td>1.067857</td>\n",
       "      <td>844.0</td>\n",
       "      <td>3.014286</td>\n",
       "      <td>37.80</td>\n",
       "      <td>-122.23</td>\n",
       "    </tr>\n",
       "    <tr>\n",
       "      <td>...</td>\n",
       "      <td>...</td>\n",
       "      <td>...</td>\n",
       "      <td>...</td>\n",
       "      <td>...</td>\n",
       "      <td>...</td>\n",
       "      <td>...</td>\n",
       "      <td>...</td>\n",
       "      <td>...</td>\n",
       "    </tr>\n",
       "    <tr>\n",
       "      <td>10654</td>\n",
       "      <td>3.8750</td>\n",
       "      <td>16.0</td>\n",
       "      <td>4.000000</td>\n",
       "      <td>1.000000</td>\n",
       "      <td>15.0</td>\n",
       "      <td>3.000000</td>\n",
       "      <td>33.67</td>\n",
       "      <td>-117.86</td>\n",
       "    </tr>\n",
       "    <tr>\n",
       "      <td>8262</td>\n",
       "      <td>3.1149</td>\n",
       "      <td>45.0</td>\n",
       "      <td>3.715026</td>\n",
       "      <td>1.110535</td>\n",
       "      <td>1047.0</td>\n",
       "      <td>1.808290</td>\n",
       "      <td>33.77</td>\n",
       "      <td>-118.17</td>\n",
       "    </tr>\n",
       "    <tr>\n",
       "      <td>2878</td>\n",
       "      <td>0.9951</td>\n",
       "      <td>42.0</td>\n",
       "      <td>3.963211</td>\n",
       "      <td>1.197324</td>\n",
       "      <td>1038.0</td>\n",
       "      <td>3.471572</td>\n",
       "      <td>35.38</td>\n",
       "      <td>-118.97</td>\n",
       "    </tr>\n",
       "    <tr>\n",
       "      <td>7597</td>\n",
       "      <td>2.1838</td>\n",
       "      <td>32.0</td>\n",
       "      <td>4.057348</td>\n",
       "      <td>0.953405</td>\n",
       "      <td>1211.0</td>\n",
       "      <td>4.340502</td>\n",
       "      <td>33.89</td>\n",
       "      <td>-118.24</td>\n",
       "    </tr>\n",
       "    <tr>\n",
       "      <td>10114</td>\n",
       "      <td>2.2156</td>\n",
       "      <td>26.0</td>\n",
       "      <td>3.773077</td>\n",
       "      <td>1.038462</td>\n",
       "      <td>1236.0</td>\n",
       "      <td>2.376923</td>\n",
       "      <td>33.94</td>\n",
       "      <td>-117.94</td>\n",
       "    </tr>\n",
       "  </tbody>\n",
       "</table>\n",
       "<p>14448 rows × 8 columns</p>\n",
       "</div>"
      ],
      "text/plain": [
       "       MedInc  HouseAge  AveRooms  AveBedrms  Population  AveOccup  Latitude  \\\n",
       "17239  2.5104      30.0  3.916923   1.055385      1082.0  3.329231     34.43   \n",
       "850    3.7462      15.0  4.900314   0.999215      3163.0  2.482732     37.59   \n",
       "13502  2.4444      36.0  6.154122   1.247312      1054.0  3.777778     34.16   \n",
       "2756   1.5931      18.0  3.929654   0.988095      3565.0  3.858225     32.68   \n",
       "184    2.3929      52.0  4.471429   1.067857       844.0  3.014286     37.80   \n",
       "...       ...       ...       ...        ...         ...       ...       ...   \n",
       "10654  3.8750      16.0  4.000000   1.000000        15.0  3.000000     33.67   \n",
       "8262   3.1149      45.0  3.715026   1.110535      1047.0  1.808290     33.77   \n",
       "2878   0.9951      42.0  3.963211   1.197324      1038.0  3.471572     35.38   \n",
       "7597   2.1838      32.0  4.057348   0.953405      1211.0  4.340502     33.89   \n",
       "10114  2.2156      26.0  3.773077   1.038462      1236.0  2.376923     33.94   \n",
       "\n",
       "       Longitude  \n",
       "17239    -119.69  \n",
       "850      -122.05  \n",
       "13502    -117.35  \n",
       "2756     -115.50  \n",
       "184      -122.23  \n",
       "...          ...  \n",
       "10654    -117.86  \n",
       "8262     -118.17  \n",
       "2878     -118.97  \n",
       "7597     -118.24  \n",
       "10114    -117.94  \n",
       "\n",
       "[14448 rows x 8 columns]"
      ]
     },
     "execution_count": 309,
     "metadata": {},
     "output_type": "execute_result"
    }
   ],
   "source": [
    "X_train"
   ]
  },
  {
   "cell_type": "code",
   "execution_count": 310,
   "metadata": {},
   "outputs": [
    {
     "data": {
      "text/plain": [
       "array([2.281, 2.125, 0.734, ..., 0.48 , 0.983, 1.45 ])"
      ]
     },
     "execution_count": 310,
     "metadata": {},
     "output_type": "execute_result"
    }
   ],
   "source": [
    "y_train"
   ]
  },
  {
   "cell_type": "markdown",
   "metadata": {},
   "source": [
    "### 采用多项式方法进行建模"
   ]
  },
  {
   "cell_type": "code",
   "execution_count": 370,
   "metadata": {},
   "outputs": [],
   "source": [
    "poly2 = PolynomialFeatures(degree=2)"
   ]
  },
  {
   "cell_type": "code",
   "execution_count": 371,
   "metadata": {},
   "outputs": [
    {
     "data": {
      "text/plain": [
       "array([[ 1.00000000e+00,  2.51040000e+00,  3.00000000e+01, ...,\n",
       "         1.18542490e+03, -4.12092670e+03,  1.43256961e+04],\n",
       "       [ 1.00000000e+00,  3.74620000e+00,  1.50000000e+01, ...,\n",
       "         1.41300810e+03, -4.58785950e+03,  1.48962025e+04],\n",
       "       [ 1.00000000e+00,  2.44440000e+00,  3.60000000e+01, ...,\n",
       "         1.16690560e+03, -4.00867600e+03,  1.37710225e+04],\n",
       "       ...,\n",
       "       [ 1.00000000e+00,  9.95100000e-01,  4.20000000e+01, ...,\n",
       "         1.25174440e+03, -4.20915860e+03,  1.41538609e+04],\n",
       "       [ 1.00000000e+00,  2.18380000e+00,  3.20000000e+01, ...,\n",
       "         1.14853210e+03, -4.00715360e+03,  1.39806976e+04],\n",
       "       [ 1.00000000e+00,  2.21560000e+00,  2.60000000e+01, ...,\n",
       "         1.15192360e+03, -4.00288360e+03,  1.39098436e+04]])"
      ]
     },
     "execution_count": 371,
     "metadata": {},
     "output_type": "execute_result"
    }
   ],
   "source": [
    "# 转换数据\n",
    "X_train_poly = poly2.fit_transform(X_train)\n",
    "X_train_poly"
   ]
  },
  {
   "cell_type": "code",
   "execution_count": 372,
   "metadata": {},
   "outputs": [
    {
     "data": {
      "text/plain": [
       "(14448, 8)"
      ]
     },
     "execution_count": 372,
     "metadata": {},
     "output_type": "execute_result"
    }
   ],
   "source": [
    "# 原来有8个特征\n",
    "X_train.shape"
   ]
  },
  {
   "cell_type": "code",
   "execution_count": 373,
   "metadata": {},
   "outputs": [
    {
     "data": {
      "text/plain": [
       "(14448, 45)"
      ]
     },
     "execution_count": 373,
     "metadata": {},
     "output_type": "execute_result"
    }
   ],
   "source": [
    "# 二阶多项式组合之后 变成 45个\n",
    "X_train_poly.shape"
   ]
  },
  {
   "cell_type": "code",
   "execution_count": 374,
   "metadata": {},
   "outputs": [
    {
     "name": "stdout",
     "output_type": "stream",
     "text": [
      "['1', 'x0', 'x1', 'x2', 'x3', 'x4', 'x5', 'x6', 'x7', 'x0^2', 'x0 x1', 'x0 x2', 'x0 x3', 'x0 x4', 'x0 x5', 'x0 x6', 'x0 x7', 'x1^2', 'x1 x2', 'x1 x3', 'x1 x4', 'x1 x5', 'x1 x6', 'x1 x7', 'x2^2', 'x2 x3', 'x2 x4', 'x2 x5', 'x2 x6', 'x2 x7', 'x3^2', 'x3 x4', 'x3 x5', 'x3 x6', 'x3 x7', 'x4^2', 'x4 x5', 'x4 x6', 'x4 x7', 'x5^2', 'x5 x6', 'x5 x7', 'x6^2', 'x6 x7', 'x7^2']\n"
     ]
    }
   ],
   "source": [
    "# 组合出来的特征是怎么来的\n",
    "print(poly2.get_feature_names())"
   ]
  },
  {
   "cell_type": "code",
   "execution_count": 375,
   "metadata": {},
   "outputs": [],
   "source": [
    "\"\"\"\n",
    "特征解释\n",
    "MedInc：该街区住户的收入中位数\n",
    "HouseAge：该街区房屋使用年代的中位数\n",
    "AveRooms：该街区平均的房间数目\n",
    "AveBedrms：该街区平均的卧室数目\n",
    "Population：街区人口\n",
    "AveOccup：平均入住率\n",
    "Latitude：街区的纬度\n",
    "Longitude：街区的经度\n",
    "\"\"\";"
   ]
  },
  {
   "cell_type": "code",
   "execution_count": 376,
   "metadata": {},
   "outputs": [
    {
     "data": {
      "text/plain": [
       "Index(['MedInc', 'HouseAge', 'AveRooms', 'AveBedrms', 'Population', 'AveOccup',\n",
       "       'Latitude', 'Longitude'],\n",
       "      dtype='object')"
      ]
     },
     "execution_count": 376,
     "metadata": {},
     "output_type": "execute_result"
    }
   ],
   "source": [
    "X_train.columns"
   ]
  },
  {
   "cell_type": "code",
   "execution_count": 377,
   "metadata": {},
   "outputs": [],
   "source": [
    "chinese_columns = [\"住户收入中位数\",\"房屋使用年代中位数\",\"平均房间数目\"\n",
    "            ,\"平均卧室数目\",\"街区人口\",\"平均入住率\",\"街区的纬度\",\"街区的经度\"]"
   ]
  },
  {
   "cell_type": "code",
   "execution_count": 378,
   "metadata": {
    "collapsed": true
   },
   "outputs": [
    {
     "data": {
      "text/plain": [
       "['1',\n",
       " '住户收入中位数',\n",
       " '房屋使用年代中位数',\n",
       " '平均房间数目',\n",
       " '平均卧室数目',\n",
       " '街区人口',\n",
       " '平均入住率',\n",
       " '街区的纬度',\n",
       " '街区的经度',\n",
       " '住户收入中位数^2',\n",
       " '住户收入中位数 房屋使用年代中位数',\n",
       " '住户收入中位数 平均房间数目',\n",
       " '住户收入中位数 平均卧室数目',\n",
       " '住户收入中位数 街区人口',\n",
       " '住户收入中位数 平均入住率',\n",
       " '住户收入中位数 街区的纬度',\n",
       " '住户收入中位数 街区的经度',\n",
       " '房屋使用年代中位数^2',\n",
       " '房屋使用年代中位数 平均房间数目',\n",
       " '房屋使用年代中位数 平均卧室数目',\n",
       " '房屋使用年代中位数 街区人口',\n",
       " '房屋使用年代中位数 平均入住率',\n",
       " '房屋使用年代中位数 街区的纬度',\n",
       " '房屋使用年代中位数 街区的经度',\n",
       " '平均房间数目^2',\n",
       " '平均房间数目 平均卧室数目',\n",
       " '平均房间数目 街区人口',\n",
       " '平均房间数目 平均入住率',\n",
       " '平均房间数目 街区的纬度',\n",
       " '平均房间数目 街区的经度',\n",
       " '平均卧室数目^2',\n",
       " '平均卧室数目 街区人口',\n",
       " '平均卧室数目 平均入住率',\n",
       " '平均卧室数目 街区的纬度',\n",
       " '平均卧室数目 街区的经度',\n",
       " '街区人口^2',\n",
       " '街区人口 平均入住率',\n",
       " '街区人口 街区的纬度',\n",
       " '街区人口 街区的经度',\n",
       " '平均入住率^2',\n",
       " '平均入住率 街区的纬度',\n",
       " '平均入住率 街区的经度',\n",
       " '街区的纬度^2',\n",
       " '街区的纬度 街区的经度',\n",
       " '街区的经度^2']"
      ]
     },
     "execution_count": 378,
     "metadata": {},
     "output_type": "execute_result"
    }
   ],
   "source": [
    "# 组合出来的特征是怎么来的\n",
    "# 会用你传进来的8个特征名称代替原来的 x0 x1 ....\n",
    "poly2.get_feature_names(input_features=chinese_columns)"
   ]
  },
  {
   "cell_type": "code",
   "execution_count": 379,
   "metadata": {},
   "outputs": [],
   "source": [
    "# 对测试集也进行转换\n",
    "X_test_poly = poly2.transform(X_test)"
   ]
  },
  {
   "cell_type": "code",
   "execution_count": 325,
   "metadata": {},
   "outputs": [
    {
     "data": {
      "text/plain": [
       "(6192, 45)"
      ]
     },
     "execution_count": 325,
     "metadata": {},
     "output_type": "execute_result"
    }
   ],
   "source": [
    "X_test_poly.shape"
   ]
  },
  {
   "cell_type": "code",
   "execution_count": 380,
   "metadata": {},
   "outputs": [],
   "source": [
    "# 进行数据标准化\n",
    "std = StandardScaler()"
   ]
  },
  {
   "cell_type": "code",
   "execution_count": 381,
   "metadata": {},
   "outputs": [],
   "source": [
    "# 训练集标准化\n",
    "X_train_poly_std = std.fit_transform(X_train_poly)"
   ]
  },
  {
   "cell_type": "code",
   "execution_count": 382,
   "metadata": {},
   "outputs": [],
   "source": [
    "# 测试集标准化\n",
    "X_test_poly_std = std.transform(X_test_poly)"
   ]
  },
  {
   "cell_type": "code",
   "execution_count": 383,
   "metadata": {},
   "outputs": [],
   "source": [
    "# 建模\n",
    "lr = LinearRegression()"
   ]
  },
  {
   "cell_type": "code",
   "execution_count": 384,
   "metadata": {},
   "outputs": [
    {
     "data": {
      "text/plain": [
       "LinearRegression(copy_X=True, fit_intercept=True, n_jobs=None, normalize=False)"
      ]
     },
     "execution_count": 384,
     "metadata": {},
     "output_type": "execute_result"
    }
   ],
   "source": [
    "lr.fit(X_train_poly_std,y_train)"
   ]
  },
  {
   "cell_type": "code",
   "execution_count": 385,
   "metadata": {},
   "outputs": [
    {
     "data": {
      "text/plain": [
       "0.6941183755260787"
      ]
     },
     "execution_count": 385,
     "metadata": {},
     "output_type": "execute_result"
    }
   ],
   "source": [
    "# 查看模型效果\n",
    "# 训练集上面的R方\n",
    "lr.score(X_train_poly_std , y_train)"
   ]
  },
  {
   "cell_type": "code",
   "execution_count": 386,
   "metadata": {},
   "outputs": [
    {
     "data": {
      "text/plain": [
       "0.5666649466555229"
      ]
     },
     "execution_count": 386,
     "metadata": {},
     "output_type": "execute_result"
    }
   ],
   "source": [
    "lr.score(X_test_poly_std , y_test) # 测试集R方"
   ]
  },
  {
   "cell_type": "code",
   "execution_count": null,
   "metadata": {},
   "outputs": [],
   "source": []
  },
  {
   "cell_type": "markdown",
   "metadata": {},
   "source": [
    "### 当我们构造多项式之后,线性回归模型的可解释性是否还存在呢?"
   ]
  },
  {
   "cell_type": "code",
   "execution_count": 387,
   "metadata": {
    "collapsed": true
   },
   "outputs": [
    {
     "data": {
      "text/plain": [
       "array([ 2.64675828e-13, -2.30134670e+01, -1.06372925e+01,  1.83674827e+01,\n",
       "       -1.58439785e+01,  1.57836827e+00, -1.76043710e+01,  1.46849571e+01,\n",
       "        8.82447530e+00, -7.56721076e-01,  1.06035017e-01,  9.59557640e-01,\n",
       "       -5.02345665e-01,  3.42406491e-01, -1.58787423e+00, -1.05773367e+01,\n",
       "       -3.48058755e+01,  1.75382869e-01, -9.87447893e-02,  1.86227410e-01,\n",
       "        7.48233135e-02, -2.18627322e+00, -4.75046045e+00, -1.53441811e+01,\n",
       "        1.22716268e+00, -3.15048552e+00, -5.01082119e-01,  4.00147909e-01,\n",
       "        8.24993525e+00,  2.66829049e+01,  1.90533334e+00,  6.10463695e-01,\n",
       "       -4.92227386e-01, -7.61021337e+00, -2.33330551e+01,  3.46636294e-02,\n",
       "        3.53394551e+00,  1.08913076e+00,  3.30296241e+00,  2.32885326e-01,\n",
       "        1.16939652e+01, -6.00149599e+00,  7.89632962e+00,  2.80685926e+01,\n",
       "        1.46057595e+01])"
      ]
     },
     "execution_count": 387,
     "metadata": {},
     "output_type": "execute_result"
    }
   ],
   "source": [
    "# 模型系数\n",
    "lr.coef_"
   ]
  },
  {
   "cell_type": "code",
   "execution_count": 389,
   "metadata": {
    "collapsed": true
   },
   "outputs": [
    {
     "data": {
      "text/plain": [
       "['1',\n",
       " '住户收入中位数',\n",
       " '房屋使用年代中位数',\n",
       " '平均房间数目',\n",
       " '平均卧室数目',\n",
       " '街区人口',\n",
       " '平均入住率',\n",
       " '街区的纬度',\n",
       " '街区的经度',\n",
       " '住户收入中位数^2',\n",
       " '住户收入中位数 房屋使用年代中位数',\n",
       " '住户收入中位数 平均房间数目',\n",
       " '住户收入中位数 平均卧室数目',\n",
       " '住户收入中位数 街区人口',\n",
       " '住户收入中位数 平均入住率',\n",
       " '住户收入中位数 街区的纬度',\n",
       " '住户收入中位数 街区的经度',\n",
       " '房屋使用年代中位数^2',\n",
       " '房屋使用年代中位数 平均房间数目',\n",
       " '房屋使用年代中位数 平均卧室数目',\n",
       " '房屋使用年代中位数 街区人口',\n",
       " '房屋使用年代中位数 平均入住率',\n",
       " '房屋使用年代中位数 街区的纬度',\n",
       " '房屋使用年代中位数 街区的经度',\n",
       " '平均房间数目^2',\n",
       " '平均房间数目 平均卧室数目',\n",
       " '平均房间数目 街区人口',\n",
       " '平均房间数目 平均入住率',\n",
       " '平均房间数目 街区的纬度',\n",
       " '平均房间数目 街区的经度',\n",
       " '平均卧室数目^2',\n",
       " '平均卧室数目 街区人口',\n",
       " '平均卧室数目 平均入住率',\n",
       " '平均卧室数目 街区的纬度',\n",
       " '平均卧室数目 街区的经度',\n",
       " '街区人口^2',\n",
       " '街区人口 平均入住率',\n",
       " '街区人口 街区的纬度',\n",
       " '街区人口 街区的经度',\n",
       " '平均入住率^2',\n",
       " '平均入住率 街区的纬度',\n",
       " '平均入住率 街区的经度',\n",
       " '街区的纬度^2',\n",
       " '街区的纬度 街区的经度',\n",
       " '街区的经度^2']"
      ]
     },
     "execution_count": 389,
     "metadata": {},
     "output_type": "execute_result"
    }
   ],
   "source": [
    "# 对应的45个特征\n",
    "poly2.get_feature_names(input_features=chinese_columns)"
   ]
  },
  {
   "cell_type": "code",
   "execution_count": 390,
   "metadata": {
    "collapsed": true
   },
   "outputs": [
    {
     "data": {
      "text/plain": [
       "[('1', 2.6467582818373053e-13),\n",
       " ('住户收入中位数', -23.013466954374863),\n",
       " ('房屋使用年代中位数', -10.637292494523042),\n",
       " ('平均房间数目', 18.36748266927482),\n",
       " ('平均卧室数目', -15.843978459866928),\n",
       " ('街区人口', 1.578368267650643),\n",
       " ('平均入住率', -17.604371002953265),\n",
       " ('街区的纬度', 14.684957148772542),\n",
       " ('街区的经度', 8.824475299073624),\n",
       " ('住户收入中位数^2', -0.756721075542027),\n",
       " ('住户收入中位数 房屋使用年代中位数', 0.10603501699766246),\n",
       " ('住户收入中位数 平均房间数目', 0.9595576395161951),\n",
       " ('住户收入中位数 平均卧室数目', -0.5023456649573425),\n",
       " ('住户收入中位数 街区人口', 0.34240649139029944),\n",
       " ('住户收入中位数 平均入住率', -1.5878742278211704),\n",
       " ('住户收入中位数 街区的纬度', -10.577336694600145),\n",
       " ('住户收入中位数 街区的经度', -34.80587553973978),\n",
       " ('房屋使用年代中位数^2', 0.17538286881270196),\n",
       " ('房屋使用年代中位数 平均房间数目', -0.09874478932746308),\n",
       " ('房屋使用年代中位数 平均卧室数目', 0.18622741043289845),\n",
       " ('房屋使用年代中位数 街区人口', 0.07482331354362837),\n",
       " ('房屋使用年代中位数 平均入住率', -2.186273217169764),\n",
       " ('房屋使用年代中位数 街区的纬度', -4.750460448173012),\n",
       " ('房屋使用年代中位数 街区的经度', -15.344181057523974),\n",
       " ('平均房间数目^2', 1.227162676111985),\n",
       " ('平均房间数目 平均卧室数目', -3.1504855209708866),\n",
       " ('平均房间数目 街区人口', -0.5010821187995615),\n",
       " ('平均房间数目 平均入住率', 0.40014790920644244),\n",
       " ('平均房间数目 街区的纬度', 8.249935253109873),\n",
       " ('平均房间数目 街区的经度', 26.682904919671337),\n",
       " ('平均卧室数目^2', 1.905333335265085),\n",
       " ('平均卧室数目 街区人口', 0.6104636953654318),\n",
       " ('平均卧室数目 平均入住率', -0.49222738590541504),\n",
       " ('平均卧室数目 街区的纬度', -7.610213368380121),\n",
       " ('平均卧室数目 街区的经度', -23.33305508336901),\n",
       " ('街区人口^2', 0.034663629368835),\n",
       " ('街区人口 平均入住率', 3.5339455095381873),\n",
       " ('街区人口 街区的纬度', 1.0891307620170438),\n",
       " ('街区人口 街区的经度', 3.302962405882121),\n",
       " ('平均入住率^2', 0.23288532609024704),\n",
       " ('平均入住率 街区的纬度', 11.693965246407128),\n",
       " ('平均入住率 街区的经度', -6.001495990179664),\n",
       " ('街区的纬度^2', 7.896329618754947),\n",
       " ('街区的纬度 街区的经度', 28.06859258416147),\n",
       " ('街区的经度^2', 14.605759538309265)]"
      ]
     },
     "execution_count": 390,
     "metadata": {},
     "output_type": "execute_result"
    }
   ],
   "source": [
    "# 使用zip函数打包\n",
    "list(zip(poly2.get_feature_names(input_features=chinese_columns), lr.coef_))"
   ]
  },
  {
   "cell_type": "code",
   "execution_count": 391,
   "metadata": {},
   "outputs": [],
   "source": [
    "temp = list(zip(poly2.get_feature_names(input_features=chinese_columns), lr.coef_))"
   ]
  },
  {
   "cell_type": "code",
   "execution_count": 392,
   "metadata": {
    "collapsed": true
   },
   "outputs": [
    {
     "data": {
      "text/plain": [
       "[('1', 2.6467582818373053e-13),\n",
       " ('住户收入中位数', -23.013466954374863),\n",
       " ('房屋使用年代中位数', -10.637292494523042),\n",
       " ('平均房间数目', 18.36748266927482),\n",
       " ('平均卧室数目', -15.843978459866928),\n",
       " ('街区人口', 1.578368267650643),\n",
       " ('平均入住率', -17.604371002953265),\n",
       " ('街区的纬度', 14.684957148772542),\n",
       " ('街区的经度', 8.824475299073624),\n",
       " ('住户收入中位数^2', -0.756721075542027),\n",
       " ('住户收入中位数 房屋使用年代中位数', 0.10603501699766246),\n",
       " ('住户收入中位数 平均房间数目', 0.9595576395161951),\n",
       " ('住户收入中位数 平均卧室数目', -0.5023456649573425),\n",
       " ('住户收入中位数 街区人口', 0.34240649139029944),\n",
       " ('住户收入中位数 平均入住率', -1.5878742278211704),\n",
       " ('住户收入中位数 街区的纬度', -10.577336694600145),\n",
       " ('住户收入中位数 街区的经度', -34.80587553973978),\n",
       " ('房屋使用年代中位数^2', 0.17538286881270196),\n",
       " ('房屋使用年代中位数 平均房间数目', -0.09874478932746308),\n",
       " ('房屋使用年代中位数 平均卧室数目', 0.18622741043289845),\n",
       " ('房屋使用年代中位数 街区人口', 0.07482331354362837),\n",
       " ('房屋使用年代中位数 平均入住率', -2.186273217169764),\n",
       " ('房屋使用年代中位数 街区的纬度', -4.750460448173012),\n",
       " ('房屋使用年代中位数 街区的经度', -15.344181057523974),\n",
       " ('平均房间数目^2', 1.227162676111985),\n",
       " ('平均房间数目 平均卧室数目', -3.1504855209708866),\n",
       " ('平均房间数目 街区人口', -0.5010821187995615),\n",
       " ('平均房间数目 平均入住率', 0.40014790920644244),\n",
       " ('平均房间数目 街区的纬度', 8.249935253109873),\n",
       " ('平均房间数目 街区的经度', 26.682904919671337),\n",
       " ('平均卧室数目^2', 1.905333335265085),\n",
       " ('平均卧室数目 街区人口', 0.6104636953654318),\n",
       " ('平均卧室数目 平均入住率', -0.49222738590541504),\n",
       " ('平均卧室数目 街区的纬度', -7.610213368380121),\n",
       " ('平均卧室数目 街区的经度', -23.33305508336901),\n",
       " ('街区人口^2', 0.034663629368835),\n",
       " ('街区人口 平均入住率', 3.5339455095381873),\n",
       " ('街区人口 街区的纬度', 1.0891307620170438),\n",
       " ('街区人口 街区的经度', 3.302962405882121),\n",
       " ('平均入住率^2', 0.23288532609024704),\n",
       " ('平均入住率 街区的纬度', 11.693965246407128),\n",
       " ('平均入住率 街区的经度', -6.001495990179664),\n",
       " ('街区的纬度^2', 7.896329618754947),\n",
       " ('街区的纬度 街区的经度', 28.06859258416147),\n",
       " ('街区的经度^2', 14.605759538309265)]"
      ]
     },
     "execution_count": 392,
     "metadata": {},
     "output_type": "execute_result"
    }
   ],
   "source": [
    "temp"
   ]
  },
  {
   "cell_type": "code",
   "execution_count": 395,
   "metadata": {},
   "outputs": [],
   "source": [
    "# 转换成DataFrame进行观察\n",
    "feature_coef = pd.DataFrame(temp ,columns=['特征名称','系数值'])"
   ]
  },
  {
   "cell_type": "code",
   "execution_count": 397,
   "metadata": {},
   "outputs": [
    {
     "data": {
      "text/html": [
       "<div>\n",
       "<style scoped>\n",
       "    .dataframe tbody tr th:only-of-type {\n",
       "        vertical-align: middle;\n",
       "    }\n",
       "\n",
       "    .dataframe tbody tr th {\n",
       "        vertical-align: top;\n",
       "    }\n",
       "\n",
       "    .dataframe thead th {\n",
       "        text-align: right;\n",
       "    }\n",
       "</style>\n",
       "<table border=\"1\" class=\"dataframe\">\n",
       "  <thead>\n",
       "    <tr style=\"text-align: right;\">\n",
       "      <th></th>\n",
       "      <th>特征名称</th>\n",
       "      <th>系数值</th>\n",
       "    </tr>\n",
       "  </thead>\n",
       "  <tbody>\n",
       "    <tr>\n",
       "      <td>43</td>\n",
       "      <td>街区的纬度 街区的经度</td>\n",
       "      <td>2.806859e+01</td>\n",
       "    </tr>\n",
       "    <tr>\n",
       "      <td>29</td>\n",
       "      <td>平均房间数目 街区的经度</td>\n",
       "      <td>2.668290e+01</td>\n",
       "    </tr>\n",
       "    <tr>\n",
       "      <td>3</td>\n",
       "      <td>平均房间数目</td>\n",
       "      <td>1.836748e+01</td>\n",
       "    </tr>\n",
       "    <tr>\n",
       "      <td>7</td>\n",
       "      <td>街区的纬度</td>\n",
       "      <td>1.468496e+01</td>\n",
       "    </tr>\n",
       "    <tr>\n",
       "      <td>44</td>\n",
       "      <td>街区的经度^2</td>\n",
       "      <td>1.460576e+01</td>\n",
       "    </tr>\n",
       "    <tr>\n",
       "      <td>40</td>\n",
       "      <td>平均入住率 街区的纬度</td>\n",
       "      <td>1.169397e+01</td>\n",
       "    </tr>\n",
       "    <tr>\n",
       "      <td>8</td>\n",
       "      <td>街区的经度</td>\n",
       "      <td>8.824475e+00</td>\n",
       "    </tr>\n",
       "    <tr>\n",
       "      <td>28</td>\n",
       "      <td>平均房间数目 街区的纬度</td>\n",
       "      <td>8.249935e+00</td>\n",
       "    </tr>\n",
       "    <tr>\n",
       "      <td>42</td>\n",
       "      <td>街区的纬度^2</td>\n",
       "      <td>7.896330e+00</td>\n",
       "    </tr>\n",
       "    <tr>\n",
       "      <td>36</td>\n",
       "      <td>街区人口 平均入住率</td>\n",
       "      <td>3.533946e+00</td>\n",
       "    </tr>\n",
       "    <tr>\n",
       "      <td>38</td>\n",
       "      <td>街区人口 街区的经度</td>\n",
       "      <td>3.302962e+00</td>\n",
       "    </tr>\n",
       "    <tr>\n",
       "      <td>30</td>\n",
       "      <td>平均卧室数目^2</td>\n",
       "      <td>1.905333e+00</td>\n",
       "    </tr>\n",
       "    <tr>\n",
       "      <td>5</td>\n",
       "      <td>街区人口</td>\n",
       "      <td>1.578368e+00</td>\n",
       "    </tr>\n",
       "    <tr>\n",
       "      <td>24</td>\n",
       "      <td>平均房间数目^2</td>\n",
       "      <td>1.227163e+00</td>\n",
       "    </tr>\n",
       "    <tr>\n",
       "      <td>37</td>\n",
       "      <td>街区人口 街区的纬度</td>\n",
       "      <td>1.089131e+00</td>\n",
       "    </tr>\n",
       "    <tr>\n",
       "      <td>11</td>\n",
       "      <td>住户收入中位数 平均房间数目</td>\n",
       "      <td>9.595576e-01</td>\n",
       "    </tr>\n",
       "    <tr>\n",
       "      <td>31</td>\n",
       "      <td>平均卧室数目 街区人口</td>\n",
       "      <td>6.104637e-01</td>\n",
       "    </tr>\n",
       "    <tr>\n",
       "      <td>27</td>\n",
       "      <td>平均房间数目 平均入住率</td>\n",
       "      <td>4.001479e-01</td>\n",
       "    </tr>\n",
       "    <tr>\n",
       "      <td>13</td>\n",
       "      <td>住户收入中位数 街区人口</td>\n",
       "      <td>3.424065e-01</td>\n",
       "    </tr>\n",
       "    <tr>\n",
       "      <td>39</td>\n",
       "      <td>平均入住率^2</td>\n",
       "      <td>2.328853e-01</td>\n",
       "    </tr>\n",
       "    <tr>\n",
       "      <td>19</td>\n",
       "      <td>房屋使用年代中位数 平均卧室数目</td>\n",
       "      <td>1.862274e-01</td>\n",
       "    </tr>\n",
       "    <tr>\n",
       "      <td>17</td>\n",
       "      <td>房屋使用年代中位数^2</td>\n",
       "      <td>1.753829e-01</td>\n",
       "    </tr>\n",
       "    <tr>\n",
       "      <td>10</td>\n",
       "      <td>住户收入中位数 房屋使用年代中位数</td>\n",
       "      <td>1.060350e-01</td>\n",
       "    </tr>\n",
       "    <tr>\n",
       "      <td>20</td>\n",
       "      <td>房屋使用年代中位数 街区人口</td>\n",
       "      <td>7.482331e-02</td>\n",
       "    </tr>\n",
       "    <tr>\n",
       "      <td>35</td>\n",
       "      <td>街区人口^2</td>\n",
       "      <td>3.466363e-02</td>\n",
       "    </tr>\n",
       "    <tr>\n",
       "      <td>0</td>\n",
       "      <td>1</td>\n",
       "      <td>2.646758e-13</td>\n",
       "    </tr>\n",
       "    <tr>\n",
       "      <td>18</td>\n",
       "      <td>房屋使用年代中位数 平均房间数目</td>\n",
       "      <td>-9.874479e-02</td>\n",
       "    </tr>\n",
       "    <tr>\n",
       "      <td>32</td>\n",
       "      <td>平均卧室数目 平均入住率</td>\n",
       "      <td>-4.922274e-01</td>\n",
       "    </tr>\n",
       "    <tr>\n",
       "      <td>26</td>\n",
       "      <td>平均房间数目 街区人口</td>\n",
       "      <td>-5.010821e-01</td>\n",
       "    </tr>\n",
       "    <tr>\n",
       "      <td>12</td>\n",
       "      <td>住户收入中位数 平均卧室数目</td>\n",
       "      <td>-5.023457e-01</td>\n",
       "    </tr>\n",
       "    <tr>\n",
       "      <td>9</td>\n",
       "      <td>住户收入中位数^2</td>\n",
       "      <td>-7.567211e-01</td>\n",
       "    </tr>\n",
       "    <tr>\n",
       "      <td>14</td>\n",
       "      <td>住户收入中位数 平均入住率</td>\n",
       "      <td>-1.587874e+00</td>\n",
       "    </tr>\n",
       "    <tr>\n",
       "      <td>21</td>\n",
       "      <td>房屋使用年代中位数 平均入住率</td>\n",
       "      <td>-2.186273e+00</td>\n",
       "    </tr>\n",
       "    <tr>\n",
       "      <td>25</td>\n",
       "      <td>平均房间数目 平均卧室数目</td>\n",
       "      <td>-3.150486e+00</td>\n",
       "    </tr>\n",
       "    <tr>\n",
       "      <td>22</td>\n",
       "      <td>房屋使用年代中位数 街区的纬度</td>\n",
       "      <td>-4.750460e+00</td>\n",
       "    </tr>\n",
       "    <tr>\n",
       "      <td>41</td>\n",
       "      <td>平均入住率 街区的经度</td>\n",
       "      <td>-6.001496e+00</td>\n",
       "    </tr>\n",
       "    <tr>\n",
       "      <td>33</td>\n",
       "      <td>平均卧室数目 街区的纬度</td>\n",
       "      <td>-7.610213e+00</td>\n",
       "    </tr>\n",
       "    <tr>\n",
       "      <td>15</td>\n",
       "      <td>住户收入中位数 街区的纬度</td>\n",
       "      <td>-1.057734e+01</td>\n",
       "    </tr>\n",
       "    <tr>\n",
       "      <td>2</td>\n",
       "      <td>房屋使用年代中位数</td>\n",
       "      <td>-1.063729e+01</td>\n",
       "    </tr>\n",
       "    <tr>\n",
       "      <td>23</td>\n",
       "      <td>房屋使用年代中位数 街区的经度</td>\n",
       "      <td>-1.534418e+01</td>\n",
       "    </tr>\n",
       "    <tr>\n",
       "      <td>4</td>\n",
       "      <td>平均卧室数目</td>\n",
       "      <td>-1.584398e+01</td>\n",
       "    </tr>\n",
       "    <tr>\n",
       "      <td>6</td>\n",
       "      <td>平均入住率</td>\n",
       "      <td>-1.760437e+01</td>\n",
       "    </tr>\n",
       "    <tr>\n",
       "      <td>1</td>\n",
       "      <td>住户收入中位数</td>\n",
       "      <td>-2.301347e+01</td>\n",
       "    </tr>\n",
       "    <tr>\n",
       "      <td>34</td>\n",
       "      <td>平均卧室数目 街区的经度</td>\n",
       "      <td>-2.333306e+01</td>\n",
       "    </tr>\n",
       "    <tr>\n",
       "      <td>16</td>\n",
       "      <td>住户收入中位数 街区的经度</td>\n",
       "      <td>-3.480588e+01</td>\n",
       "    </tr>\n",
       "  </tbody>\n",
       "</table>\n",
       "</div>"
      ],
      "text/plain": [
       "                 特征名称           系数值\n",
       "43        街区的纬度 街区的经度  2.806859e+01\n",
       "29       平均房间数目 街区的经度  2.668290e+01\n",
       "3              平均房间数目  1.836748e+01\n",
       "7               街区的纬度  1.468496e+01\n",
       "44            街区的经度^2  1.460576e+01\n",
       "40        平均入住率 街区的纬度  1.169397e+01\n",
       "8               街区的经度  8.824475e+00\n",
       "28       平均房间数目 街区的纬度  8.249935e+00\n",
       "42            街区的纬度^2  7.896330e+00\n",
       "36         街区人口 平均入住率  3.533946e+00\n",
       "38         街区人口 街区的经度  3.302962e+00\n",
       "30           平均卧室数目^2  1.905333e+00\n",
       "5                街区人口  1.578368e+00\n",
       "24           平均房间数目^2  1.227163e+00\n",
       "37         街区人口 街区的纬度  1.089131e+00\n",
       "11     住户收入中位数 平均房间数目  9.595576e-01\n",
       "31        平均卧室数目 街区人口  6.104637e-01\n",
       "27       平均房间数目 平均入住率  4.001479e-01\n",
       "13       住户收入中位数 街区人口  3.424065e-01\n",
       "39            平均入住率^2  2.328853e-01\n",
       "19   房屋使用年代中位数 平均卧室数目  1.862274e-01\n",
       "17        房屋使用年代中位数^2  1.753829e-01\n",
       "10  住户收入中位数 房屋使用年代中位数  1.060350e-01\n",
       "20     房屋使用年代中位数 街区人口  7.482331e-02\n",
       "35             街区人口^2  3.466363e-02\n",
       "0                   1  2.646758e-13\n",
       "18   房屋使用年代中位数 平均房间数目 -9.874479e-02\n",
       "32       平均卧室数目 平均入住率 -4.922274e-01\n",
       "26        平均房间数目 街区人口 -5.010821e-01\n",
       "12     住户收入中位数 平均卧室数目 -5.023457e-01\n",
       "9           住户收入中位数^2 -7.567211e-01\n",
       "14      住户收入中位数 平均入住率 -1.587874e+00\n",
       "21    房屋使用年代中位数 平均入住率 -2.186273e+00\n",
       "25      平均房间数目 平均卧室数目 -3.150486e+00\n",
       "22    房屋使用年代中位数 街区的纬度 -4.750460e+00\n",
       "41        平均入住率 街区的经度 -6.001496e+00\n",
       "33       平均卧室数目 街区的纬度 -7.610213e+00\n",
       "15      住户收入中位数 街区的纬度 -1.057734e+01\n",
       "2           房屋使用年代中位数 -1.063729e+01\n",
       "23    房屋使用年代中位数 街区的经度 -1.534418e+01\n",
       "4              平均卧室数目 -1.584398e+01\n",
       "6               平均入住率 -1.760437e+01\n",
       "1             住户收入中位数 -2.301347e+01\n",
       "34       平均卧室数目 街区的经度 -2.333306e+01\n",
       "16      住户收入中位数 街区的经度 -3.480588e+01"
      ]
     },
     "execution_count": 397,
     "metadata": {},
     "output_type": "execute_result"
    }
   ],
   "source": [
    "# 通过系数值进行排序, 降序排列\n",
    "feature_coef.sort_values(by='系数值',ascending=False)"
   ]
  },
  {
   "cell_type": "markdown",
   "metadata": {},
   "source": [
    "线性回归是一个具有高解释性的模型，它能够对每个特征拟合出参数$w$以帮助我们理解每个特征对于标签的作用。\n",
    "\n",
    "当我们进行了多项式转换后，尽管我们还是形成形如线性回归的方程，但随着数据维度和多项式次数的上升，方程也变得异常复杂，我们可能无法一眼看出增维后的特征是由之前的什么特征组成的（之前我们都是肉眼看肉眼判断）。\n",
    "\n",
    "模型的解释性已经变得很差了, 只能简单的看出大概哪些特征在拟合过程中起到的作用比较大."
   ]
  },
  {
   "cell_type": "code",
   "execution_count": null,
   "metadata": {},
   "outputs": [],
   "source": []
  },
  {
   "cell_type": "code",
   "execution_count": null,
   "metadata": {},
   "outputs": [],
   "source": []
  },
  {
   "cell_type": "code",
   "execution_count": null,
   "metadata": {},
   "outputs": [],
   "source": []
  },
  {
   "cell_type": "code",
   "execution_count": null,
   "metadata": {},
   "outputs": [],
   "source": []
  },
  {
   "cell_type": "code",
   "execution_count": null,
   "metadata": {},
   "outputs": [],
   "source": []
  },
  {
   "cell_type": "code",
   "execution_count": null,
   "metadata": {},
   "outputs": [],
   "source": []
  },
  {
   "cell_type": "code",
   "execution_count": null,
   "metadata": {},
   "outputs": [],
   "source": []
  }
 ],
 "metadata": {
  "kernelspec": {
   "display_name": "Python 3",
   "language": "python",
   "name": "python3"
  },
  "language_info": {
   "codemirror_mode": {
    "name": "ipython",
    "version": 3
   },
   "file_extension": ".py",
   "mimetype": "text/x-python",
   "name": "python",
   "nbconvert_exporter": "python",
   "pygments_lexer": "ipython3",
   "version": "3.7.4"
  },
  "toc": {
   "base_numbering": 1,
   "nav_menu": {},
   "number_sections": true,
   "sideBar": true,
   "skip_h1_title": true,
   "title_cell": "目录",
   "title_sidebar": "目录",
   "toc_cell": true,
   "toc_position": {
    "height": "calc(100% - 180px)",
    "left": "10px",
    "top": "150px",
    "width": "230.39999389648438px"
   },
   "toc_section_display": true,
   "toc_window_display": true
  }
 },
 "nbformat": 4,
 "nbformat_minor": 2
}
